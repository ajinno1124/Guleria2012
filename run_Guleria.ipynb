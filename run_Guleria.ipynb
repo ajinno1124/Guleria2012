{
 "cells": [
  {
   "cell_type": "code",
   "execution_count": 35,
   "id": "a2284815",
   "metadata": {},
   "outputs": [
    {
     "name": "stdout",
     "output_type": "stream",
     "text": [
      "diffρ=(0.013069630726335628,0.013478148673110464,7.237279398804265e-5)\n",
      "1\n",
      "diffρ=(0.00164717437532368,0.0018371236501452456,1.3559402515138869e-6)\n",
      "2\n",
      "diffρ=(3.912358267604632e-5,9.18349504851497e-5,6.616732541631086e-7)\n",
      "3\n",
      "diffρ=(1.467918571703535e-5,9.574674088413662e-6,2.3711044478723298e-7)\n",
      "4\n",
      "diffρ=(1.0485700125252518e-6,2.1488342497606366e-6,9.27709532116054e-8)\n"
     ]
    },
    {
     "name": "stderr",
     "output_type": "stream",
     "text": [
      "WARNING: replacing module NuclParameters.\n",
      "WARNING: replacing module LambdaParameters.\n",
      "WARNING: replacing module MyLib.\n"
     ]
    }
   ],
   "source": [
    "include(\"Main.jl\")\n",
    "AN=AtomNum(2,6,1)\n",
    "NParamType=\"SLy4\"\n",
    "LParamType=\"HPL2\"\n",
    "OutPutFiles(AN,NParamType=NParamType,LParamType=LParamType)"
   ]
  },
  {
   "cell_type": "code",
   "execution_count": 36,
   "id": "1d633245",
   "metadata": {},
   "outputs": [
    {
     "name": "stdout",
     "output_type": "stream",
     "text": [
      "diffρ=(0.0020176363128664374,0.0020534370109392703,7.834756800831414e-6)\n",
      "1\n",
      "diffρ=(0.0003885224883682414,0.00038846922796106247,1.4064526614320843e-6)\n",
      "2\n",
      "diffρ=(7.85936001794951e-6,8.13367232327449e-6,9.331978321322921e-8)\n"
     ]
    },
    {
     "name": "stderr",
     "output_type": "stream",
     "text": [
      "WARNING: replacing module NuclParameters.\n",
      "WARNING: replacing module LambdaParameters.\n",
      "WARNING: replacing module MyLib.\n"
     ]
    }
   ],
   "source": [
    "include(\"Main.jl\")\n",
    "AN=AtomNum(4,4,1)\n",
    "NParamType=\"SLy4\"\n",
    "LParamType=\"HPL2\"\n",
    "OutPutFiles(AN,NParamType=NParamType,LParamType=LParamType)"
   ]
  },
  {
   "cell_type": "code",
   "execution_count": 37,
   "id": "a7ae930c",
   "metadata": {},
   "outputs": [
    {
     "name": "stdout",
     "output_type": "stream",
     "text": [
      "diffρ=(0.006799876742368909,0.00420805575031676,1.7809249465699144e-5)\n",
      "1\n",
      "diffρ=(0.0005678614051272969,0.0003192872737294635,1.660259310594188e-7)\n",
      "2\n",
      "diffρ=(1.6035510625062414e-5,1.4633617776994447e-5,6.575812622866199e-8)\n",
      "3\n",
      "diffρ=(4.309559331902084e-6,1.666211319895702e-6,3.832376764823756e-8)\n"
     ]
    },
    {
     "name": "stderr",
     "output_type": "stream",
     "text": [
      "WARNING: replacing module NuclParameters.\n",
      "WARNING: replacing module LambdaParameters.\n",
      "WARNING: replacing module MyLib.\n"
     ]
    }
   ],
   "source": [
    "include(\"Main.jl\")\n",
    "AN=AtomNum(3,6,1)\n",
    "NParamType=\"SLy4\"\n",
    "LParamType=\"HPL2\"\n",
    "OutPutFiles(AN,NParamType=NParamType,LParamType=LParamType)"
   ]
  },
  {
   "cell_type": "code",
   "execution_count": 38,
   "id": "cba22bbd",
   "metadata": {},
   "outputs": [
    {
     "name": "stdout",
     "output_type": "stream",
     "text": [
      "diffρ=(0.003076910187434666,0.0013894060084838373,4.57126823044623e-6)\n",
      "1\n",
      "diffρ=(0.0002732898839350969,0.00023294153254604772,1.708455998650864e-6)\n",
      "2\n",
      "diffρ=(7.266261471778601e-5,6.125597549539535e-5,1.865264884572021e-7)\n",
      "3\n",
      "diffρ=(1.1903650416083416e-5,1.295895306520486e-5,3.922830809974811e-8)\n",
      "4\n",
      "diffρ=(3.3339360100213443e-6,3.320031317676488e-6,1.941662827731098e-8)\n"
     ]
    },
    {
     "name": "stderr",
     "output_type": "stream",
     "text": [
      "WARNING: replacing module NuclParameters.\n",
      "WARNING: replacing module LambdaParameters.\n",
      "WARNING: replacing module MyLib.\n"
     ]
    }
   ],
   "source": [
    "include(\"Main.jl\")\n",
    "AN=AtomNum(4,6,1)\n",
    "NParamType=\"SLy4\"\n",
    "LParamType=\"HPL2\"\n",
    "OutPutFiles(AN,NParamType=NParamType,LParamType=LParamType)"
   ]
  },
  {
   "cell_type": "code",
   "execution_count": 39,
   "id": "5620ec01",
   "metadata": {},
   "outputs": [
    {
     "name": "stdout",
     "output_type": "stream",
     "text": [
      "diffρ=(0.0008868799081970052,0.0009077148740529378,2.3131364954935596e-6)\n",
      "1\n",
      "diffρ=(0.0004446746498947411,0.0004595757732503066,3.0122807278679835e-6)\n",
      "2\n",
      "diffρ=(0.00011774850478372343,0.00012091973046819247,3.8970821577014475e-7)\n",
      "3\n",
      "diffρ=(2.4524969797864462e-5,2.5180965359078035e-5,8.236486144114001e-8)\n",
      "4\n",
      "diffρ=(6.337973183808337e-6,6.558839496096153e-6,2.756249443343485e-8)\n"
     ]
    },
    {
     "name": "stderr",
     "output_type": "stream",
     "text": [
      "WARNING: replacing module NuclParameters.\n",
      "WARNING: replacing module LambdaParameters.\n",
      "WARNING: replacing module MyLib.\n"
     ]
    }
   ],
   "source": [
    "include(\"Main.jl\")\n",
    "AN=AtomNum(5,5,1)\n",
    "NParamType=\"SLy4\"\n",
    "LParamType=\"HPL2\"\n",
    "OutPutFiles(AN,NParamType=NParamType,LParamType=LParamType)"
   ]
  },
  {
   "cell_type": "code",
   "execution_count": 40,
   "id": "ee156530",
   "metadata": {},
   "outputs": [
    {
     "name": "stdout",
     "output_type": "stream",
     "text": [
      "diffρ=(0.0020536968695285935,0.0017597033042261283,1.0990026920205202e-6)\n",
      "1\n",
      "diffρ=(0.001440650094253716,0.0016396055724607391,5.156887254860167e-6)\n",
      "2\n",
      "diffρ=(0.0003891745254751835,0.0004068926977900768,1.2707715899536269e-6)\n",
      "3\n",
      "diffρ=(8.873347457814232e-5,9.481219936269415e-5,2.569530346711414e-7)\n",
      "4\n",
      "diffρ=(2.5322053098913676e-5,2.646886552845104e-5,1.0336187385890716e-7)\n",
      "5\n",
      "diffρ=(6.840790413848565e-6,7.249542634481899e-6,2.086611389757227e-8)\n"
     ]
    },
    {
     "name": "stderr",
     "output_type": "stream",
     "text": [
      "WARNING: replacing module NuclParameters.\n",
      "WARNING: replacing module LambdaParameters.\n",
      "WARNING: replacing module MyLib.\n"
     ]
    }
   ],
   "source": [
    "include(\"Main.jl\")\n",
    "AN=AtomNum(5,6,1)\n",
    "NParamType=\"SLy4\"\n",
    "LParamType=\"HPL2\"\n",
    "OutPutFiles(AN,NParamType=NParamType,LParamType=LParamType)"
   ]
  },
  {
   "cell_type": "code",
   "execution_count": 41,
   "id": "a591efbe",
   "metadata": {},
   "outputs": [
    {
     "name": "stdout",
     "output_type": "stream",
     "text": [
      "diffρ=(0.004231062592213677,0.0018213039143733204,8.279242292296631e-7)\n",
      "1\n",
      "diffρ=(0.0014534000508224726,0.0015591110155006192,6.572834194226261e-6)\n",
      "2\n",
      "diffρ=(0.0003444334494797485,0.00033999630058509063,8.663178327183295e-7)\n",
      "3\n",
      "diffρ=(6.404971204095857e-5,6.465421622330019e-5,1.702518537723053e-7)\n",
      "4\n",
      "diffρ=(1.5669394788080196e-5,1.5276618888472836e-5,4.9712920994117615e-8)\n",
      "5\n",
      "diffρ=(3.522509720291517e-6,3.557104277401927e-6,9.021889201078476e-9)\n"
     ]
    },
    {
     "name": "stderr",
     "output_type": "stream",
     "text": [
      "WARNING: replacing module NuclParameters.\n",
      "WARNING: replacing module LambdaParameters.\n",
      "WARNING: replacing module MyLib.\n"
     ]
    }
   ],
   "source": [
    "include(\"Main.jl\")\n",
    "AN=AtomNum(5,7,1)\n",
    "NParamType=\"SLy4\"\n",
    "LParamType=\"HPL2\"\n",
    "OutPutFiles(AN,NParamType=NParamType,LParamType=LParamType)"
   ]
  },
  {
   "cell_type": "code",
   "execution_count": 42,
   "id": "e3500e4e",
   "metadata": {},
   "outputs": [
    {
     "name": "stdout",
     "output_type": "stream",
     "text": [
      "diffρ=(0.003423735750958291,0.0036257772422396265,4.6222923528122463e-7)\n",
      "1\n",
      "diffρ=(0.003960552356669998,0.004075782868332117,9.721780700857798e-6)\n",
      "2\n",
      "diffρ=(0.0009918291850945192,0.001023932819643841,3.3485951536899186e-6)\n",
      "3\n",
      "diffρ=(0.00024834888448815005,0.0002553923749088744,6.450076368736782e-7)\n",
      "4\n",
      "diffρ=(7.573086482422708e-5,7.840711162542255e-5,2.828666710198127e-7)\n",
      "5\n",
      "diffρ=(2.2810885592629154e-5,2.344227438634469e-5,6.360007302070254e-8)\n",
      "6\n",
      "diffρ=(7.164956559081843e-6,7.444614210608215e-6,2.884969756668214e-8)\n"
     ]
    },
    {
     "name": "stderr",
     "output_type": "stream",
     "text": [
      "WARNING: replacing module NuclParameters.\n",
      "WARNING: replacing module LambdaParameters.\n",
      "WARNING: replacing module MyLib.\n"
     ]
    }
   ],
   "source": [
    "include(\"Main.jl\")\n",
    "AN=AtomNum(6,6,1)\n",
    "NParamType=\"SLy4\"\n",
    "LParamType=\"HPL2\"\n",
    "OutPutFiles(AN,NParamType=NParamType,LParamType=LParamType)"
   ]
  },
  {
   "cell_type": "code",
   "execution_count": 43,
   "id": "accc9d69",
   "metadata": {},
   "outputs": [
    {
     "name": "stdout",
     "output_type": "stream",
     "text": [
      "diffρ=(0.005275502765823829,0.003938520048114023,7.181362958236705e-7)\n",
      "1\n",
      "diffρ=(0.003947858238825509,0.003797113404823012,1.1233001347244211e-5)\n",
      "2\n",
      "diffρ=(0.0008642371173891881,0.0008672480818413003,2.3472227254671614e-6)\n",
      "3\n",
      "diffρ=(0.0001855959186440385,0.0001770372253500303,4.2012924351945963e-7)\n",
      "4\n",
      "diffρ=(4.802444921341034e-5,4.740836508819151e-5,1.476788318672035e-7)\n",
      "5\n",
      "diffρ=(1.2579149058025491e-5,1.1978684573131497e-5,2.900314565015788e-8)\n",
      "6\n",
      "diffρ=(3.3465403798856882e-6,3.281148081615146e-6,1.1598259435853921e-8)\n"
     ]
    },
    {
     "name": "stderr",
     "output_type": "stream",
     "text": [
      "WARNING: replacing module NuclParameters.\n",
      "WARNING: replacing module LambdaParameters.\n",
      "WARNING: replacing module MyLib.\n"
     ]
    }
   ],
   "source": [
    "include(\"Main.jl\")\n",
    "AN=AtomNum(6,7,1)\n",
    "NParamType=\"SLy4\"\n",
    "LParamType=\"HPL2\"\n",
    "OutPutFiles(AN,NParamType=NParamType,LParamType=LParamType)"
   ]
  },
  {
   "cell_type": "code",
   "execution_count": 44,
   "id": "6539c202",
   "metadata": {},
   "outputs": [
    {
     "name": "stdout",
     "output_type": "stream",
     "text": [
      "diffρ=(0.013195248924794357,0.006079821053755104,2.0508676507245896e-6)\n",
      "1\n",
      "diffρ=(0.003898492898271386,0.0043832857153492544,1.34042786601331e-5)\n",
      "2\n",
      "diffρ=(0.0006481895530374075,0.0006514689855401358,1.2313484090723986e-6)\n",
      "3\n",
      "diffρ=(8.80565374419696e-5,9.400705401623651e-5,1.7276209690897774e-7)\n",
      "4\n",
      "diffρ=(1.7055578563354952e-5,1.604942877463468e-5,3.274854867118689e-8)\n",
      "5\n",
      "diffρ=(2.7827213095812e-6,3.1671035461775297e-6,4.9112259820376474e-9)\n"
     ]
    },
    {
     "name": "stderr",
     "output_type": "stream",
     "text": [
      "WARNING: replacing module NuclParameters.\n",
      "WARNING: replacing module LambdaParameters.\n",
      "WARNING: replacing module MyLib.\n"
     ]
    }
   ],
   "source": [
    "include(\"Main.jl\")\n",
    "AN=AtomNum(7,9,1)\n",
    "NParamType=\"SLy4\"\n",
    "LParamType=\"HPL2\"\n",
    "OutPutFiles(AN,NParamType=NParamType,LParamType=LParamType)"
   ]
  },
  {
   "cell_type": "code",
   "execution_count": 45,
   "id": "39b55401",
   "metadata": {},
   "outputs": [
    {
     "name": "stdout",
     "output_type": "stream",
     "text": [
      "diffρ=(0.014799081249868565,0.014048201229234026,5.527252409395046e-6)\n",
      "1\n",
      "diffρ=(0.004090720783208406,0.00417625241302225,2.133959542859314e-5)\n",
      "2\n",
      "diffρ=(0.0005005542043876836,0.0005097304191335787,1.2817767260083746e-6)\n",
      "3\n",
      "diffρ=(6.420607686326956e-5,6.588082466254337e-5,1.7366589881709e-7)\n",
      "4\n",
      "diffρ=(1.0300869531024896e-5,1.055915922283598e-5,2.5374375886658588e-8)\n",
      "5\n",
      "diffρ=(1.6440918366840785e-6,1.6974774486592282e-6,4.188779093687702e-9)\n"
     ]
    },
    {
     "name": "stderr",
     "output_type": "stream",
     "text": [
      "WARNING: replacing module NuclParameters.\n",
      "WARNING: replacing module LambdaParameters.\n",
      "WARNING: replacing module MyLib.\n"
     ]
    }
   ],
   "source": [
    "include(\"Main.jl\")\n",
    "AN=AtomNum(8,8,1)\n",
    "NParamType=\"SLy4\"\n",
    "LParamType=\"HPL2\"\n",
    "OutPutFiles(AN,NParamType=NParamType,LParamType=LParamType)"
   ]
  },
  {
   "cell_type": "code",
   "execution_count": 46,
   "id": "dcde5b0f",
   "metadata": {},
   "outputs": [
    {
     "name": "stdout",
     "output_type": "stream",
     "text": [
      "diffρ=(0.017978971237465547,0.01893188300122975,1.2713563833322272e-5)\n",
      "1\n",
      "diffρ=(0.010657923876337873,0.0113013039944123,5.101870028730071e-6)\n",
      "2\n",
      "diffρ=(0.0009762464859317349,0.0010084864854451412,1.5537543530573036e-7)\n",
      "3\n",
      "diffρ=(9.361408689960969e-5,9.579858648520341e-5,1.7010672223947415e-8)\n",
      "4\n",
      "diffρ=(1.1743165940613194e-5,1.2065922794585884e-5,4.13972639273717e-9)\n",
      "5\n",
      "diffρ=(1.4757690569019977e-6,1.5483598561793363e-6,1.6877026073753304e-9)\n"
     ]
    },
    {
     "name": "stderr",
     "output_type": "stream",
     "text": [
      "WARNING: replacing module NuclParameters.\n",
      "WARNING: replacing module LambdaParameters.\n",
      "WARNING: replacing module MyLib.\n"
     ]
    }
   ],
   "source": [
    "include(\"Main.jl\")\n",
    "AN=AtomNum(14,14,1)\n",
    "NParamType=\"SLy4\"\n",
    "LParamType=\"HPL2\"\n",
    "OutPutFiles(AN,NParamType=NParamType,LParamType=LParamType)"
   ]
  },
  {
   "cell_type": "code",
   "execution_count": 47,
   "id": "f0216417",
   "metadata": {},
   "outputs": [
    {
     "name": "stdout",
     "output_type": "stream",
     "text": [
      "diffρ=(0.007713504808286162,0.007126703583428579,5.351321826105748e-6)\n",
      "1\n",
      "diffρ=(0.007363350782678544,0.008053372193499388,7.501712585661766e-6)\n",
      "2\n",
      "diffρ=(0.002718913484028671,0.0028390494095872584,2.7543154038384437e-6)\n",
      "3\n",
      "diffρ=(0.0010547345925388555,0.0011196817491994791,1.0610083488796269e-6)\n",
      "4\n",
      "diffρ=(0.0004220159130334747,0.0004391840603092613,4.007662607925724e-7)\n",
      "5\n",
      "diffρ=(0.00017108191616460643,0.00018255209747564788,1.8223347967255473e-7)\n",
      "6\n",
      "diffρ=(7.106835778022314e-5,7.395896475712275e-5,6.947775867403894e-8)\n",
      "7\n",
      "diffρ=(2.9219110523238306e-5,3.137411614494064e-5,3.202643954270943e-8)\n",
      "8\n",
      "diffρ=(1.2357937681598561e-5,1.2840796611274828e-5,1.2512915899055642e-8)\n",
      "9\n",
      "diffρ=(5.096378762488749e-6,5.5042467121178975e-6,5.67326423307754e-9)\n"
     ]
    },
    {
     "name": "stderr",
     "output_type": "stream",
     "text": [
      "WARNING: replacing module NuclParameters.\n",
      "WARNING: replacing module LambdaParameters.\n",
      "WARNING: replacing module MyLib.\n"
     ]
    }
   ],
   "source": [
    "include(\"Main.jl\")\n",
    "AN=AtomNum(16,16,1)\n",
    "NParamType=\"SLy4\"\n",
    "LParamType=\"HPL2\"\n",
    "OutPutFiles(AN,NParamType=NParamType,LParamType=LParamType)"
   ]
  },
  {
   "cell_type": "code",
   "execution_count": 48,
   "id": "3d5887be",
   "metadata": {
    "scrolled": true
   },
   "outputs": [
    {
     "name": "stdout",
     "output_type": "stream",
     "text": [
      "diffρ=(0.0225357182944841,0.015511031152677424,4.947553451150413e-6)\n",
      "1\n",
      "diffρ=(0.003672360823436511,0.003766681391607147,3.295221840708317e-6)\n",
      "2\n",
      "diffρ=(0.0007413199449440041,0.0007745171602643221,9.506107860981943e-7)\n",
      "3\n",
      "diffρ=(0.00019225173673486577,0.00020852841225861403,1.2546052789878358e-7)\n",
      "4\n",
      "diffρ=(4.9940673319221606e-5,5.186337675714558e-5,4.387723536816493e-8)\n",
      "5\n",
      "diffρ=(1.3295764722727993e-5,1.4561279649988308e-5,8.293393697480668e-9)\n",
      "6\n",
      "diffρ=(3.4874278321935534e-6,3.557904128335871e-6,3.193185277951397e-9)\n"
     ]
    },
    {
     "name": "stderr",
     "output_type": "stream",
     "text": [
      "WARNING: replacing module NuclParameters.\n",
      "WARNING: replacing module LambdaParameters.\n",
      "WARNING: replacing module MyLib.\n"
     ]
    }
   ],
   "source": [
    "include(\"Main.jl\")\n",
    "AN=AtomNum(20,20,1)\n",
    "NParamType=\"SLy4\"\n",
    "LParamType=\"HPL2\"\n",
    "OutPutFiles(AN,NParamType=NParamType,LParamType=LParamType)"
   ]
  },
  {
   "cell_type": "code",
   "execution_count": 49,
   "id": "6770c729",
   "metadata": {},
   "outputs": [
    {
     "name": "stdout",
     "output_type": "stream",
     "text": [
      "diffρ=(0.02821545774865264,0.0222306246705507,1.5688875880413638e-6)\n",
      "1\n",
      "diffρ=(0.0077401889241396436,0.012432764580905661,1.590707105373961e-6)\n",
      "2\n",
      "diffρ=(0.0014402239010826952,0.0015750461289620273,3.0554335377226546e-7)\n",
      "3\n",
      "diffρ=(0.00025268890063439713,0.00031357231410587605,4.5222159246338205e-8)\n",
      "4\n",
      "diffρ=(5.194733052513352e-5,5.3662589097856016e-5,1.2889938126482144e-8)\n",
      "5\n",
      "diffρ=(8.834347825345692e-6,1.1847190712104437e-5,2.268392405678575e-9)\n",
      "6\n",
      "diffρ=(2.0713454023061174e-6,1.904792686369291e-6,7.682629519119558e-10)\n"
     ]
    },
    {
     "name": "stderr",
     "output_type": "stream",
     "text": [
      "WARNING: replacing module NuclParameters.\n",
      "WARNING: replacing module LambdaParameters.\n",
      "WARNING: replacing module MyLib.\n"
     ]
    }
   ],
   "source": [
    "include(\"Main.jl\")\n",
    "AN=AtomNum(23,28,1)\n",
    "NParamType=\"SLy4\"\n",
    "LParamType=\"HPL2\"\n",
    "OutPutFiles(AN,NParamType=NParamType,LParamType=LParamType)"
   ]
  },
  {
   "cell_type": "code",
   "execution_count": 50,
   "id": "266b2565",
   "metadata": {},
   "outputs": [
    {
     "name": "stdout",
     "output_type": "stream",
     "text": [
      "diffρ=(0.06371470626111127,0.025300667657173582,1.913444393460686e-6)\n",
      "1\n",
      "diffρ=(0.008205554202105498,0.011466801386527675,4.1626219492176917e-7)\n",
      "2\n",
      "diffρ=(0.0008325011029345537,0.0010148355079064044,1.0260130207914468e-7)\n",
      "3\n",
      "diffρ=(0.0001349637035777544,0.00018785024165303725,2.848292099395176e-8)\n",
      "4\n",
      "diffρ=(2.949342054088907e-5,3.379483756878387e-5,8.010202046313604e-9)\n",
      "5\n",
      "diffρ=(6.02978600245821e-6,8.709819599041788e-6,2.6364577370175247e-9)\n"
     ]
    },
    {
     "name": "stderr",
     "output_type": "stream",
     "text": [
      "WARNING: replacing module NuclParameters.\n",
      "WARNING: replacing module LambdaParameters.\n",
      "WARNING: replacing module MyLib.\n"
     ]
    }
   ],
   "source": [
    "include(\"Main.jl\")\n",
    "AN=AtomNum(39,50,1)\n",
    "NParamType=\"SLy4\"\n",
    "LParamType=\"HPL2\"\n",
    "OutPutFiles(AN,NParamType=NParamType,LParamType=LParamType)"
   ]
  },
  {
   "cell_type": "code",
   "execution_count": 51,
   "id": "3a01890b",
   "metadata": {
    "scrolled": true
   },
   "outputs": [
    {
     "name": "stdout",
     "output_type": "stream",
     "text": [
      "diffρ=(0.1541904157954208,0.03580458461976141,1.4839630668535993e-6)\n",
      "1\n",
      "diffρ=(0.0001661564239554328,0.00012653409170687967,1.0190388431575071e-8)\n",
      "2\n",
      "diffρ=(0.00013592038359915636,9.850829669101514e-5,1.0306817375922586e-8)\n",
      "3\n",
      "diffρ=(0.000111230167264972,7.709672659434824e-5,1.0398168117738027e-8)\n",
      "4\n",
      "diffρ=(9.104582558665584e-5,6.070048567399658e-5,1.0207387645330534e-8)\n",
      "5\n",
      "diffρ=(7.459317340834662e-5,4.793122243243621e-5,1.0142982478307178e-8)\n",
      "6\n",
      "diffρ=(6.115463334809182e-5,3.805946303747697e-5,9.893120811065488e-9)\n",
      "7\n",
      "diffρ=(5.016274245102406e-5,3.0348227740264664e-5,9.632100369840004e-9)\n",
      "8\n",
      "diffρ=(4.121671621398919e-5,2.4266781409924716e-5,9.297699084072227e-9)\n",
      "9\n",
      "diffρ=(3.386138186834371e-5,1.948412384623034e-5,8.91089727334783e-9)\n",
      "10\n",
      "diffρ=(2.7876824528282295e-5,1.568910660723141e-5,8.48782843215539e-9)\n",
      "11\n",
      "diffρ=(0.03356762355492948,1.2678504971538744e-5,8.122885530114562e-9)\n",
      "12\n",
      "diffρ=(1.5087233715043136e-5,2.0544215158050676e-5,5.49953638124526e-9)\n",
      "13\n",
      "diffρ=(0.03388695650606254,1.7276693490369817e-5,5.175504439310098e-9)\n",
      "14\n",
      "diffρ=(0.03400135159235785,8.108972491870404e-6,8.854404057363866e-9)\n",
      "15\n",
      "diffρ=(8.4044958091434e-6,1.3628061084968239e-5,5.238066389827979e-9)\n",
      "16\n",
      "diffρ=(0.03413601861223375,1.1497238519224003e-5,4.9421381782615445e-9)\n",
      "17\n",
      "diffρ=(0.034326199098896296,5.916011961671134e-6,9.437555105026886e-9)\n",
      "18\n",
      "diffρ=(4.915427951783804e-6,9.447184271878456e-6,5.0302407250963885e-9)\n"
     ]
    },
    {
     "name": "stderr",
     "output_type": "stream",
     "text": [
      "WARNING: replacing module NuclParameters.\n",
      "WARNING: replacing module LambdaParameters.\n",
      "WARNING: replacing module MyLib.\n"
     ]
    }
   ],
   "source": [
    "include(\"Main.jl\")\n",
    "AN=AtomNum(57,82,1)\n",
    "NParamType=\"SLy4\"\n",
    "LParamType=\"HPL2\"\n",
    "OutPutFiles(AN,NParamType=NParamType,LParamType=LParamType,α=0.05)"
   ]
  },
  {
   "cell_type": "code",
   "execution_count": 52,
   "id": "d70b3af7",
   "metadata": {},
   "outputs": [
    {
     "name": "stdout",
     "output_type": "stream",
     "text": [
      "diffρ=(0.14655482606357137,0.0803078263959931,1.1359224725727733e-5)\n",
      "1\n",
      "diffρ=(0.023849909131862516,0.019872835225095337,2.2951375402462177e-6)\n",
      "2\n",
      "diffρ=(0.0002169209880803112,0.0005034267946542363,7.649064229916613e-8)\n",
      "3\n",
      "diffρ=(2.858118626915265e-5,4.495361919849069e-5,1.7235028944232404e-8)\n",
      "4\n",
      "diffρ=(5.525171936258647e-6,1.1219423262502049e-5,3.0826502413570346e-9)\n",
      "5\n",
      "diffρ=(1.8374328861315455e-6,3.0875316431069254e-6,1.5472297175207913e-9)\n"
     ]
    },
    {
     "name": "stderr",
     "output_type": "stream",
     "text": [
      "WARNING: replacing module NuclParameters.\n",
      "WARNING: replacing module LambdaParameters.\n",
      "WARNING: replacing module MyLib.\n"
     ]
    }
   ],
   "source": [
    "include(\"Main.jl\")\n",
    "AN=AtomNum(82,126,1)\n",
    "NParamType=\"SLy4\"\n",
    "LParamType=\"HPL2\"\n",
    "OutPutFiles(AN,NParamType=NParamType,LParamType=LParamType)"
   ]
  }
 ],
 "metadata": {
  "kernelspec": {
   "display_name": "Julia 1.7.0",
   "language": "julia",
   "name": "julia-1.7"
  },
  "language_info": {
   "file_extension": ".jl",
   "mimetype": "application/julia",
   "name": "julia",
   "version": "1.7.0"
  }
 },
 "nbformat": 4,
 "nbformat_minor": 5
}
