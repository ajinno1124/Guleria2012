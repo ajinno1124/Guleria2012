{
 "cells": [
  {
   "cell_type": "code",
<<<<<<< HEAD
   "execution_count": 9,
   "id": "2c627f40",
   "metadata": {},
   "outputs": [],
   "source": [
    "cd(\"../..\")"
   ]
  },
  {
   "cell_type": "code",
   "execution_count": 10,
=======
   "execution_count": 20,
>>>>>>> eed8ed741b6a47311b4a581e387aae3840c0d329
   "id": "10a0811c",
   "metadata": {},
   "outputs": [
    {
     "ename": "LoadError",
     "evalue": "SystemError: opening file \"/home/kakuri/Main.jl\": そのようなファイルやディレクトリはありません",
     "output_type": "error",
     "traceback": [
      "SystemError: opening file \"/home/kakuri/Main.jl\": そのようなファイルやディレクトリはありません",
      "",
      "Stacktrace:",
      "  [1] systemerror(p::String, errno::Int32; extrainfo::Nothing)",
      "    @ Base ./error.jl:174",
      "  [2] #systemerror#68",
      "    @ ./error.jl:173 [inlined]",
      "  [3] systemerror",
      "    @ ./error.jl:173 [inlined]",
      "  [4] open(fname::String; lock::Bool, read::Nothing, write::Nothing, create::Nothing, truncate::Nothing, append::Nothing)",
      "    @ Base ./iostream.jl:293",
      "  [5] open",
      "    @ ./iostream.jl:282 [inlined]",
      "  [6] open(f::Base.var\"#364#365\"{String}, args::String; kwargs::Base.Pairs{Symbol, Union{}, Tuple{}, NamedTuple{(), Tuple{}}})",
      "    @ Base ./io.jl:328",
      "  [7] open",
      "    @ ./io.jl:328 [inlined]",
      "  [8] read",
      "    @ ./io.jl:436 [inlined]",
      "  [9] _include(mapexpr::Function, mod::Module, _path::String)",
      "    @ Base ./loading.jl:1249",
      " [10] include(fname::String)",
      "    @ Base.MainInclude ./client.jl:451",
      " [11] top-level scope",
      "    @ In[10]:1",
      " [12] eval",
      "    @ ./boot.jl:373 [inlined]",
      " [13] include_string(mapexpr::typeof(REPL.softscope), mod::Module, code::String, filename::String)",
      "    @ Base ./loading.jl:1196"
     ]
    }
   ],
   "source": [
    "include(\"Main.jl\")\n",
    "AN=AtomNum(8,8,0)\n",
    "NParamType=\"VB1\"\n",
    "LParamType=\"HPL2\"\n",
    "OutPutFiles(AN,NParamType=NParamType,LParamType=LParamType)"
   ]
  },
  {
   "cell_type": "code",
<<<<<<< HEAD
   "execution_count": 11,
=======
   "execution_count": 21,
>>>>>>> eed8ed741b6a47311b4a581e387aae3840c0d329
   "id": "669a222c",
   "metadata": {},
   "outputs": [
    {
     "ename": "LoadError",
     "evalue": "SystemError: opening file \"/home/kakuri/Main.jl\": そのようなファイルやディレクトリはありません",
     "output_type": "error",
     "traceback": [
      "SystemError: opening file \"/home/kakuri/Main.jl\": そのようなファイルやディレクトリはありません",
      "",
      "Stacktrace:",
      "  [1] systemerror(p::String, errno::Int32; extrainfo::Nothing)",
      "    @ Base ./error.jl:174",
      "  [2] #systemerror#68",
      "    @ ./error.jl:173 [inlined]",
      "  [3] systemerror",
      "    @ ./error.jl:173 [inlined]",
      "  [4] open(fname::String; lock::Bool, read::Nothing, write::Nothing, create::Nothing, truncate::Nothing, append::Nothing)",
      "    @ Base ./iostream.jl:293",
      "  [5] open",
      "    @ ./iostream.jl:282 [inlined]",
      "  [6] open(f::Base.var\"#364#365\"{String}, args::String; kwargs::Base.Pairs{Symbol, Union{}, Tuple{}, NamedTuple{(), Tuple{}}})",
      "    @ Base ./io.jl:328",
      "  [7] open",
      "    @ ./io.jl:328 [inlined]",
      "  [8] read",
      "    @ ./io.jl:436 [inlined]",
      "  [9] _include(mapexpr::Function, mod::Module, _path::String)",
      "    @ Base ./loading.jl:1249",
      " [10] include(fname::String)",
      "    @ Base.MainInclude ./client.jl:451",
      " [11] top-level scope",
      "    @ In[11]:1",
      " [12] eval",
      "    @ ./boot.jl:373 [inlined]",
      " [13] include_string(mapexpr::typeof(REPL.softscope), mod::Module, code::String, filename::String)",
      "    @ Base ./loading.jl:1196"
     ]
    }
   ],
   "source": [
    "include(\"Main.jl\")\n",
    "AN=AtomNum(20,20,0)\n",
    "NParamType=\"VB1\"\n",
    "LParamType=\"HPL2\"\n",
    "OutPutFiles(AN,NParamType=NParamType,LParamType=LParamType)"
   ]
  },
  {
   "cell_type": "code",
<<<<<<< HEAD
   "execution_count": 12,
=======
   "execution_count": null,
   "id": "79ccdea3",
   "metadata": {},
   "outputs": [],
   "source": []
  },
  {
   "cell_type": "code",
   "execution_count": 22,
>>>>>>> eed8ed741b6a47311b4a581e387aae3840c0d329
   "id": "34ddfcec",
   "metadata": {},
   "outputs": [
    {
     "ename": "LoadError",
     "evalue": "SystemError: opening file \"/home/kakuri/Main.jl\": そのようなファイルやディレクトリはありません",
     "output_type": "error",
     "traceback": [
      "SystemError: opening file \"/home/kakuri/Main.jl\": そのようなファイルやディレクトリはありません",
      "",
      "Stacktrace:",
      "  [1] systemerror(p::String, errno::Int32; extrainfo::Nothing)",
      "    @ Base ./error.jl:174",
      "  [2] #systemerror#68",
      "    @ ./error.jl:173 [inlined]",
      "  [3] systemerror",
      "    @ ./error.jl:173 [inlined]",
      "  [4] open(fname::String; lock::Bool, read::Nothing, write::Nothing, create::Nothing, truncate::Nothing, append::Nothing)",
      "    @ Base ./iostream.jl:293",
      "  [5] open",
      "    @ ./iostream.jl:282 [inlined]",
      "  [6] open(f::Base.var\"#364#365\"{String}, args::String; kwargs::Base.Pairs{Symbol, Union{}, Tuple{}, NamedTuple{(), Tuple{}}})",
      "    @ Base ./io.jl:328",
      "  [7] open",
      "    @ ./io.jl:328 [inlined]",
      "  [8] read",
      "    @ ./io.jl:436 [inlined]",
      "  [9] _include(mapexpr::Function, mod::Module, _path::String)",
      "    @ Base ./loading.jl:1249",
      " [10] include(fname::String)",
      "    @ Base.MainInclude ./client.jl:451",
      " [11] top-level scope",
      "    @ In[12]:1",
      " [12] eval",
      "    @ ./boot.jl:373 [inlined]",
      " [13] include_string(mapexpr::typeof(REPL.softscope), mod::Module, code::String, filename::String)",
      "    @ Base ./loading.jl:1196"
     ]
    }
   ],
   "source": [
    "include(\"Main.jl\")\n",
    "AN=AtomNum(20,28,0)\n",
    "NParamType=\"VB1\"\n",
    "LParamType=\"HPL2\"\n",
    "OutPutFiles(AN,NParamType=NParamType,LParamType=LParamType)"
   ]
  },
  {
   "cell_type": "code",
<<<<<<< HEAD
   "execution_count": 13,
=======
   "execution_count": 23,
>>>>>>> eed8ed741b6a47311b4a581e387aae3840c0d329
   "id": "fde5cb18",
   "metadata": {},
   "outputs": [
    {
     "ename": "LoadError",
     "evalue": "SystemError: opening file \"/home/kakuri/Main.jl\": そのようなファイルやディレクトリはありません",
     "output_type": "error",
     "traceback": [
      "SystemError: opening file \"/home/kakuri/Main.jl\": そのようなファイルやディレクトリはありません",
      "",
      "Stacktrace:",
      "  [1] systemerror(p::String, errno::Int32; extrainfo::Nothing)",
      "    @ Base ./error.jl:174",
      "  [2] #systemerror#68",
      "    @ ./error.jl:173 [inlined]",
      "  [3] systemerror",
      "    @ ./error.jl:173 [inlined]",
      "  [4] open(fname::String; lock::Bool, read::Nothing, write::Nothing, create::Nothing, truncate::Nothing, append::Nothing)",
      "    @ Base ./iostream.jl:293",
      "  [5] open",
      "    @ ./iostream.jl:282 [inlined]",
      "  [6] open(f::Base.var\"#364#365\"{String}, args::String; kwargs::Base.Pairs{Symbol, Union{}, Tuple{}, NamedTuple{(), Tuple{}}})",
      "    @ Base ./io.jl:328",
      "  [7] open",
      "    @ ./io.jl:328 [inlined]",
      "  [8] read",
      "    @ ./io.jl:436 [inlined]",
      "  [9] _include(mapexpr::Function, mod::Module, _path::String)",
      "    @ Base ./loading.jl:1249",
      " [10] include(fname::String)",
      "    @ Base.MainInclude ./client.jl:451",
      " [11] top-level scope",
      "    @ In[13]:1",
      " [12] eval",
      "    @ ./boot.jl:373 [inlined]",
      " [13] include_string(mapexpr::typeof(REPL.softscope), mod::Module, code::String, filename::String)",
      "    @ Base ./loading.jl:1196"
     ]
    }
   ],
   "source": [
    "include(\"Main.jl\")\n",
    "AN=AtomNum(40,50,0)\n",
    "NParamType=\"VB1\"\n",
    "LParamType=\"HPL2\"\n",
    "OutPutFiles(AN,NParamType=NParamType,LParamType=LParamType,α=0.1)"
   ]
  },
  {
   "cell_type": "code",
<<<<<<< HEAD
   "execution_count": 14,
=======
   "execution_count": 24,
>>>>>>> eed8ed741b6a47311b4a581e387aae3840c0d329
   "id": "d8428341",
   "metadata": {},
   "outputs": [
    {
     "ename": "LoadError",
     "evalue": "SystemError: opening file \"/home/kakuri/Main.jl\": そのようなファイルやディレクトリはありません",
     "output_type": "error",
     "traceback": [
      "SystemError: opening file \"/home/kakuri/Main.jl\": そのようなファイルやディレクトリはありません",
      "",
      "Stacktrace:",
      "  [1] systemerror(p::String, errno::Int32; extrainfo::Nothing)",
      "    @ Base ./error.jl:174",
      "  [2] #systemerror#68",
      "    @ ./error.jl:173 [inlined]",
      "  [3] systemerror",
      "    @ ./error.jl:173 [inlined]",
      "  [4] open(fname::String; lock::Bool, read::Nothing, write::Nothing, create::Nothing, truncate::Nothing, append::Nothing)",
      "    @ Base ./iostream.jl:293",
      "  [5] open",
      "    @ ./iostream.jl:282 [inlined]",
      "  [6] open(f::Base.var\"#364#365\"{String}, args::String; kwargs::Base.Pairs{Symbol, Union{}, Tuple{}, NamedTuple{(), Tuple{}}})",
      "    @ Base ./io.jl:328",
      "  [7] open",
      "    @ ./io.jl:328 [inlined]",
      "  [8] read",
      "    @ ./io.jl:436 [inlined]",
      "  [9] _include(mapexpr::Function, mod::Module, _path::String)",
      "    @ Base ./loading.jl:1249",
      " [10] include(fname::String)",
      "    @ Base.MainInclude ./client.jl:451",
      " [11] top-level scope",
      "    @ In[14]:1",
      " [12] eval",
      "    @ ./boot.jl:373 [inlined]",
      " [13] include_string(mapexpr::typeof(REPL.softscope), mod::Module, code::String, filename::String)",
      "    @ Base ./loading.jl:1196"
     ]
    }
   ],
   "source": [
    "include(\"Main.jl\")\n",
    "AN=AtomNum(82,126,0)\n",
    "NParamType=\"VB1\"\n",
    "LParamType=\"HPL2\"\n",
    "OutPutFiles(AN,NParamType=NParamType,LParamType=LParamType)"
   ]
  },
  {
   "cell_type": "code",
<<<<<<< HEAD
   "execution_count": 15,
=======
   "execution_count": 25,
>>>>>>> eed8ed741b6a47311b4a581e387aae3840c0d329
   "id": "9e22b395",
   "metadata": {},
   "outputs": [
    {
     "ename": "LoadError",
     "evalue": "SystemError: opening file \"/home/kakuri/Main.jl\": そのようなファイルやディレクトリはありません",
     "output_type": "error",
     "traceback": [
      "SystemError: opening file \"/home/kakuri/Main.jl\": そのようなファイルやディレクトリはありません",
      "",
      "Stacktrace:",
      "  [1] systemerror(p::String, errno::Int32; extrainfo::Nothing)",
      "    @ Base ./error.jl:174",
      "  [2] #systemerror#68",
      "    @ ./error.jl:173 [inlined]",
      "  [3] systemerror",
      "    @ ./error.jl:173 [inlined]",
      "  [4] open(fname::String; lock::Bool, read::Nothing, write::Nothing, create::Nothing, truncate::Nothing, append::Nothing)",
      "    @ Base ./iostream.jl:293",
      "  [5] open",
      "    @ ./iostream.jl:282 [inlined]",
      "  [6] open(f::Base.var\"#364#365\"{String}, args::String; kwargs::Base.Pairs{Symbol, Union{}, Tuple{}, NamedTuple{(), Tuple{}}})",
      "    @ Base ./io.jl:328",
      "  [7] open",
      "    @ ./io.jl:328 [inlined]",
      "  [8] read",
      "    @ ./io.jl:436 [inlined]",
      "  [9] _include(mapexpr::Function, mod::Module, _path::String)",
      "    @ Base ./loading.jl:1249",
      " [10] include(fname::String)",
      "    @ Base.MainInclude ./client.jl:451",
      " [11] top-level scope",
      "    @ In[15]:1",
      " [12] eval",
      "    @ ./boot.jl:373 [inlined]",
      " [13] include_string(mapexpr::typeof(REPL.softscope), mod::Module, code::String, filename::String)",
      "    @ Base ./loading.jl:1196"
     ]
    }
   ],
   "source": [
    "include(\"Main.jl\")\n",
    "AN=AtomNum(114,184,0)\n",
    "NParamType=\"VB1\"\n",
    "LParamType=\"HPL2\"\n",
    "OutPutFiles(AN,NParamType=NParamType,LParamType=LParamType,α=0.1)"
   ]
  },
  {
   "cell_type": "code",
   "execution_count": null,
   "id": "7a2710f6",
   "metadata": {},
   "outputs": [],
   "source": []
  }
 ],
 "metadata": {
  "kernelspec": {
   "display_name": "Julia 1.7.3",
   "language": "julia",
   "name": "julia-1.7"
  },
  "language_info": {
   "file_extension": ".jl",
   "mimetype": "application/julia",
   "name": "julia",
   "version": "1.7.3"
  }
 },
 "nbformat": 4,
 "nbformat_minor": 5
}
