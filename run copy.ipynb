{
 "cells": [
  {
   "cell_type": "code",
   "execution_count": 23,
   "id": "0ec804f3",
   "metadata": {},
   "outputs": [],
   "source": [
    "cd(\"../..\")"
   ]
  },
  {
   "cell_type": "code",
   "execution_count": null,
   "id": "10a0811c",
   "metadata": {},
   "outputs": [],
   "source": [
    "include(\"Main.jl\")\n",
    "AN=AtomNum(8,8,0)\n",
    "NParamType=\"SLy4\"\n",
    "LParamType=\"HPL2\"\n",
    "OutPutFiles(AN,NParamType=NParamType,LParamType=LParamType)"
   ]
  },
  {
   "cell_type": "code",
   "execution_count": 31,
   "id": "9908365c",
   "metadata": {},
   "outputs": [
    {
     "name": "stdout",
     "output_type": "stream",
     "text": [
      "diffρ=(0.15017463726193436,0.07795358101530502,0.0)\n",
      "1\n",
      "diffρ=(0.02369633292577023,0.020278288260716648,0.0)\n",
      "2\n",
      "diffρ=(0.00020594875195912256,0.0005265570637069792,0.0)\n",
      "3\n",
      "diffρ=(2.8568980282900076e-5,4.89365263150714e-5,0.0)\n",
      "4\n",
      "diffρ=(6.560014090307676e-6,1.3486189896066534e-5,0.0)\n",
      "5\n",
      "diffρ=(2.4474120890068455e-6,4.482251619052104e-6,0.0)\n"
     ]
    },
    {
     "name": "stderr",
     "output_type": "stream",
     "text": [
      "WARNING: replacing module NuclParameters.\n",
      "WARNING: replacing module LambdaParameters.\n",
      "WARNING: replacing module MyLib.\n"
     ]
    }
   ],
   "source": [
    "include(\"Main.jl\")\n",
    "AN=AtomNum(82,126,0)\n",
    "NParamType=\"SLy4\"\n",
    "LParamType=\"HPL2\"\n",
    "OutPutFiles(AN,NParamType=NParamType,LParamType=LParamType)"
   ]
  },
  {
   "cell_type": "code",
   "execution_count": 16,
   "id": "39b93546",
   "metadata": {},
   "outputs": [
    {
     "name": "stdout",
     "output_type": "stream",
     "text": [
      "diffρ=(0.2317662930535964,0.1992569540895341,0.0)\n",
      "1\n",
      "diffρ=(0.08634731149091451,0.051838626770256614,0.0)\n",
      "2\n",
      "diffρ=(0.0006896000438074579,0.0011282307584759912,0.0)\n",
      "3\n",
      "diffρ=(6.402306122427478e-5,4.407872187905658e-5,0.0)\n",
      "4\n",
      "diffρ=(7.1463895210316675e-6,1.9323365798643364e-5,0.0)\n",
      "5\n",
      "diffρ=(3.5943348880611024e-6,7.127775837440488e-6,0.0)\n"
     ]
    },
    {
     "name": "stderr",
     "output_type": "stream",
     "text": [
      "WARNING: replacing module NuclParameters.\n",
      "WARNING: replacing module LambdaParameters.\n",
      "WARNING: replacing module MyLib.\n"
     ]
    }
   ],
   "source": [
    "include(\"Main.jl\")\n",
    "AN=AtomNum(82,126,0)\n",
    "NParamType=\"VB1\"\n",
    "LParamType=\"HPL2\"\n",
    "OutPutFiles(AN,NParamType=NParamType,LParamType=LParamType)"
   ]
  },
  {
   "cell_type": "code",
   "execution_count": 32,
   "id": "a2284815",
   "metadata": {},
   "outputs": [
    {
     "name": "stdout",
     "output_type": "stream",
     "text": [
      "diffρ=(0.013069630726335628,0.013478148673110464,7.237279398804265e-5)\n",
      "1\n",
      "diffρ=(0.00164717437532368,0.0018371236501452456,1.3559402515138869e-6)\n",
      "2\n",
      "diffρ=(3.912358267604632e-5,9.18349504851497e-5,6.616732541631086e-7)\n",
      "3\n",
      "diffρ=(1.467918571703535e-5,9.574674088413662e-6,2.3711044478723298e-7)\n",
      "4\n",
      "diffρ=(1.0485700125252518e-6,2.1488342497606366e-6,9.27709532116054e-8)\n"
     ]
    },
    {
     "name": "stderr",
     "output_type": "stream",
     "text": [
      "WARNING: replacing module NuclParameters.\n",
      "WARNING: replacing module LambdaParameters.\n",
      "WARNING: replacing module MyLib.\n"
     ]
    }
   ],
   "source": [
    "include(\"Main.jl\")\n",
    "AN=AtomNum(2,6,1)\n",
    "NParamType=\"SLy4\"\n",
    "LParamType=\"HPL2\"\n",
    "OutPutFiles(AN,NParamType=NParamType,LParamType=LParamType)"
   ]
  },
  {
   "cell_type": "code",
   "execution_count": 3,
   "id": "1d633245",
   "metadata": {},
   "outputs": [
    {
     "name": "stdout",
     "output_type": "stream",
     "text": [
      "diffρ=(0.0029724863364588025,0.0033487633987557813,0.0001476402824693077)\n",
      "1\n"
     ]
    },
    {
     "name": "stderr",
     "output_type": "stream",
     "text": [
      "WARNING: replacing module NuclParameters.\n",
      "WARNING: replacing module LambdaParameters.\n",
      "WARNING: replacing module MyLib.\n"
     ]
    },
    {
     "name": "stdout",
     "output_type": "stream",
     "text": [
      "diffρ=(0.00027052161959805474,0.0002734941865239021,5.069500326075562e-6)\n",
      "2\n",
      "diffρ=(2.508365049288605e-6,2.4824569752159704e-6,9.875872962044434e-7)\n"
     ]
    }
   ],
   "source": [
    "include(\"Main.jl\")\n",
    "AN=AtomNum(4,4,1)\n",
    "NParamType=\"SLy4\"\n",
    "LParamType=\"HPL2\"\n",
    "OutPutFiles(AN,NParamType=NParamType,LParamType=LParamType)"
   ]
  },
  {
   "cell_type": "code",
   "execution_count": 4,
   "id": "a7ae930c",
   "metadata": {},
   "outputs": [
    {
     "name": "stdout",
     "output_type": "stream",
     "text": [
      "diffρ=(0.008108737603405955,0.0012379169426872277,0.00015213885768612488)\n",
      "1\n"
     ]
    },
    {
     "name": "stderr",
     "output_type": "stream",
     "text": [
      "WARNING: replacing module NuclParameters.\n",
      "WARNING: replacing module LambdaParameters.\n",
      "WARNING: replacing module MyLib.\n"
     ]
    },
    {
     "name": "stdout",
     "output_type": "stream",
     "text": [
      "diffρ=(0.0003820713687956925,0.00026146070164099415,1.6397857373533247e-6)\n",
      "2\n",
      "diffρ=(1.0512293679856194e-5,1.0917077185086905e-5,2.2505760950888619e-7)\n",
      "3\n",
      "diffρ=(1.5323983098648423e-6,1.338514160093836e-6,3.7134550361480347e-8)\n"
     ]
    }
   ],
   "source": [
    "include(\"Main.jl\")\n",
    "AN=AtomNum(3,6,1)\n",
    "NParamType=\"SLy4\"\n",
    "LParamType=\"HPL2\"\n",
    "OutPutFiles(AN,NParamType=NParamType,LParamType=LParamType)"
   ]
  },
  {
   "cell_type": "code",
   "execution_count": 5,
   "id": "cba22bbd",
   "metadata": {},
   "outputs": [
    {
     "name": "stdout",
     "output_type": "stream",
     "text": [
      "diffρ=(0.004232237263114442,0.00042675101351172663,7.920913946054654e-5)\n",
      "1\n"
     ]
    },
    {
     "name": "stderr",
     "output_type": "stream",
     "text": [
      "WARNING: replacing module NuclParameters.\n",
      "WARNING: replacing module LambdaParameters.\n",
      "WARNING: replacing module MyLib.\n"
     ]
    },
    {
     "name": "stdout",
     "output_type": "stream",
     "text": [
      "diffρ=(0.00019079234165822774,0.0001670124762855835,2.8045196840691567e-6)\n",
      "2\n",
      "diffρ=(3.609879168923077e-5,3.0956621267458024e-5,2.471468583789467e-7)\n",
      "3\n",
      "diffρ=(3.0912066030300176e-6,3.6069356512750917e-6,6.502963202414738e-8)\n"
     ]
    }
   ],
   "source": [
    "include(\"Main.jl\")\n",
    "AN=AtomNum(4,6,1)\n",
    "NParamType=\"SLy4\"\n",
    "LParamType=\"HPL2\"\n",
    "OutPutFiles(AN,NParamType=NParamType,LParamType=LParamType)"
   ]
  },
  {
   "cell_type": "code",
   "execution_count": 6,
   "id": "5620ec01",
   "metadata": {},
   "outputs": [
    {
     "name": "stdout",
     "output_type": "stream",
     "text": [
      "diffρ=(0.0014833932658474909,0.001764774407684115,6.734017140132372e-5)\n",
      "1\n"
     ]
    },
    {
     "name": "stderr",
     "output_type": "stream",
     "text": [
      "WARNING: replacing module NuclParameters.\n",
      "WARNING: replacing module LambdaParameters.\n",
      "WARNING: replacing module MyLib.\n"
     ]
    },
    {
     "name": "stdout",
     "output_type": "stream",
     "text": [
      "diffρ=(0.0003028468030429804,0.00031129496200832624,4.052750420482119e-6)\n",
      "2\n",
      "diffρ=(5.304898122182854e-5,5.36987147895573e-5,4.0161462527736867e-7)\n",
      "3\n",
      "diffρ=(6.3274845447039545e-6,6.4204921624242415e-6,1.1626109550745926e-7)\n"
     ]
    }
   ],
   "source": [
    "include(\"Main.jl\")\n",
    "AN=AtomNum(5,5,1)\n",
    "NParamType=\"SLy4\"\n",
    "LParamType=\"HPL2\"\n",
    "OutPutFiles(AN,NParamType=NParamType,LParamType=LParamType)"
   ]
  },
  {
   "cell_type": "code",
   "execution_count": 7,
   "id": "ee156530",
   "metadata": {},
   "outputs": [
    {
     "name": "stdout",
     "output_type": "stream",
     "text": [
      "diffρ=(0.0026975429153340024,0.001541341654762188,4.569545357555529e-5)\n",
      "1\n"
     ]
    },
    {
     "name": "stderr",
     "output_type": "stream",
     "text": [
      "WARNING: replacing module NuclParameters.\n",
      "WARNING: replacing module LambdaParameters.\n",
      "WARNING: replacing module MyLib.\n"
     ]
    },
    {
     "name": "stdout",
     "output_type": "stream",
     "text": [
      "diffρ=(0.0010396114170458553,0.001162038464367046,4.792767732874433e-6)\n",
      "2\n",
      "diffρ=(0.00019461970315909038,0.0002010294114666542,5.30286929601867e-7)\n",
      "3\n",
      "diffρ=(2.7362203466633925e-5,2.898273755230777e-5,1.249107892650993e-7)\n",
      "4\n",
      "diffρ=(5.2378341026772514e-6,5.462906600219317e-6,1.8870649441322037e-8)\n"
     ]
    }
   ],
   "source": [
    "include(\"Main.jl\")\n",
    "AN=AtomNum(5,6,1)\n",
    "NParamType=\"SLy4\"\n",
    "LParamType=\"HPL2\"\n",
    "OutPutFiles(AN,NParamType=NParamType,LParamType=LParamType)"
   ]
  },
  {
   "cell_type": "code",
   "execution_count": 8,
   "id": "a591efbe",
   "metadata": {},
   "outputs": [
    {
     "name": "stdout",
     "output_type": "stream",
     "text": [
      "diffρ=(0.0050998078720196965,0.0018343836041463037,3.3750268519580405e-5)\n",
      "1\n"
     ]
    },
    {
     "name": "stderr",
     "output_type": "stream",
     "text": [
      "WARNING: replacing module NuclParameters.\n",
      "WARNING: replacing module LambdaParameters.\n",
      "WARNING: replacing module MyLib.\n"
     ]
    },
    {
     "name": "stdout",
     "output_type": "stream",
     "text": [
      "diffρ=(0.0010852348128322184,0.001124180225318904,6.631792790682411e-6)\n",
      "2\n",
      "diffρ=(0.0001775832149616676,0.0001790272667735854,5.767627514520023e-7)\n",
      "3\n",
      "diffρ=(2.133444381761716e-5,2.053620827200009e-5,1.2925107706468744e-7)\n",
      "4\n",
      "diffρ=(3.32093134224841e-6,3.554882729674184e-6,1.912530185712194e-8)\n"
     ]
    }
   ],
   "source": [
    "include(\"Main.jl\")\n",
    "AN=AtomNum(5,7,1)\n",
    "NParamType=\"SLy4\"\n",
    "LParamType=\"HPL2\"\n",
    "OutPutFiles(AN,NParamType=NParamType,LParamType=LParamType)"
   ]
  },
  {
   "cell_type": "code",
   "execution_count": 9,
   "id": "e3500e4e",
   "metadata": {},
   "outputs": [
    {
     "name": "stdout",
     "output_type": "stream",
     "text": [
      "diffρ=(0.003324629065485604,0.0035732709608682425,2.8139044330872004e-5)\n",
      "1\n"
     ]
    },
    {
     "name": "stderr",
     "output_type": "stream",
     "text": [
      "WARNING: replacing module NuclParameters.\n",
      "WARNING: replacing module LambdaParameters.\n",
      "WARNING: replacing module MyLib.\n"
     ]
    },
    {
     "name": "stdout",
     "output_type": "stream",
     "text": [
      "diffρ=(0.0029728775462124213,0.0030016065256460124,7.43381131770072e-6)\n",
      "2\n",
      "diffρ=(0.0005445615306715984,0.0005516612194832089,1.3790343770537175e-6)\n",
      "3\n",
      "diffρ=(9.036936899043699e-5,9.180356493300327e-5,2.430272900434891e-7)\n",
      "4\n",
      "diffρ=(1.9665260400472106e-5,2.0002834796512535e-5,5.362884205432119e-8)\n",
      "5\n",
      "diffρ=(4.054649503024821e-6,4.110139008824358e-6,1.0881925397845417e-8)\n"
     ]
    }
   ],
   "source": [
    "include(\"Main.jl\")\n",
    "AN=AtomNum(6,6,1)\n",
    "NParamType=\"SLy4\"\n",
    "LParamType=\"HPL2\"\n",
    "OutPutFiles(AN,NParamType=NParamType,LParamType=LParamType)"
   ]
  },
  {
   "cell_type": "code",
   "execution_count": 10,
   "id": "accc9d69",
   "metadata": {},
   "outputs": [
    {
     "name": "stdout",
     "output_type": "stream",
     "text": [
      "diffρ=(0.005594516847413059,0.0043710847156093555,1.816970213693146e-5)\n",
      "1\n"
     ]
    },
    {
     "name": "stderr",
     "output_type": "stream",
     "text": [
      "WARNING: replacing module NuclParameters.\n",
      "WARNING: replacing module LambdaParameters.\n",
      "WARNING: replacing module MyLib.\n"
     ]
    },
    {
     "name": "stdout",
     "output_type": "stream",
     "text": [
      "diffρ=(0.0030375019398376727,0.002839843025954838,9.487241629228047e-6)\n",
      "2\n",
      "diffρ=(0.00048429855122071244,0.0004920526967673521,1.1364869827042328e-6)\n",
      "3\n",
      "diffρ=(7.17749447835304e-5,6.598891358300287e-5,2.0503018723931663e-7)\n",
      "4\n",
      "diffρ=(1.2800698591121775e-5,1.3168592591618003e-5,3.400804930580602e-8)\n",
      "5\n",
      "diffρ=(2.460292239254843e-6,2.2007466005705347e-6,7.2484935399605535e-9)\n"
     ]
    }
   ],
   "source": [
    "include(\"Main.jl\")\n",
    "AN=AtomNum(6,7,1)\n",
    "NParamType=\"SLy4\"\n",
    "LParamType=\"HPL2\"\n",
    "OutPutFiles(AN,NParamType=NParamType,LParamType=LParamType)"
   ]
  },
  {
   "cell_type": "code",
   "execution_count": 11,
   "id": "6539c202",
   "metadata": {},
   "outputs": [
    {
     "name": "stdout",
     "output_type": "stream",
     "text": [
      "diffρ=(0.013774040694364649,0.006633151987889741,5.938489804078064e-6)\n",
      "1\n"
     ]
    },
    {
     "name": "stderr",
     "output_type": "stream",
     "text": [
      "WARNING: replacing module NuclParameters.\n",
      "WARNING: replacing module LambdaParameters.\n",
      "WARNING: replacing module MyLib.\n"
     ]
    },
    {
     "name": "stdout",
     "output_type": "stream",
     "text": [
      "diffρ=(0.0031729140214393063,0.0034714262687954816,1.2406015636806933e-5)\n",
      "2\n",
      "diffρ=(0.0004051325769732577,0.00040377909317675223,1.0184067601730404e-6)\n",
      "3\n",
      "diffρ=(3.870699751587985e-5,4.035393542866447e-5,1.6036867878777883e-7)\n",
      "4\n",
      "diffρ=(5.466616699244773e-6,5.216037720132999e-6,2.352041541158261e-8)\n"
     ]
    }
   ],
   "source": [
    "include(\"Main.jl\")\n",
    "AN=AtomNum(7,9,1)\n",
    "NParamType=\"SLy4\"\n",
    "LParamType=\"HPL2\"\n",
    "OutPutFiles(AN,NParamType=NParamType,LParamType=LParamType)"
   ]
  },
  {
   "cell_type": "code",
   "execution_count": 12,
   "id": "39b55401",
   "metadata": {},
   "outputs": [
    {
     "name": "stdout",
     "output_type": "stream",
     "text": [
      "diffρ=(0.015283017953888065,0.016047455619909765,2.617512717396248e-6)\n",
      "1\n"
     ]
    },
    {
     "name": "stderr",
     "output_type": "stream",
     "text": [
      "WARNING: replacing module NuclParameters.\n",
      "WARNING: replacing module LambdaParameters.\n",
      "WARNING: replacing module MyLib.\n"
     ]
    },
    {
     "name": "stdout",
     "output_type": "stream",
     "text": [
      "diffρ=(0.0033455421899582652,0.0033858466127264634,2.0011353057233604e-5)\n",
      "2\n",
      "diffρ=(0.00031505760388604175,0.00031975555768489026,1.3202211947093745e-6)\n",
      "3\n",
      "diffρ=(2.8243647247695443e-5,2.8517722454821334e-5,2.0061224110752093e-7)\n",
      "4\n",
      "diffρ=(3.2829238931560443e-6,3.3712197535192392e-6,3.273143813387869e-8)\n"
     ]
    }
   ],
   "source": [
    "include(\"Main.jl\")\n",
    "AN=AtomNum(8,8,1)\n",
    "NParamType=\"SLy4\"\n",
    "LParamType=\"HPL2\"\n",
    "OutPutFiles(AN,NParamType=NParamType,LParamType=LParamType)"
   ]
  },
  {
   "cell_type": "code",
   "execution_count": 13,
   "id": "dcde5b0f",
   "metadata": {},
   "outputs": [
    {
     "name": "stdout",
     "output_type": "stream",
     "text": [
      "diffρ=(0.017604243564824946,0.018118842159664413,2.2152580567472986e-5)\n",
      "1\n"
     ]
    },
    {
     "name": "stderr",
     "output_type": "stream",
     "text": [
      "WARNING: replacing module NuclParameters.\n",
      "WARNING: replacing module LambdaParameters.\n",
      "WARNING: replacing module MyLib.\n"
     ]
    },
    {
     "name": "stdout",
     "output_type": "stream",
     "text": [
      "diffρ=(0.009803233621856663,0.009947596908627638,4.449634492365725e-6)\n",
      "2\n",
      "diffρ=(0.0007558726989513957,0.0007648956672271548,1.5689639039601884e-7)\n",
      "3\n",
      "diffρ=(6.0339713055010666e-5,6.141543325410038e-5,7.2194373070757216e-9)\n",
      "4\n",
      "diffρ=(6.644091983160874e-6,6.751444825827961e-6,1.8134449501894554e-9)\n"
     ]
    }
   ],
   "source": [
    "include(\"Main.jl\")\n",
    "AN=AtomNum(14,14,1)\n",
    "NParamType=\"SLy4\"\n",
    "LParamType=\"HPL2\"\n",
    "OutPutFiles(AN,NParamType=NParamType,LParamType=LParamType)"
   ]
  },
  {
   "cell_type": "code",
   "execution_count": 14,
   "id": "f0216417",
   "metadata": {},
   "outputs": [
    {
     "name": "stdout",
     "output_type": "stream",
     "text": [
      "diffρ=(0.007188428979326821,0.007214412137122478,2.1515183130824556e-6)\n",
      "1\n"
     ]
    },
    {
     "name": "stderr",
     "output_type": "stream",
     "text": [
      "WARNING: replacing module NuclParameters.\n",
      "WARNING: replacing module LambdaParameters.\n",
      "WARNING: replacing module MyLib.\n"
     ]
    },
    {
     "name": "stdout",
     "output_type": "stream",
     "text": [
      "diffρ=(0.007048342233145894,0.007299151353141943,6.682231253164796e-6)\n",
      "2\n",
      "diffρ=(0.0023651624456487784,0.0024213447306537673,2.2771904776447154e-6)\n",
      "3\n",
      "diffρ=(0.0008601195151934006,0.0008854636347650408,7.993244296195618e-7)\n",
      "4\n",
      "diffρ=(0.0003163127030144577,0.0003237431892191859,2.861163644170067e-7)\n",
      "5\n",
      "diffρ=(0.00012019338819375511,0.00012404825968767311,1.1798418451291146e-7)\n",
      "6\n",
      "diffρ=(4.5827792182862765e-5,4.691005506943608e-5,4.2527404851649876e-8)\n",
      "7\n",
      "diffρ=(1.7669130842635774e-5,1.8288070165109052e-5,1.7929168394806893e-8)\n",
      "8\n",
      "diffρ=(6.844090252218278e-6,7.003182074582398e-6,6.569317634473944e-9)\n"
     ]
    }
   ],
   "source": [
    "include(\"Main.jl\")\n",
    "AN=AtomNum(16,16,1)\n",
    "NParamType=\"SLy4\"\n",
    "LParamType=\"HPL2\"\n",
    "OutPutFiles(AN,NParamType=NParamType,LParamType=LParamType)"
   ]
  },
  {
   "cell_type": "code",
   "execution_count": 15,
   "id": "3d5887be",
   "metadata": {
    "scrolled": true
   },
   "outputs": [
    {
     "name": "stdout",
     "output_type": "stream",
     "text": [
      "diffρ=(0.018470064186273942,0.017202187167736686,2.4892526594141508e-6)\n",
      "1\n"
     ]
    },
    {
     "name": "stderr",
     "output_type": "stream",
     "text": [
      "WARNING: replacing module NuclParameters.\n",
      "WARNING: replacing module LambdaParameters.\n",
      "WARNING: replacing module MyLib.\n"
     ]
    },
    {
     "name": "stdout",
     "output_type": "stream",
     "text": [
      "diffρ=(0.0034801720804839165,0.0035738889937844995,3.0128210750515293e-6)\n",
      "2\n",
      "diffρ=(0.0006979439885696999,0.0007170232500898232,8.70649725005957e-7)\n",
      "3\n",
      "diffρ=(0.0001768220827851239,0.00018355246377811492,1.1292170459357756e-7)\n",
      "4\n",
      "diffρ=(4.334433262908449e-5,4.439705862872663e-5,3.92598029399992e-8)\n",
      "5\n",
      "diffρ=(1.1325001969287459e-5,1.1786336302657142e-5,7.1392445245216365e-9)\n",
      "6\n",
      "diffρ=(2.7836663456861106e-6,2.8340464005222823e-6,2.7705102789954303e-9)\n"
     ]
    }
   ],
   "source": [
    "include(\"Main.jl\")\n",
    "AN=AtomNum(20,20,1)\n",
    "NParamType=\"SLy4\"\n",
    "LParamType=\"HPL2\"\n",
    "OutPutFiles(AN,NParamType=NParamType,LParamType=LParamType)"
   ]
  },
  {
   "cell_type": "code",
   "execution_count": 16,
   "id": "6770c729",
   "metadata": {},
   "outputs": [
    {
     "name": "stdout",
     "output_type": "stream",
     "text": [
      "diffρ=(0.023090811576620917,0.020756745611744405,2.555367515090345e-6)\n",
      "1\n"
     ]
    },
    {
     "name": "stderr",
     "output_type": "stream",
     "text": [
      "WARNING: replacing module NuclParameters.\n",
      "WARNING: replacing module LambdaParameters.\n",
      "WARNING: replacing module MyLib.\n"
     ]
    },
    {
     "name": "stdout",
     "output_type": "stream",
     "text": [
      "diffρ=(0.007464988753630553,0.01155268631031222,1.7123446087077849e-6)\n",
      "2\n",
      "diffρ=(0.0014102320971238465,0.0015053918104800332,2.63201931190383e-7)\n",
      "3\n",
      "diffρ=(0.0002457637399184482,0.000294285748672152,4.085023747183679e-8)\n",
      "4\n",
      "diffρ=(4.944385755058026e-5,5.0139725302832946e-5,1.070181295878458e-8)\n",
      "5\n",
      "diffρ=(8.390243305614874e-6,1.0753744528679746e-5,1.8570860061075441e-9)\n",
      "6\n",
      "diffρ=(1.9098131883046726e-6,1.7459979852993216e-6,5.554335895389293e-10)\n"
     ]
    }
   ],
   "source": [
    "include(\"Main.jl\")\n",
    "AN=AtomNum(23,28,1)\n",
    "NParamType=\"SLy4\"\n",
    "LParamType=\"HPL2\"\n",
    "OutPutFiles(AN,NParamType=NParamType,LParamType=LParamType)"
   ]
  },
  {
   "cell_type": "code",
   "execution_count": 17,
   "id": "266b2565",
   "metadata": {},
   "outputs": [
    {
     "name": "stdout",
     "output_type": "stream",
     "text": [
      "diffρ=(0.04311039776586043,0.02364409368477859,1.4204210492956327e-6)\n",
      "1\n"
     ]
    },
    {
     "name": "stderr",
     "output_type": "stream",
     "text": [
      "WARNING: replacing module NuclParameters.\n",
      "WARNING: replacing module LambdaParameters.\n",
      "WARNING: replacing module MyLib.\n"
     ]
    },
    {
     "name": "stdout",
     "output_type": "stream",
     "text": [
      "diffρ=(0.0067921454761470604,0.009881622134024486,3.072198005470661e-7)\n",
      "2\n",
      "diffρ=(0.0009418857577906063,0.0010506572812036365,9.547827533142964e-8)\n",
      "3\n",
      "diffρ=(0.00016439124900216053,0.00021092944694773436,1.732638870151643e-8)\n",
      "4\n",
      "diffρ=(3.769196755373358e-5,4.008977981439524e-5,4.844060270807555e-9)\n",
      "5\n",
      "diffρ=(7.5492051690258e-6,9.932223842078203e-6,9.001574162887182e-10)\n"
     ]
    }
   ],
   "source": [
    "include(\"Main.jl\")\n",
    "AN=AtomNum(39,50,1)\n",
    "NParamType=\"SLy4\"\n",
    "LParamType=\"HPL2\"\n",
    "OutPutFiles(AN,NParamType=NParamType,LParamType=LParamType)"
   ]
  },
  {
   "cell_type": "code",
   "execution_count": 18,
   "id": "3a01890b",
   "metadata": {
    "scrolled": true
   },
   "outputs": [
    {
     "name": "stdout",
     "output_type": "stream",
     "text": [
      "diffρ=(0.12431661602173866,0.03394485823129618,1.662099398920687e-6)\n",
      "1\n"
     ]
    },
    {
     "name": "stderr",
     "output_type": "stream",
     "text": [
      "WARNING: replacing module NuclParameters.\n",
      "WARNING: replacing module LambdaParameters.\n",
      "WARNING: replacing module MyLib.\n"
     ]
    },
    {
     "name": "stdout",
     "output_type": "stream",
     "text": [
      "diffρ=(0.06396575549582222,0.00925395366630144,2.3021172348192532e-6)\n",
      "2\n",
      "diffρ=(0.049210597810231606,0.0025672204780700304,2.037313296082788e-7)\n",
      "3\n",
      "diffρ=(0.04961963811243643,0.001949016322108592,1.5744884163773081e-6)\n",
      "4\n",
      "diffρ=(0.04960699038842412,0.0017622760336829326,6.645267087897643e-7)\n",
      "5\n",
      "diffρ=(0.04942349506111485,0.001802415098525935,1.1702356264185883e-6)\n",
      "6\n",
      "diffρ=(0.04957443105221587,0.001750905214949857,8.341548685068253e-7)\n",
      "7\n",
      "diffρ=(0.049451248161901995,0.001775385939872851,1.0376201237313313e-6)\n",
      "8\n",
      "diffρ=(0.04952323122659724,0.001757105737144138,9.04200638929303e-7)\n",
      "9\n",
      "diffρ=(0.04947410348316459,0.001768956763521741,9.861870993771508e-7)\n",
      "10\n",
      "diffρ=(0.049502808679492,0.0017615499972993666,9.323059223234924e-7)\n",
      "11\n",
      "diffρ=(0.04948514100688855,0.0017671052620429062,9.655129756584657e-7)\n",
      "12\n",
      "diffρ=(0.04949626454781943,0.001763857741885669,9.43621955418911e-7)\n",
      "13\n",
      "diffρ=(0.04948953580266002,0.0017666188093215986,9.576556693154336e-7)\n",
      "14\n",
      "diffρ=(0.0494934634748515,0.0017650762614886278,9.483111467980831e-7)\n",
      "15\n",
      "diffρ=(0.04949152496080927,0.0017663214259706608,9.538308081676988e-7)\n",
      "16\n",
      "diffρ=(0.04949324294929619,0.001765686456015124,9.505127685821492e-7)\n",
      "17\n",
      "diffρ=(0.049492724563398975,0.0017664040980454163,9.52772288848527e-7)\n",
      "18\n",
      "diffρ=(0.049493803817635566,0.0017660147502881508,9.508466031986013e-7)\n",
      "19\n",
      "diffρ=(0.0494935229493734,0.001766303242562565,9.518230909820585e-7)\n",
      "20\n",
      "diffρ=(0.04949354658054992,0.0017660917437693734,9.507870637290792e-7)\n",
      "21\n",
      "diffρ=(0.049493763203174806,0.0017662928305516884,9.514344694046487e-7)\n",
      "22\n",
      "diffρ=(0.04949437886959543,0.0017662181576912073,9.518110157684955e-7)\n",
      "23\n",
      "diffρ=(0.04949423666541121,0.0017662765844229482,9.516022872505225e-7)\n",
      "24\n",
      "diffρ=(0.049494084329216675,0.0017662672029398981,9.514797769066198e-7)\n",
      "25\n",
      "diffρ=(0.049493904152795344,0.001766310768249227,9.52183992144095e-7)\n",
      "26\n",
      "diffρ=(0.04949355344997859,0.0017662643438027014,9.51563221771427e-7)\n",
      "27\n",
      "diffρ=(0.049493548441765275,0.0017662591962526197,9.510487492453376e-7)\n",
      "28\n",
      "diffρ=(0.04949366630842826,0.0017662418555155824,9.508994113979743e-7)\n",
      "29\n",
      "diffρ=(0.049493563224194084,0.0017662422001426697,9.510639844458686e-7)\n",
      "30\n",
      "diffρ=(0.049493635533497345,0.0017662317361594642,9.509154708812012e-7)\n",
      "31\n",
      "diffρ=(0.04949396660102145,0.001766269686881223,9.510437008272427e-7)\n",
      "32\n",
      "diffρ=(0.04949417166456243,0.001766285465891005,9.518445466196958e-7)\n",
      "33\n",
      "diffρ=(0.049494143712604056,0.0017662797271309303,9.519501307309018e-7)\n",
      "34\n",
      "diffρ=(0.049494120075702135,0.0017662683689413173,9.518530291993962e-7)\n",
      "35\n",
      "diffρ=(0.04949431443098294,0.001766263755674204,9.519151559125659e-7)\n",
      "36\n",
      "diffρ=(0.04949441962553162,0.0017662837107987614,9.518700771649798e-7)\n",
      "37\n",
      "diffρ=(0.04949420478883218,0.0017662818520900786,9.518052630702978e-7)\n",
      "38\n",
      "diffρ=(0.04949408927423989,0.0017662613168487392,9.518441232424529e-7)\n",
      "39\n",
      "diffρ=(0.04949428834424339,0.001766260769119792,9.5191223290139e-7)\n",
      "40\n",
      "diffρ=(0.04949440587609219,0.0017662819962091549,9.518693124987288e-7)\n",
      "41\n",
      "diffρ=(0.04949444223790425,0.0017662813325197806,9.518032870174325e-7)\n",
      "42\n",
      "diffρ=(0.04949439632864856,0.0017662789482149187,9.518263767552904e-7)\n",
      "43\n",
      "diffρ=(0.04949415491307696,0.001766276784789454,9.517992075555568e-7)\n",
      "44\n",
      "diffρ=(0.04949406837756534,0.0017662591417980365,9.518322626929475e-7)\n",
      "45\n",
      "diffρ=(0.049494274485465124,0.0017662611608019617,9.519134103956833e-7)\n",
      "46\n",
      "diffρ=(0.04949440238522656,0.0017662819506398739,9.518648661137512e-7)\n",
      "47\n",
      "diffρ=(0.04949452355912565,0.0017662817004441757,9.51804736807186e-7)\n",
      "48\n",
      "diffρ=(0.049494505030750285,0.001766299033588349,9.517677385501502e-7)\n",
      "49\n",
      "diffρ=(0.04949404168146409,0.0017662944406540992,9.516810501117425e-7)\n",
      "50\n"
     ]
    },
    {
     "ename": "LoadError",
     "evalue": "MethodError: no method matching iterate(::Nothing)\n\u001b[0mClosest candidates are:\n\u001b[0m  iterate(\u001b[91m::Union{LinRange, StepRangeLen}\u001b[39m) at /opt/julia-1.7.3/share/julia/base/range.jl:826\n\u001b[0m  iterate(\u001b[91m::Union{LinRange, StepRangeLen}\u001b[39m, \u001b[91m::Integer\u001b[39m) at /opt/julia-1.7.3/share/julia/base/range.jl:826\n\u001b[0m  iterate(\u001b[91m::T\u001b[39m) where T<:Union{Base.KeySet{<:Any, <:Dict}, Base.ValueIterator{<:Dict}} at /opt/julia-1.7.3/share/julia/base/dict.jl:695\n\u001b[0m  ...",
     "output_type": "error",
     "traceback": [
      "MethodError: no method matching iterate(::Nothing)\n\u001b[0mClosest candidates are:\n\u001b[0m  iterate(\u001b[91m::Union{LinRange, StepRangeLen}\u001b[39m) at /opt/julia-1.7.3/share/julia/base/range.jl:826\n\u001b[0m  iterate(\u001b[91m::Union{LinRange, StepRangeLen}\u001b[39m, \u001b[91m::Integer\u001b[39m) at /opt/julia-1.7.3/share/julia/base/range.jl:826\n\u001b[0m  iterate(\u001b[91m::T\u001b[39m) where T<:Union{Base.KeySet{<:Any, <:Dict}, Base.ValueIterator{<:Dict}} at /opt/julia-1.7.3/share/julia/base/dict.jl:695\n\u001b[0m  ...",
      "",
      "Stacktrace:",
      " [1] indexed_iterate(I::Nothing, i::Int64)",
      "   @ Base ./tuple.jl:92",
      " [2] OutPutFiles(AN::AtomNum; NParamType::String, LParamType::String)",
      "   @ Main ~/ドキュメント/Guleria2012/Main.jl:654",
      " [3] top-level scope",
      "   @ In[18]:5",
      " [4] eval",
      "   @ ./boot.jl:373 [inlined]",
      " [5] include_string(mapexpr::typeof(REPL.softscope), mod::Module, code::String, filename::String)",
      "   @ Base ./loading.jl:1196"
     ]
    }
   ],
   "source": [
    "include(\"Main.jl\")\n",
    "AN=AtomNum(57,82,1)\n",
    "NParamType=\"SLy4\"\n",
    "LParamType=\"HPL2\"\n",
    "OutPutFiles(AN,NParamType=NParamType,LParamType=LParamType)"
   ]
  },
  {
   "cell_type": "code",
   "execution_count": 19,
   "id": "d70b3af7",
   "metadata": {},
   "outputs": [
    {
     "name": "stdout",
     "output_type": "stream",
     "text": [
      "diffρ=(0.14834633886651333,0.07769691761255462,1.0994449910656755e-5)\n",
      "1\n"
     ]
    },
    {
     "name": "stderr",
     "output_type": "stream",
     "text": [
      "WARNING: replacing module NuclParameters.\n",
      "WARNING: replacing module LambdaParameters.\n",
      "WARNING: replacing module MyLib.\n"
     ]
    },
    {
     "name": "stdout",
     "output_type": "stream",
     "text": [
      "diffρ=(0.023421995232710713,0.019961202125578257,2.3109415996475834e-6)\n",
      "2\n",
      "diffρ=(0.00020500322273916908,0.0005160159728764102,8.333982370584133e-8)\n",
      "3\n",
      "diffρ=(2.7765762878365584e-5,4.757870461881464e-5,1.943621025909142e-8)\n",
      "4\n",
      "diffρ=(6.288553519497973e-6,1.2989588592762368e-5,3.83149988914897e-9)\n",
      "5\n",
      "diffρ=(2.347705719218403e-6,4.263235585157604e-6,1.990574582566954e-9)\n"
     ]
    }
   ],
   "source": [
    "include(\"Main.jl\")\n",
    "AN=AtomNum(82,126,1)\n",
    "NParamType=\"SLy4\"\n",
    "LParamType=\"HPL2\"\n",
    "OutPutFiles(AN,NParamType=NParamType,LParamType=LParamType)"
   ]
  }
 ],
 "metadata": {
  "kernelspec": {
   "display_name": "Julia 1.7.0",
   "language": "julia",
   "name": "julia-1.7"
  },
  "language_info": {
   "file_extension": ".jl",
   "mimetype": "application/julia",
   "name": "julia",
   "version": "1.7.0"
  }
 },
 "nbformat": 4,
 "nbformat_minor": 5
}
