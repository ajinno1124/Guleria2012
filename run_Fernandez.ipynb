{
 "cells": [
  {
   "cell_type": "code",
   "execution_count": 26,
   "id": "3f78c28a",
   "metadata": {},
   "outputs": [
    {
     "name": "stdout",
     "output_type": "stream",
     "text": [
      "diffρ=(0.014264734722380608,0.013814789641991787,0.0004965122047653171)\n",
      "1\n"
     ]
    },
    {
     "name": "stderr",
     "output_type": "stream",
     "text": [
      "WARNING: replacing module NuclParameters.\n",
      "WARNING: replacing module LambdaParameters.\n",
      "WARNING: replacing module MyLib.\n"
     ]
    },
    {
     "name": "stdout",
     "output_type": "stream",
     "text": [
      "diffρ=(0.00778998181943663,0.00830996692624583,0.00039084137756288163)\n",
      "2\n",
      "diffρ=(0.0022116531245679654,0.0023947655578308085,0.00023265606439938549)\n",
      "3\n",
      "diffρ=(0.0007213782686527889,0.0007807023178569615,6.039214948196511e-5)\n",
      "4\n",
      "diffρ=(0.0002663582794684515,0.00028804980332349813,2.1643646168481568e-5)\n",
      "5\n",
      "diffρ=(9.379804063965779e-5,0.00010169395970814023,8.748021164741903e-6)\n",
      "6\n",
      "diffρ=(3.5654396098664394e-5,3.8409457021151945e-5,2.6787748125974612e-6)\n",
      "7\n",
      "diffρ=(1.266222992439711e-5,1.3748901051350704e-5,1.2450147919649102e-6)\n",
      "8\n",
      "diffρ=(4.897371103175595e-6,5.2548811699235065e-6,3.485714966902561e-7)\n"
     ]
    }
   ],
   "source": [
    "include(\"Main.jl\")\n",
    "AN=AtomNum(8,8,1)\n",
    "NParamType=\"SKS3\"\n",
    "LParamType=\"SKSH1\"\n",
    "OutPutFiles(AN,NParamType=NParamType,LParamType=LParamType)"
   ]
  },
  {
   "cell_type": "code",
   "execution_count": 27,
   "id": "3e2fe13c",
   "metadata": {},
   "outputs": [
    {
     "name": "stdout",
     "output_type": "stream",
     "text": [
      "diffρ=(0.019877955302222094,0.018882895903488153,3.653895417862355e-5)\n",
      "1\n"
     ]
    },
    {
     "name": "stderr",
     "output_type": "stream",
     "text": [
      "WARNING: replacing module NuclParameters.\n",
      "WARNING: replacing module LambdaParameters.\n",
      "WARNING: replacing module MyLib.\n"
     ]
    },
    {
     "name": "stdout",
     "output_type": "stream",
     "text": [
      "diffρ=(0.0050103675239505305,0.005183482460310208,4.0608883800165513e-5)\n",
      "2\n",
      "diffρ=(0.0006391713922529318,0.0006931224012621626,1.2544234831314834e-6)\n",
      "3\n",
      "diffρ=(0.00010099365441881138,0.00010897093506936949,4.3501556829195294e-7)\n",
      "4\n",
      "diffρ=(1.8845121664713907e-5,2.029482001094827e-5,3.4251610532000545e-8)\n",
      "5\n",
      "diffρ=(3.3149637251427048e-6,3.6254826430178704e-6,1.5569934665632314e-8)\n"
     ]
    }
   ],
   "source": [
    "include(\"Main.jl\")\n",
    "AN=AtomNum(8,8,1)\n",
    "NParamType=\"SKS3\"\n",
    "LParamType=\"SKSH2\"\n",
    "OutPutFiles(AN,NParamType=NParamType,LParamType=LParamType)"
   ]
  },
  {
   "cell_type": "code",
   "execution_count": 28,
   "id": "7b1927b7",
   "metadata": {},
   "outputs": [
    {
     "name": "stdout",
     "output_type": "stream",
     "text": [
      "diffρ=(0.1029070997293473,0.08525014656583953,6.8817455699089e-5)\n",
      "1\n"
     ]
    },
    {
     "name": "stderr",
     "output_type": "stream",
     "text": [
      "WARNING: replacing module NuclParameters.\n",
      "WARNING: replacing module LambdaParameters.\n",
      "WARNING: replacing module MyLib.\n"
     ]
    },
    {
     "name": "stdout",
     "output_type": "stream",
     "text": [
      "diffρ=(0.013875890753662551,0.028267493244607048,3.2646383648242575e-5)\n",
      "2\n",
      "diffρ=(0.00032409481511529967,0.0014829915538721605,3.718027964658117e-7)\n",
      "3\n",
      "diffρ=(9.719092233878447e-5,0.0002807021622474863,1.2343396899480336e-7)\n",
      "4\n",
      "diffρ=(2.7197148689727547e-5,8.935801499460272e-5,2.511274068685796e-8)\n",
      "5\n",
      "diffρ=(1.0378537233246062e-5,2.6225438110281388e-5,1.873606535181855e-8)\n",
      "6\n",
      "diffρ=(3.7440747477665215e-6,9.693903444565724e-6,4.073443825820297e-9)\n"
     ]
    }
   ],
   "source": [
    "include(\"Main.jl\")\n",
    "AN=AtomNum(82,126,1)\n",
    "NParamType=\"SKS3\"\n",
    "LParamType=\"SKSH1\"\n",
    "OutPutFiles(AN,NParamType=NParamType,LParamType=LParamType)"
   ]
  },
  {
   "cell_type": "code",
   "execution_count": 29,
   "id": "4871afe6",
   "metadata": {},
   "outputs": [
    {
     "name": "stdout",
     "output_type": "stream",
     "text": [
      "diffρ=(0.10720701061793046,0.08079288123967604,1.4176984291969078e-5)\n",
      "1\n"
     ]
    },
    {
     "name": "stderr",
     "output_type": "stream",
     "text": [
      "WARNING: replacing module NuclParameters.\n",
      "WARNING: replacing module LambdaParameters.\n",
      "WARNING: replacing module MyLib.\n"
     ]
    },
    {
     "name": "stdout",
     "output_type": "stream",
     "text": [
      "diffρ=(0.013638321803512635,0.028575509625139398,1.0623547431573025e-6)\n",
      "2\n",
      "diffρ=(0.00031599517455773736,0.0015078595723143108,4.220567820694739e-8)\n",
      "3\n",
      "diffρ=(9.679807793985553e-5,0.0002782424599661438,2.6418925370345313e-8)\n",
      "4\n",
      "diffρ=(2.6651414002802255e-5,8.610803281239993e-5,5.954793933069023e-9)\n",
      "5\n",
      "diffρ=(1.0119058008909509e-5,2.488536807001978e-5,3.4258506447501745e-9)\n",
      "6\n",
      "diffρ=(3.7381348352506617e-6,9.14107505020108e-6,1.1303652499918997e-9)\n"
     ]
    }
   ],
   "source": [
    "include(\"Main.jl\")\n",
    "AN=AtomNum(82,126,1)\n",
    "NParamType=\"SKS3\"\n",
    "LParamType=\"SKSH2\"\n",
    "OutPutFiles(AN,NParamType=NParamType,LParamType=LParamType)"
   ]
  },
  {
   "cell_type": "code",
   "execution_count": 30,
   "id": "df820742",
   "metadata": {},
   "outputs": [],
   "source": [
    "cd(\"/home/kakuri/ドキュメント/Guleria2012\")"
   ]
  },
  {
   "cell_type": "code",
   "execution_count": null,
   "id": "679d0e34",
   "metadata": {},
   "outputs": [],
   "source": []
  }
 ],
 "metadata": {
  "kernelspec": {
   "display_name": "Julia 1.7.3",
   "language": "julia",
   "name": "julia-1.7"
  },
  "language_info": {
   "file_extension": ".jl",
   "mimetype": "application/julia",
   "name": "julia",
   "version": "1.7.3"
  }
 },
 "nbformat": 4,
 "nbformat_minor": 5
}
