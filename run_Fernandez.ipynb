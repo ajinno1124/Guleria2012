{
 "cells": [
  {
   "cell_type": "code",
   "execution_count": 5,
   "id": "3f78c28a",
   "metadata": {},
   "outputs": [
    {
     "name": "stdout",
     "output_type": "stream",
     "text": [
      "diffρ=(0.009783543127347652,0.008984839539748405,0.000585937832306656)\n",
      "1\n",
      "diffρ=(0.00891982049664673,0.008924131249920829,0.00036161062072315246)\n",
      "2\n",
      "diffρ=(0.0035571735691296695,0.0037322496000630773,0.00023732431768315877)\n",
      "3\n",
      "diffρ=(0.0016102413189172237,0.001653279818048365,9.827546832884487e-5)\n",
      "4\n",
      "diffρ=(0.0008010030505960345,0.0008310070607389337,4.4142789721685e-5)\n",
      "5\n",
      "diffρ=(0.0003997614099545612,0.00041372650268374365,2.4944375409817646e-5)\n",
      "6\n",
      "diffρ=(0.0002072263225373002,0.00021648295514508156,1.119595940133268e-5)\n",
      "7\n",
      "diffρ=(0.00010684027481263977,0.00011085638746551898,6.58870476476176e-6)\n",
      "8\n",
      "diffρ=(5.596114578446525e-5,5.907400823459226e-5,3.0441639548351037e-6)\n",
      "9\n",
      "diffρ=(2.938625207740648e-5,3.0461139877093705e-5,1.7830057501024963e-6)\n",
      "10\n",
      "diffρ=(1.5350061034198587e-5,1.6440447316791794e-5,8.461742546539452e-7)\n",
      "11\n",
      "diffρ=(8.19531466975228e-6,8.431181057304914e-6,4.891934921316259e-7)\n"
     ]
    },
    {
     "name": "stderr",
     "output_type": "stream",
     "text": [
      "WARNING: replacing module NuclParameters.\n",
      "WARNING: replacing module LambdaParameters.\n",
      "WARNING: replacing module MyLib.\n"
     ]
    }
   ],
   "source": [
    "include(\"Main.jl\")\n",
    "AN=AtomNum(8,7,1)\n",
    "NParamType=\"SKS3\"\n",
    "LParamType=\"SKSH1\"\n",
    "OutPutFiles(AN,NParamType=NParamType,LParamType=LParamType)"
   ]
  },
  {
   "cell_type": "code",
   "execution_count": 6,
   "id": "3e2fe13c",
   "metadata": {},
   "outputs": [
    {
     "name": "stdout",
     "output_type": "stream",
     "text": [
      "diffρ=(0.011685622827619112,0.01023884643405845,9.825477669308779e-5)\n",
      "1\n",
      "diffρ=(0.0059637338639725,0.005697604558708979,1.3807109870859723e-5)\n",
      "2\n",
      "diffρ=(0.0014761651292916763,0.0015686691130361212,6.086093549271233e-7)\n",
      "3\n",
      "diffρ=(0.00043341300675118854,0.00044053756638905985,3.381687210196202e-8)\n",
      "4\n",
      "diffρ=(0.00014066951436711675,0.0001449687727000131,3.660137906715952e-8)\n",
      "5\n",
      "diffρ=(4.503027557954665e-5,4.627760693318333e-5,3.51181222554631e-9)\n",
      "6\n",
      "diffρ=(1.4739320300961976e-5,1.5204652990966761e-5,2.855963420199489e-9)\n",
      "7\n",
      "diffρ=(4.809994508254198e-6,4.9358351239179015e-6,4.870463218830891e-10)\n"
     ]
    },
    {
     "name": "stderr",
     "output_type": "stream",
     "text": [
      "WARNING: replacing module NuclParameters.\n",
      "WARNING: replacing module LambdaParameters.\n",
      "WARNING: replacing module MyLib.\n"
     ]
    }
   ],
   "source": [
    "include(\"Main.jl\")\n",
    "AN=AtomNum(8,7,1)\n",
    "NParamType=\"SKS3\"\n",
    "LParamType=\"SKSH2\"\n",
    "OutPutFiles(AN,NParamType=NParamType,LParamType=LParamType)"
   ]
  },
  {
   "cell_type": "code",
   "execution_count": 7,
   "id": "7b1927b7",
   "metadata": {
    "scrolled": true
   },
   "outputs": [
    {
     "name": "stdout",
     "output_type": "stream",
     "text": [
      "diffρ=(0.10353606019738804,0.09949055368274172,5.3233326483685434e-5)\n",
      "1\n",
      "diffρ=(0.016137585742711402,0.04115916510941127,9.573375177140062e-6)\n",
      "2\n",
      "diffρ=(0.0008467500307272301,0.0035950548450931485,2.1027853196446757e-6)\n",
      "3\n",
      "diffρ=(0.0002537799337278209,0.000760167024670768,2.6216104828134724e-7)\n",
      "4\n",
      "diffρ=(7.134867113201991e-5,0.00023021201457955147,3.95536157092821e-8)\n",
      "5\n",
      "diffρ=(2.4542240798943085e-5,6.844730131616739e-5,2.7716850272009657e-8)\n",
      "6\n",
      "diffρ=(8.396525543009216e-6,2.2884745220857693e-5,6.004405992423534e-9)\n",
      "7\n",
      "diffρ=(2.8453866427534883e-6,7.57051109018621e-6,4.05903852187722e-9)\n"
     ]
    },
    {
     "name": "stderr",
     "output_type": "stream",
     "text": [
      "WARNING: replacing module NuclParameters.\n",
      "WARNING: replacing module LambdaParameters.\n",
      "WARNING: replacing module MyLib.\n"
     ]
    }
   ],
   "source": [
    "include(\"Main.jl\")\n",
    "AN=AtomNum(82,125,1)\n",
    "NParamType=\"SKS3\"\n",
    "LParamType=\"SKSH1\"\n",
    "OutPutFiles(AN,NParamType=NParamType,LParamType=LParamType)"
   ]
  },
  {
   "cell_type": "code",
   "execution_count": 8,
   "id": "4871afe6",
   "metadata": {},
   "outputs": [
    {
     "name": "stdout",
     "output_type": "stream",
     "text": [
      "diffρ=(0.1075823849384014,0.0944445400042246,5.8027046907280505e-6)\n",
      "1\n",
      "diffρ=(0.015917221094697575,0.041616737939590254,4.0325688878756336e-7)\n",
      "2\n",
      "diffρ=(0.000838955634300366,0.0036150752986978036,3.031527802315733e-7)\n",
      "3\n",
      "diffρ=(0.0002486908062383373,0.000741236148012009,5.539143196659194e-8)\n",
      "4\n",
      "diffρ=(6.729456361922461e-5,0.000218081370113834,7.34072218285212e-9)\n",
      "5\n",
      "diffρ=(2.261751256206928e-5,6.25194158354281e-5,4.338871167529887e-9)\n",
      "6\n",
      "diffρ=(7.595905190833081e-6,2.0414255155984376e-5,1.1064526525464247e-9)\n",
      "7\n",
      "diffρ=(2.5570032636551854e-6,6.62112986384963e-6,6.610974289741215e-10)\n"
     ]
    },
    {
     "name": "stderr",
     "output_type": "stream",
     "text": [
      "WARNING: replacing module NuclParameters.\n",
      "WARNING: replacing module LambdaParameters.\n",
      "WARNING: replacing module MyLib.\n"
     ]
    }
   ],
   "source": [
    "include(\"Main.jl\")\n",
    "AN=AtomNum(82,125,1)\n",
    "NParamType=\"SKS3\"\n",
    "LParamType=\"SKSH2\"\n",
    "OutPutFiles(AN,NParamType=NParamType,LParamType=LParamType)"
   ]
  },
  {
   "cell_type": "code",
   "execution_count": null,
   "id": "df820742",
   "metadata": {},
   "outputs": [],
   "source": []
  },
  {
   "cell_type": "code",
   "execution_count": null,
   "id": "679d0e34",
   "metadata": {},
   "outputs": [],
   "source": []
  }
 ],
 "metadata": {
  "kernelspec": {
   "display_name": "Julia 1.7.0",
   "language": "julia",
   "name": "julia-1.7"
  },
  "language_info": {
   "file_extension": ".jl",
   "mimetype": "application/julia",
   "name": "julia",
   "version": "1.7.0"
  }
 },
 "nbformat": 4,
 "nbformat_minor": 5
}
