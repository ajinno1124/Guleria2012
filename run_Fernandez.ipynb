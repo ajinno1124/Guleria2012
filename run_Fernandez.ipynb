{
 "cells": [
  {
   "cell_type": "code",
   "execution_count": 1,
   "id": "3f78c28a",
   "metadata": {},
   "outputs": [
    {
     "name": "stdout",
     "output_type": "stream",
     "text": [
      "diffρ=(0.013217000068231228,0.01296524904958511,0.0005582335169019118)\n",
      "1\n",
      "diffρ=(0.009355419668774937,0.010029659330894726,0.00027591851998285554)\n",
      "2\n",
      "diffρ=(0.0030792509319801254,0.0033477374297179487,0.00019909629946608814)\n",
      "3\n",
      "diffρ=(0.001188603822985877,0.0012919176059885563,6.291961327628749e-5)\n",
      "4\n",
      "diffρ=(0.0005149004966874677,0.0005592160121938573,2.6570906442867974e-5)\n",
      "5\n",
      "diffρ=(0.00021932464344789462,0.00023873195616698606,1.2551200334834785e-5)\n",
      "6\n",
      "diffρ=(9.810740420226372e-5,0.00010632908640405212,4.837232901088228e-6)\n",
      "7\n",
      "diffρ=(4.2585016381917564e-5,4.642987649860092e-5,2.4753223801757955e-6)\n",
      "8\n",
      "diffρ=(1.9268525317555896e-5,2.0853379763175844e-5,9.359684326439232e-7)\n",
      "9\n",
      "diffρ=(8.414359232474176e-6,9.193315008194014e-6,4.891336058527887e-7)\n"
     ]
    }
   ],
   "source": [
    "include(\"Main.jl\")\n",
    "AN=AtomNum(8,8,1)\n",
    "NParamType=\"SKS3\"\n",
    "LParamType=\"SKSH1\"\n",
    "OutPutFiles(AN,NParamType=NParamType,LParamType=LParamType)"
   ]
  },
  {
   "cell_type": "code",
   "execution_count": 2,
   "id": "3e2fe13c",
   "metadata": {},
   "outputs": [
    {
     "name": "stdout",
     "output_type": "stream",
     "text": [
      "diffρ=(0.016966308787972725,0.016179315472895053,9.99164136507784e-5)\n",
      "1\n",
      "diffρ=(0.0067083705041335595,0.007043912458269336,1.8889391212889942e-5)\n",
      "2\n",
      "diffρ=(0.0013266005972898745,0.0014421947389710828,7.698329343591315e-7)\n",
      "3\n",
      "diffρ=(0.0003338924497562847,0.0003621459390502212,2.3300102007230326e-8)\n",
      "4\n",
      "diffρ=(9.593979501474394e-5,0.00010375860765317006,4.584432644640319e-8)\n",
      "5\n",
      "diffρ=(2.668919809814725e-5,2.910263851289793e-5,1.9956660821718983e-9)\n",
      "6\n",
      "diffρ=(7.678162956028886e-6,8.232997886045656e-6,2.8892747754374633e-9)\n"
     ]
    },
    {
     "name": "stderr",
     "output_type": "stream",
     "text": [
      "WARNING: replacing module NuclParameters.\n",
      "WARNING: replacing module LambdaParameters.\n",
      "WARNING: replacing module MyLib.\n"
     ]
    }
   ],
   "source": [
    "include(\"Main.jl\")\n",
    "AN=AtomNum(8,8,1)\n",
    "NParamType=\"SKS3\"\n",
    "LParamType=\"SKSH2\"\n",
    "OutPutFiles(AN,NParamType=NParamType,LParamType=LParamType)"
   ]
  },
  {
   "cell_type": "code",
   "execution_count": 3,
   "id": "7b1927b7",
   "metadata": {
    "scrolled": true
   },
   "outputs": [
    {
     "name": "stdout",
     "output_type": "stream",
     "text": [
      "diffρ=(0.10146004663124475,0.08849882879794953,9.234056170353872e-5)\n",
      "1\n",
      "diffρ=(0.01423862338861719,0.02846831725878742,2.83794415192036e-5)\n",
      "2\n",
      "diffρ=(0.00033810030801273715,0.0015021622717938214,2.755713325577503e-7)\n",
      "3\n",
      "diffρ=(0.00010065381921378755,0.00029091055685037047,8.526691552753551e-8)\n",
      "4\n",
      "diffρ=(2.764510262263231e-5,9.278332747917722e-5,1.464881433636366e-8)\n",
      "5\n",
      "diffρ=(1.0514717443501278e-5,2.7290705725936926e-5,1.255026718605522e-8)\n",
      "6\n",
      "diffρ=(3.667411195755516e-6,9.937912386476493e-6,2.4727389182336195e-9)\n"
     ]
    },
    {
     "name": "stderr",
     "output_type": "stream",
     "text": [
      "WARNING: replacing module NuclParameters.\n",
      "WARNING: replacing module LambdaParameters.\n",
      "WARNING: replacing module MyLib.\n"
     ]
    }
   ],
   "source": [
    "include(\"Main.jl\")\n",
    "AN=AtomNum(82,126,1)\n",
    "NParamType=\"SKS3\"\n",
    "LParamType=\"SKSH1\"\n",
    "OutPutFiles(AN,NParamType=NParamType,LParamType=LParamType)"
   ]
  },
  {
   "cell_type": "code",
   "execution_count": 4,
   "id": "4871afe6",
   "metadata": {},
   "outputs": [
    {
     "name": "stdout",
     "output_type": "stream",
     "text": [
      "diffρ=(0.10544686203290086,0.08414116788915896,9.513213740603858e-6)\n",
      "1\n",
      "diffρ=(0.01398236582785144,0.028783816801833673,1.617068724044474e-6)\n",
      "2\n",
      "diffρ=(0.00033140960453226855,0.0015346277974980227,4.2865315763316e-8)\n",
      "3\n",
      "diffρ=(0.00010081738191179766,0.0002915933792829647,2.245373887458623e-8)\n",
      "4\n",
      "diffρ=(2.7439639891381638e-5,9.085734421835617e-5,4.114664844836523e-9)\n",
      "5\n",
      "diffρ=(1.0315790647634247e-5,2.629409666991551e-5,2.5843268000673256e-9)\n",
      "6\n",
      "diffρ=(3.671215083500124e-6,9.500079407696028e-6,7.410509338295627e-10)\n"
     ]
    },
    {
     "name": "stderr",
     "output_type": "stream",
     "text": [
      "WARNING: replacing module NuclParameters.\n",
      "WARNING: replacing module LambdaParameters.\n",
      "WARNING: replacing module MyLib.\n"
     ]
    }
   ],
   "source": [
    "include(\"Main.jl\")\n",
    "AN=AtomNum(82,126,1)\n",
    "NParamType=\"SKS3\"\n",
    "LParamType=\"SKSH2\"\n",
    "OutPutFiles(AN,NParamType=NParamType,LParamType=LParamType)"
   ]
  },
  {
   "cell_type": "code",
   "execution_count": null,
   "id": "df820742",
   "metadata": {},
   "outputs": [],
   "source": []
  },
  {
   "cell_type": "code",
   "execution_count": null,
   "id": "679d0e34",
   "metadata": {},
   "outputs": [],
   "source": []
  }
 ],
 "metadata": {
  "kernelspec": {
   "display_name": "Julia 1.7.0",
   "language": "julia",
   "name": "julia-1.7"
  },
  "language_info": {
   "file_extension": ".jl",
   "mimetype": "application/julia",
   "name": "julia",
   "version": "1.7.0"
  }
 },
 "nbformat": 4,
 "nbformat_minor": 5
}
