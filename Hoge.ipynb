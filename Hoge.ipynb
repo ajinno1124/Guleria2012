{
 "cells": [
  {
   "cell_type": "code",
   "execution_count": 1,
   "id": "7eacbc76",
   "metadata": {},
   "outputs": [
    {
     "data": {
      "text/plain": [
       "4-element Vector{Float64}:\n",
       " -290.00195749999995\n",
       "   16.010749999999998\n",
       "   28.308124999999997\n",
       "  527.4135095624999"
      ]
     },
     "execution_count": 1,
     "metadata": {},
     "output_type": "execute_result"
    }
   ],
   "source": [
    "include(\"SkyrmeParams.jl\")\n",
    "using .LambdaParameters\n",
    "function testgetaΛ()\n",
    "    LambdaParameters.getaΛ(\"HPΛ1\")\n",
    "    #getaΛ(\"HPΛ1\") #usingの有無に関わらす　not defined\n",
    "end\n",
    "\n",
    "testgetaΛ()"
   ]
  },
  {
   "cell_type": "code",
   "execution_count": 2,
   "id": "8fdf7772",
   "metadata": {},
   "outputs": [
    {
     "name": "stderr",
     "output_type": "stream",
     "text": [
      "WARNING: replacing module NuclParameters.\n",
      "WARNING: replacing module LambdaParameters.\n"
     ]
    },
    {
     "data": {
      "text/plain": [
       "10-element Vector{Float64}:\n",
       " -1763.392735\n",
       "  1660.10297\n",
       "  1554.5048333333334\n",
       " -2128.5465\n",
       "    32.47299000000001\n",
       "    49.31277\n",
       "    92.6534925\n",
       "   -31.314172500000005\n",
       "   -23.682745\n",
       "    64.575625"
      ]
     },
     "execution_count": 2,
     "metadata": {},
     "output_type": "execute_result"
    }
   ],
   "source": [
    "include(\"SkyrmeParams.jl\")\n",
    "using .NuclParameters\n",
    "function testgetaN()\n",
    "    NuclParameters.getaN(\"SLy4\")\n",
    "end\n",
    "\n",
    "testgetaN()"
   ]
  },
  {
   "cell_type": "code",
   "execution_count": 6,
   "id": "d8614d2d",
   "metadata": {},
   "outputs": [
    {
     "name": "stdout",
     "output_type": "stream",
     "text": [
      "ansΛ=\n",
      "[18.450269114874917, 19.450269114874917, 20.450269114874917, 21.450269114874917, 22.450269114874917, 23.450269114874917, 24.450269114874917, 25.450269114874917, 26.450269114874917, 27.450269114874917]\n",
      "ansN=\n",
      "[23.721248539064334, 26.721248539064334, 29.721248539064334, 32.721248539064334, 35.721248539064334, 38.721248539064334, 41.721248539064334, 44.721248539064334, 47.721248539064334, 50.721248539064334]"
     ]
    },
    {
     "name": "stderr",
     "output_type": "stream",
     "text": [
      "WARNING: replacing module NuclParameters.\n",
      "WARNING: replacing module LambdaParameters.\n"
     ]
    }
   ],
   "source": [
    "include(\"Main.jl\")\n",
    "function testh2m()\n",
    "    TestNum=10\n",
    "    ρN=1:TestNum\n",
    "    ρq=1:TestNum\n",
    "    ρΛ=1:TestNum\n",
    "    aΛ=LambdaParameters.getaΛ(\"HPΛ1\")\n",
    "    aN=NuclParameters.getaN(\"SLy4\")\n",
    "    ansΛ=h2mΛ(aΛ,ρN/aΛ[2])\n",
    "    ansN=h2mN(1,aN,ρN/aN[5],ρq/aN[6],aΛ,ρΛ/aΛ[2])\n",
    "    println(\"ansΛ=\")\n",
    "    show(ansΛ)\n",
    "    println(\"\")\n",
    "    println(\"ansN=\")\n",
    "    show(ansN)\n",
    "    \n",
    "end\n",
    "testh2m()"
   ]
  },
  {
   "cell_type": "code",
   "execution_count": 17,
   "id": "53094767",
   "metadata": {},
   "outputs": [
    {
     "data": {
      "text/plain": [
       "10×10 Matrix{Float64}:\n",
       " 1.0  2.0  3.0  4.0  5.0  6.0  7.0  8.0  9.0  10.0\n",
       " 1.0  2.0  3.0  4.0  5.0  6.0  7.0  8.0  9.0  10.0\n",
       " 1.0  2.0  3.0  4.0  5.0  6.0  7.0  8.0  9.0  10.0\n",
       " 1.0  2.0  3.0  4.0  5.0  6.0  7.0  8.0  9.0  10.0\n",
       " 1.0  2.0  3.0  4.0  5.0  6.0  7.0  8.0  9.0  10.0\n",
       " 1.0  2.0  3.0  4.0  5.0  6.0  7.0  8.0  9.0  10.0\n",
       " 1.0  2.0  3.0  4.0  5.0  6.0  7.0  8.0  9.0  10.0\n",
       " 1.0  2.0  3.0  4.0  5.0  6.0  7.0  8.0  9.0  10.0\n",
       " 1.0  2.0  3.0  4.0  5.0  6.0  7.0  8.0  9.0  10.0\n",
       " 1.0  2.0  3.0  4.0  5.0  6.0  7.0  8.0  9.0  10.0"
      ]
     },
     "execution_count": 17,
     "metadata": {},
     "output_type": "execute_result"
    }
   ],
   "source": [
    "ρ1=ones(Float64,10,10)\n",
    "Ones=ones(Float64,10)\n",
    "for i in 1:10\n",
    "    @. ρ1[:,i]=i*Ones[:]\n",
    "end\n",
    "ρ1"
   ]
  },
  {
   "cell_type": "code",
   "execution_count": 12,
   "id": "f85c5493",
   "metadata": {},
   "outputs": [
    {
     "name": "stdout",
     "output_type": "stream",
     "text": [
      "Vector{SingleParticleState}\n"
     ]
    },
    {
     "name": "stderr",
     "output_type": "stream",
     "text": [
      "WARNING: replacing module NuclParameters.\n",
      "WARNING: replacing module LambdaParameters.\n"
     ]
    }
   ],
   "source": [
    "include(\"Main.jl\")\n",
    "SPS=SingleParticleState[]\n",
    "println(typeof(SPS))"
   ]
  },
  {
   "cell_type": "code",
   "execution_count": 11,
   "id": "8847bc92",
   "metadata": {},
   "outputs": [
    {
     "data": {
      "text/plain": [
       "0.30000000000000004"
      ]
     },
     "execution_count": 11,
     "metadata": {},
     "output_type": "execute_result"
    }
   ],
   "source": [
    "function TestArray()\n",
    "    A=[Float64[],Float64[],Float64[]]\n",
    "    for i in 1:10\n",
    "        push!(A[1],0.1*i)\n",
    "        push!(A[2],1*i)\n",
    "        push!(A[3],10*i)\n",
    "    end\n",
    "    return A\n",
    "end\n",
    "A=TestArray()\n",
    "A[1][3]"
   ]
  },
  {
   "cell_type": "code",
   "execution_count": 15,
   "id": "6831fc64",
   "metadata": {},
   "outputs": [
    {
     "data": {
      "text/plain": [
       "Base.OneTo(1)"
      ]
     },
     "execution_count": 15,
     "metadata": {},
     "output_type": "execute_result"
    }
   ],
   "source": [
    "A=[[1],[1,2],[1,2,3]]\n",
    "eachindex(A[1][])"
   ]
  },
  {
   "cell_type": "code",
   "execution_count": 4,
   "id": "0df38e4a",
   "metadata": {},
   "outputs": [
    {
     "data": {
      "text/plain": [
       "Int64"
      ]
     },
     "execution_count": 4,
     "metadata": {},
     "output_type": "execute_result"
    }
   ],
   "source": [
    "typeof(sign(-1))"
   ]
  },
  {
   "cell_type": "code",
   "execution_count": 4,
   "id": "38022aad",
   "metadata": {},
   "outputs": [
    {
     "ename": "Base.IOError",
     "evalue": "IOError: mkdir(\"my/path\"; mode=0o777): file already exists (EEXIST)",
     "output_type": "error",
     "traceback": [
      "IOError: mkdir(\"my/path\"; mode=0o777): file already exists (EEXIST)\n",
      "\n",
      "Stacktrace:\n",
      " [1] uv_error\n",
      "   @ ./libuv.jl:97 [inlined]\n",
      " [2] mkdir(path::String; mode::UInt16)\n",
      "   @ Base.Filesystem ./file.jl:183\n",
      " [3] mkdir(path::String)\n",
      "   @ Base.Filesystem ./file.jl:176\n",
      " [4] top-level scope\n",
      "   @ ~/ドキュメント/Guleria2012/Hoge.ipynb:1"
     ]
    }
   ],
   "source": [
    "mkdir(\"my/path\")"
   ]
  },
  {
   "cell_type": "code",
   "execution_count": null,
   "id": "29cad0df",
   "metadata": {},
   "outputs": [],
   "source": []
  }
 ],
 "metadata": {
  "kernelspec": {
   "display_name": "Julia 1.6.1",
   "language": "julia",
   "name": "julia-1.6"
  },
  "language_info": {
   "file_extension": ".jl",
   "mimetype": "application/julia",
   "name": "julia",
   "version": "1.6.1"
  }
 },
 "nbformat": 4,
 "nbformat_minor": 5
}
