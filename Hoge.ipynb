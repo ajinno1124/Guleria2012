{
 "cells": [
  {
   "cell_type": "code",
   "execution_count": 1,
   "id": "7eacbc76",
   "metadata": {},
   "outputs": [
    {
     "data": {
      "text/plain": [
       "4-element Vector{Float64}:\n",
       " -290.00195749999995\n",
       "   16.010749999999998\n",
       "   28.308124999999997\n",
       "  527.4135095624999"
      ]
     },
     "execution_count": 1,
     "metadata": {},
     "output_type": "execute_result"
    }
   ],
   "source": [
    "include(\"SkyrmeParams.jl\")\n",
    "using .LambdaParameters\n",
    "function testgetaΛ()\n",
    "    LambdaParameters.getaΛ(\"HPΛ1\")\n",
    "    #getaΛ(\"HPΛ1\") #usingの有無に関わらす　not defined\n",
    "end\n",
    "\n",
    "testgetaΛ()"
   ]
  },
  {
   "cell_type": "code",
   "execution_count": 2,
   "id": "8fdf7772",
   "metadata": {},
   "outputs": [
    {
     "name": "stderr",
     "output_type": "stream",
     "text": [
      "WARNING: replacing module NuclParameters.\n",
      "WARNING: replacing module LambdaParameters.\n"
     ]
    },
    {
     "data": {
      "text/plain": [
       "10-element Vector{Float64}:\n",
       " -1763.392735\n",
       "  1660.10297\n",
       "  1554.5048333333334\n",
       " -2128.5465\n",
       "    32.47299000000001\n",
       "    49.31277\n",
       "    92.6534925\n",
       "   -31.314172500000005\n",
       "   -23.682745\n",
       "    64.575625"
      ]
     },
     "execution_count": 2,
     "metadata": {},
     "output_type": "execute_result"
    }
   ],
   "source": [
    "include(\"SkyrmeParams.jl\")\n",
    "using .NuclParameters\n",
    "function testgetaN()\n",
    "    NuclParameters.getaN(\"SLy4\")\n",
    "end\n",
    "\n",
    "testgetaN()"
   ]
  },
  {
   "cell_type": "code",
   "execution_count": 6,
   "id": "d8614d2d",
   "metadata": {},
   "outputs": [
    {
     "name": "stdout",
     "output_type": "stream",
     "text": [
      "ansΛ=\n",
      "[18.450269114874917, 19.450269114874917, 20.450269114874917, 21.450269114874917, 22.450269114874917, 23.450269114874917, 24.450269114874917, 25.450269114874917, 26.450269114874917, 27.450269114874917]\n",
      "ansN=\n",
      "[23.721248539064334, 26.721248539064334, 29.721248539064334, 32.721248539064334, 35.721248539064334, 38.721248539064334, 41.721248539064334, 44.721248539064334, 47.721248539064334, 50.721248539064334]"
     ]
    },
    {
     "name": "stderr",
     "output_type": "stream",
     "text": [
      "WARNING: replacing module NuclParameters.\n",
      "WARNING: replacing module LambdaParameters.\n"
     ]
    }
   ],
   "source": [
    "include(\"Main.jl\")\n",
    "function testh2m()\n",
    "    TestNum=10\n",
    "    ρN=1:TestNum\n",
    "    ρq=1:TestNum\n",
    "    ρΛ=1:TestNum\n",
    "    aΛ=LambdaParameters.getaΛ(\"HPΛ1\")\n",
    "    aN=NuclParameters.getaN(\"SLy4\")\n",
    "    ansΛ=h2mΛ(aΛ,ρN/aΛ[2])\n",
    "    ansN=h2mN(1,aN,ρN/aN[5],ρq/aN[6],aΛ,ρΛ/aΛ[2])\n",
    "    println(\"ansΛ=\")\n",
    "    show(ansΛ)\n",
    "    println(\"\")\n",
    "    println(\"ansN=\")\n",
    "    show(ansN)\n",
    "    \n",
    "end\n",
    "testh2m()"
   ]
  },
  {
   "cell_type": "code",
   "execution_count": 17,
   "id": "53094767",
   "metadata": {},
   "outputs": [
    {
     "data": {
      "text/plain": [
       "10×10 Matrix{Float64}:\n",
       " 1.0  2.0  3.0  4.0  5.0  6.0  7.0  8.0  9.0  10.0\n",
       " 1.0  2.0  3.0  4.0  5.0  6.0  7.0  8.0  9.0  10.0\n",
       " 1.0  2.0  3.0  4.0  5.0  6.0  7.0  8.0  9.0  10.0\n",
       " 1.0  2.0  3.0  4.0  5.0  6.0  7.0  8.0  9.0  10.0\n",
       " 1.0  2.0  3.0  4.0  5.0  6.0  7.0  8.0  9.0  10.0\n",
       " 1.0  2.0  3.0  4.0  5.0  6.0  7.0  8.0  9.0  10.0\n",
       " 1.0  2.0  3.0  4.0  5.0  6.0  7.0  8.0  9.0  10.0\n",
       " 1.0  2.0  3.0  4.0  5.0  6.0  7.0  8.0  9.0  10.0\n",
       " 1.0  2.0  3.0  4.0  5.0  6.0  7.0  8.0  9.0  10.0\n",
       " 1.0  2.0  3.0  4.0  5.0  6.0  7.0  8.0  9.0  10.0"
      ]
     },
     "execution_count": 17,
     "metadata": {},
     "output_type": "execute_result"
    }
   ],
   "source": [
    "ρ1=ones(Float64,10,10)\n",
    "Ones=ones(Float64,10)\n",
    "for i in 1:10\n",
    "    @. ρ1[:,i]=i*Ones[:]\n",
    "end\n",
    "ρ1"
   ]
  },
  {
   "cell_type": "code",
   "execution_count": 12,
   "id": "f85c5493",
   "metadata": {},
   "outputs": [
    {
     "name": "stdout",
     "output_type": "stream",
     "text": [
      "Vector{SingleParticleState}\n"
     ]
    },
    {
     "name": "stderr",
     "output_type": "stream",
     "text": [
      "WARNING: replacing module NuclParameters.\n",
      "WARNING: replacing module LambdaParameters.\n"
     ]
    }
   ],
   "source": [
    "include(\"Main.jl\")\n",
    "SPS=SingleParticleState[]\n",
    "println(typeof(SPS))"
   ]
  },
  {
   "cell_type": "code",
   "execution_count": 11,
   "id": "8847bc92",
   "metadata": {},
   "outputs": [
    {
     "data": {
      "text/plain": [
       "0.30000000000000004"
      ]
     },
     "execution_count": 11,
     "metadata": {},
     "output_type": "execute_result"
    }
   ],
   "source": [
    "function TestArray()\n",
    "    A=[Float64[],Float64[],Float64[]]\n",
    "    for i in 1:10\n",
    "        push!(A[1],0.1*i)\n",
    "        push!(A[2],1*i)\n",
    "        push!(A[3],10*i)\n",
    "    end\n",
    "    return A\n",
    "end\n",
    "A=TestArray()\n",
    "A[1][3]"
   ]
  },
  {
   "cell_type": "code",
   "execution_count": 15,
   "id": "6831fc64",
   "metadata": {},
   "outputs": [
    {
     "data": {
      "text/plain": [
       "Base.OneTo(1)"
      ]
     },
     "execution_count": 15,
     "metadata": {},
     "output_type": "execute_result"
    }
   ],
   "source": [
    "A=[[1],[1,2],[1,2,3]]\n",
    "eachindex(A[1][])"
   ]
  },
  {
   "cell_type": "code",
   "execution_count": 4,
   "id": "0df38e4a",
   "metadata": {},
   "outputs": [
    {
     "data": {
      "text/plain": [
       "Int64"
      ]
     },
     "execution_count": 4,
     "metadata": {},
     "output_type": "execute_result"
    }
   ],
   "source": [
    "typeof(sign(-1))"
   ]
  },
  {
   "cell_type": "code",
   "execution_count": 4,
   "id": "38022aad",
   "metadata": {},
   "outputs": [
    {
     "ename": "Base.IOError",
     "evalue": "IOError: mkdir(\"my/path\"; mode=0o777): file already exists (EEXIST)",
     "output_type": "error",
     "traceback": [
      "IOError: mkdir(\"my/path\"; mode=0o777): file already exists (EEXIST)\n",
      "\n",
      "Stacktrace:\n",
      " [1] uv_error\n",
      "   @ ./libuv.jl:97 [inlined]\n",
      " [2] mkdir(path::String; mode::UInt16)\n",
      "   @ Base.Filesystem ./file.jl:183\n",
      " [3] mkdir(path::String)\n",
      "   @ Base.Filesystem ./file.jl:176\n",
      " [4] top-level scope\n",
      "   @ ~/ドキュメント/Guleria2012/Hoge.ipynb:1"
     ]
    }
   ],
   "source": [
    "mkdir(\"my/path\")"
   ]
  },
  {
   "cell_type": "code",
   "execution_count": 1,
   "id": "29cad0df",
   "metadata": {},
   "outputs": [
    {
     "data": {
      "text/plain": [
       "IOStream"
      ]
     },
     "execution_count": 1,
     "metadata": {},
     "output_type": "execute_result"
    }
   ],
   "source": [
    "io=open(\"hoge.txt\",\"w\")\n",
    "typeof(io)"
   ]
  },
  {
   "cell_type": "code",
   "execution_count": 4,
   "id": "7f6ab800",
   "metadata": {},
   "outputs": [
    {
     "name": "stdout",
     "output_type": "stream",
     "text": [
      "65\n",
      "87\n",
      "1413\n",
      "2327\n",
      "3949\n",
      "5281\n",
      "82125\n"
     ]
    }
   ],
   "source": [
    "AN=[\n",
    "\t\t[6,5],\n",
    "\t\t[8,7],\n",
    "\t\t[14,13],\n",
    "\t\t[23,27],\n",
    "\t\t[39,49],\n",
    "\t\t[52,81],\n",
    "\t\t[82,125]\n",
    "\t]\n",
    "for i=eachindex(AN)\n",
    "    println(AN[i][1] ,AN[i][2])\n",
    "end"
   ]
  },
  {
   "cell_type": "code",
   "execution_count": 4,
   "id": "d28a58bd",
   "metadata": {},
   "outputs": [
    {
     "data": {
      "text/html": [
       "<div class=\"data-frame\"><p>35 rows × 30 columns (omitted printing of 22 columns)</p><table class=\"data-frame\"><thead><tr><th></th><th>index</th><th>Parameter Name</th><th>Paper</th><th>a1</th><th>a2</th><th>a3</th><th>a4</th><th>a5</th></tr><tr><th></th><th title=\"Int64\">Int64</th><th title=\"String\">String</th><th title=\"String15\">String15</th><th title=\"Float64\">Float64</th><th title=\"Float64\">Float64</th><th title=\"Float64\">Float64</th><th title=\"Float64\">Float64</th><th title=\"Float64\">Float64</th></tr></thead><tbody><tr><th>1</th><td>1</td><td>YBZ1</td><td>Yamamoto1988</td><td>-330.154</td><td>26.25</td><td>20.68</td><td>0.0</td><td>0.0</td></tr><tr><th>2</th><td>2</td><td>YBZ2</td><td>Yamamoto1988</td><td>-375.149</td><td>26.25</td><td>15.35</td><td>0.0</td><td>0.0</td></tr><tr><th>3</th><td>3</td><td>YBZ3</td><td>Yamamoto1988</td><td>-237.004</td><td>26.25</td><td>32.96</td><td>0.0</td><td>0.0</td></tr><tr><th>4</th><td>4</td><td>YBZ4</td><td>Yamamoto1988</td><td>-224.981</td><td>26.25</td><td>25.335</td><td>0.0</td><td>0.0</td></tr><tr><th>5</th><td>5</td><td>YBZ5</td><td>Yamamoto1988</td><td>-298.116</td><td>0.0</td><td>11.57</td><td>0.0</td><td>0.0</td></tr><tr><th>6</th><td>6</td><td>YBZ6</td><td>Yamamoto1988</td><td>-352.287</td><td>45.0</td><td>27.7</td><td>0.0</td><td>0.0</td></tr><tr><th>7</th><td>7</td><td>SKSH1</td><td>Fernandez1989</td><td>-176.5</td><td>2.075</td><td>-18.9375</td><td>0.0</td><td>0.0</td></tr><tr><th>8</th><td>8</td><td>SKSH2</td><td>Fernandez1989</td><td>-290.0</td><td>0.35</td><td>10.675</td><td>0.0</td><td>0.0</td></tr><tr><th>9</th><td>9</td><td>LY1</td><td>Lanskoy1997</td><td>-465.242</td><td>16.25</td><td>12.875</td><td>567.761</td><td>0.0</td></tr><tr><th>10</th><td>10</td><td>LY2</td><td>Lanskoy1997</td><td>-478.846</td><td>42.0</td><td>28.0</td><td>457.23</td><td>0.0</td></tr><tr><th>11</th><td>11</td><td>LY3</td><td>Lanskoy1997</td><td>-617.444</td><td>21.5</td><td>47.25</td><td>705.119</td><td>0.0</td></tr><tr><th>12</th><td>12</td><td>LY4</td><td>Lanskoy1997</td><td>-500.89</td><td>16.0</td><td>20.0</td><td>520.473</td><td>0.0</td></tr><tr><th>13</th><td>13</td><td>HPL1</td><td>Guleria2012</td><td>-290.002</td><td>16.0108</td><td>28.3081</td><td>654.729</td><td>0.0</td></tr><tr><th>14</th><td>14</td><td>HPL2</td><td>Guleria2012</td><td>-302.759</td><td>23.7203</td><td>29.8529</td><td>767.495</td><td>0.0</td></tr><tr><th>15</th><td>15</td><td>HPL3</td><td>Guleria2012</td><td>-375.88</td><td>21.051</td><td>22.076</td><td>373.395</td><td>0.0</td></tr><tr><th>16</th><td>16</td><td>HPL4</td><td>Guleria2012</td><td>-392.357</td><td>19.542</td><td>39.758</td><td>515.622</td><td>0.0</td></tr><tr><th>17</th><td>17</td><td>NL1</td><td>Guleria2012</td><td>-326.815</td><td>15.8855</td><td>65.6204</td><td>631.916</td><td>0.0</td></tr><tr><th>18</th><td>18</td><td>OL1</td><td>Guleria2012</td><td>-251.618</td><td>0.9973</td><td>57.9365</td><td>544.977</td><td>0.0</td></tr><tr><th>19</th><td>19</td><td>NL2</td><td>Guleria2012</td><td>-482.524</td><td>15.5293</td><td>33.2826</td><td>446.35</td><td>0.0</td></tr><tr><th>20</th><td>20</td><td>OL2</td><td>Guleria2012</td><td>-337.257</td><td>-0.428925</td><td>0.987463</td><td>413.28</td><td>0.0</td></tr><tr><th>21</th><td>21</td><td>KIDS0</td><td>Choi2022</td><td>-479.634</td><td>13.9329</td><td>28.4136</td><td>-158.95</td><td>140.945</td></tr><tr><th>22</th><td>22</td><td>KIDSA</td><td>Choi2022</td><td>-463.476</td><td>22.4516</td><td>36.2503</td><td>-150.148</td><td>99.2816</td></tr><tr><th>23</th><td>23</td><td>KIDSB</td><td>Choi2022</td><td>-480.351</td><td>11.0882</td><td>22.8057</td><td>-139.99</td><td>85.1835</td></tr><tr><th>24</th><td>24</td><td>KIDSC</td><td>Choi2022</td><td>-485.267</td><td>19.6194</td><td>33.0487</td><td>-87.7463</td><td>104.999</td></tr><tr><th>&vellip;</th><td>&vellip;</td><td>&vellip;</td><td>&vellip;</td><td>&vellip;</td><td>&vellip;</td><td>&vellip;</td><td>&vellip;</td><td>&vellip;</td></tr></tbody></table></div>"
      ],
      "text/latex": [
       "\\begin{tabular}{r|ccccccccc}\n",
       "\t& index & Parameter Name & Paper & a1 & a2 & a3 & a4 & a5 & \\\\\n",
       "\t\\hline\n",
       "\t& Int64 & String & String15 & Float64 & Float64 & Float64 & Float64 & Float64 & \\\\\n",
       "\t\\hline\n",
       "\t1 & 1 & YBZ1 & Yamamoto1988 & -330.154 & 26.25 & 20.68 & 0.0 & 0.0 & $\\dots$ \\\\\n",
       "\t2 & 2 & YBZ2 & Yamamoto1988 & -375.149 & 26.25 & 15.35 & 0.0 & 0.0 & $\\dots$ \\\\\n",
       "\t3 & 3 & YBZ3 & Yamamoto1988 & -237.004 & 26.25 & 32.96 & 0.0 & 0.0 & $\\dots$ \\\\\n",
       "\t4 & 4 & YBZ4 & Yamamoto1988 & -224.981 & 26.25 & 25.335 & 0.0 & 0.0 & $\\dots$ \\\\\n",
       "\t5 & 5 & YBZ5 & Yamamoto1988 & -298.116 & 0.0 & 11.57 & 0.0 & 0.0 & $\\dots$ \\\\\n",
       "\t6 & 6 & YBZ6 & Yamamoto1988 & -352.287 & 45.0 & 27.7 & 0.0 & 0.0 & $\\dots$ \\\\\n",
       "\t7 & 7 & SKSH1 & Fernandez1989 & -176.5 & 2.075 & -18.9375 & 0.0 & 0.0 & $\\dots$ \\\\\n",
       "\t8 & 8 & SKSH2 & Fernandez1989 & -290.0 & 0.35 & 10.675 & 0.0 & 0.0 & $\\dots$ \\\\\n",
       "\t9 & 9 & LY1 & Lanskoy1997 & -465.242 & 16.25 & 12.875 & 567.761 & 0.0 & $\\dots$ \\\\\n",
       "\t10 & 10 & LY2 & Lanskoy1997 & -478.846 & 42.0 & 28.0 & 457.23 & 0.0 & $\\dots$ \\\\\n",
       "\t11 & 11 & LY3 & Lanskoy1997 & -617.444 & 21.5 & 47.25 & 705.119 & 0.0 & $\\dots$ \\\\\n",
       "\t12 & 12 & LY4 & Lanskoy1997 & -500.89 & 16.0 & 20.0 & 520.473 & 0.0 & $\\dots$ \\\\\n",
       "\t13 & 13 & HPL1 & Guleria2012 & -290.002 & 16.0108 & 28.3081 & 654.729 & 0.0 & $\\dots$ \\\\\n",
       "\t14 & 14 & HPL2 & Guleria2012 & -302.759 & 23.7203 & 29.8529 & 767.495 & 0.0 & $\\dots$ \\\\\n",
       "\t15 & 15 & HPL3 & Guleria2012 & -375.88 & 21.051 & 22.076 & 373.395 & 0.0 & $\\dots$ \\\\\n",
       "\t16 & 16 & HPL4 & Guleria2012 & -392.357 & 19.542 & 39.758 & 515.622 & 0.0 & $\\dots$ \\\\\n",
       "\t17 & 17 & NL1 & Guleria2012 & -326.815 & 15.8855 & 65.6204 & 631.916 & 0.0 & $\\dots$ \\\\\n",
       "\t18 & 18 & OL1 & Guleria2012 & -251.618 & 0.9973 & 57.9365 & 544.977 & 0.0 & $\\dots$ \\\\\n",
       "\t19 & 19 & NL2 & Guleria2012 & -482.524 & 15.5293 & 33.2826 & 446.35 & 0.0 & $\\dots$ \\\\\n",
       "\t20 & 20 & OL2 & Guleria2012 & -337.257 & -0.428925 & 0.987463 & 413.28 & 0.0 & $\\dots$ \\\\\n",
       "\t21 & 21 & KIDS0 & Choi2022 & -479.634 & 13.9329 & 28.4136 & -158.95 & 140.945 & $\\dots$ \\\\\n",
       "\t22 & 22 & KIDSA & Choi2022 & -463.476 & 22.4516 & 36.2503 & -150.148 & 99.2816 & $\\dots$ \\\\\n",
       "\t23 & 23 & KIDSB & Choi2022 & -480.351 & 11.0882 & 22.8057 & -139.99 & 85.1835 & $\\dots$ \\\\\n",
       "\t24 & 24 & KIDSC & Choi2022 & -485.267 & 19.6194 & 33.0487 & -87.7463 & 104.999 & $\\dots$ \\\\\n",
       "\t$\\dots$ & $\\dots$ & $\\dots$ & $\\dots$ & $\\dots$ & $\\dots$ & $\\dots$ & $\\dots$ & $\\dots$ &  \\\\\n",
       "\\end{tabular}\n"
      ],
      "text/plain": [
       "\u001b[1m35×30 DataFrame\u001b[0m\n",
       "\u001b[1m Row \u001b[0m│\u001b[1m index \u001b[0m\u001b[1m Parameter Name                    \u001b[0m\u001b[1m Paper         \u001b[0m\u001b[1m a1          \u001b[0m\u001b[1m a\u001b[0m ⋯\n",
       "\u001b[1m     \u001b[0m│\u001b[90m Int64 \u001b[0m\u001b[90m String                            \u001b[0m\u001b[90m String15      \u001b[0m\u001b[90m Float64     \u001b[0m\u001b[90m F\u001b[0m ⋯\n",
       "─────┼──────────────────────────────────────────────────────────────────────────\n",
       "   1 │     1  YBZ1                               Yamamoto1988   -330.154     2 ⋯\n",
       "   2 │     2  YBZ2                               Yamamoto1988   -375.149     2\n",
       "   3 │     3  YBZ3                               Yamamoto1988   -237.004     2\n",
       "   4 │     4  YBZ4                               Yamamoto1988   -224.981     2\n",
       "   5 │     5  YBZ5                               Yamamoto1988   -298.116       ⋯\n",
       "   6 │     6  YBZ6                               Yamamoto1988   -352.287     4\n",
       "   7 │     7  SKSH1                              Fernandez1989  -176.5\n",
       "   8 │     8  SKSH2                              Fernandez1989  -290.0\n",
       "  ⋮  │   ⋮                    ⋮                        ⋮             ⋮         ⋱\n",
       "  29 │    29  GKW2+MD1_medium                    my parameter     -0.904726  3 ⋯\n",
       "  30 │    30  GKW3+MD2_medium                    my parameter    -90.8192    3\n",
       "  31 │    31  GKW3+MD3_medium                    my parameter     -1.05162   4\n",
       "  32 │    32  GKW2_medium(rho<1.5)               my parameter   -352.208\n",
       "  33 │    33  GKW3_medium(rho<1.5)               my parameter   -388.277       ⋯\n",
       "  34 │    34  GKW2_medium(rho<1.5)+Kohno2(k<1.…  my parameter   -352.208     4\n",
       "  35 │    35  GKW3_medium(rho<1.5)+Kohno3(k<1.…  my parameter   -388.277     5\n",
       "\u001b[36m                                                  26 columns and 20 rows omitted\u001b[0m"
      ]
     },
     "metadata": {},
     "output_type": "display_data"
    }
   ],
   "source": [
    "using CSV, DataFrames\n",
    "df=DataFrame(CSV.File(\"Lambda Parameters.csv\"))"
   ]
  },
  {
   "cell_type": "code",
   "execution_count": 5,
   "id": "716b16db",
   "metadata": {},
   "outputs": [
    {
     "data": {
      "text/plain": [
       "35-element Vector{Float64}:\n",
       " 0.0\n",
       " 0.0\n",
       " 0.0\n",
       " 0.0\n",
       " 0.0\n",
       " 0.0\n",
       " 0.0\n",
       " 0.0\n",
       " 0.0\n",
       " 0.0\n",
       " ⋮\n",
       " 0.0\n",
       " 0.0\n",
       " 0.0\n",
       " 0.0\n",
       " 0.0\n",
       " 0.0\n",
       " 0.0\n",
       " 0.0\n",
       " 0.0"
      ]
     },
     "metadata": {},
     "output_type": "display_data"
    }
   ],
   "source": [
    "df[!,\"y34\"]"
   ]
  },
  {
   "cell_type": "code",
   "execution_count": null,
   "id": "be25297c",
   "metadata": {},
   "outputs": [],
   "source": []
  }
 ],
 "metadata": {
  "kernelspec": {
   "display_name": "Julia 1.7.0",
   "language": "julia",
   "name": "julia-1.7"
  },
  "language_info": {
   "file_extension": ".jl",
   "mimetype": "application/julia",
   "name": "julia",
   "version": "1.7.0"
  }
 },
 "nbformat": 4,
 "nbformat_minor": 5
}
