{
 "cells": [
  {
   "cell_type": "code",
   "execution_count": 15,
   "id": "10a0811c",
   "metadata": {},
   "outputs": [
    {
     "name": "stdout",
     "output_type": "stream",
     "text": [
      "isGuleria=0\n",
      "isCoul=3\n",
      "diffρ=(0.0010908128740113726,0.0014949115899538493,1.9351111231163134e-6)\n",
      "1\n",
      "diffρ=(0.0004646516362700539,0.0004625238219568275,5.054033795718217e-7)\n",
      "2\n",
      "diffρ=(0.0001682851421382641,0.00016655463964740868,4.219337435965285e-8)\n",
      "3\n",
      "diffρ=(7.337410053870862e-5,6.288436363360526e-5,7.263513292124712e-8)\n",
      "4\n",
      "diffρ=(2.937093599027443e-5,2.693598200238864e-5,7.100309535207989e-9)\n",
      "5\n",
      "diffρ=(1.1986050286187488e-5,1.0829081105104486e-5,1.2125532667017825e-8)\n",
      "6\n",
      "diffρ=(4.844570572704228e-6,4.375211776077839e-6,1.3985595328069034e-9)\n"
     ]
    },
    {
     "name": "stderr",
     "output_type": "stream",
     "text": [
      "WARNING: replacing module NuclParameters.\n",
      "WARNING: replacing module LambdaParameters.\n",
      "WARNING: replacing module MyLib.\n"
     ]
    }
   ],
   "source": [
    "include(\"Main.jl\")\n",
    "AN=AtomNum(6,5,1)\n",
    "NParamType=\"SK3\"\n",
    "LParamType=\"LY1\"\n",
    "OutPutFiles(AN,NParamType=NParamType,LParamType=LParamType)"
   ]
  },
  {
   "cell_type": "code",
   "execution_count": 16,
   "id": "c2d57b1d",
   "metadata": {},
   "outputs": [
    {
     "name": "stdout",
     "output_type": "stream",
     "text": [
      "isGuleria=0\n",
      "isCoul=3\n",
      "diffρ=(0.0008593949247528501,0.0019275979594482785,0.0)\n",
      "1\n",
      "diffρ=(0.00044253297844881333,0.000475025398211847,0.0)\n",
      "2\n",
      "diffρ=(0.00014376648590376742,0.00014588504345828035,0.0)\n",
      "3\n",
      "diffρ=(5.895136565227696e-5,5.0134919606258023e-5,0.0)\n",
      "4\n",
      "diffρ=(2.2084588429276046e-5,2.027796363002143e-5,0.0)\n",
      "5\n",
      "diffρ=(8.454463969816091e-6,7.612175025158089e-6,0.0)\n"
     ]
    },
    {
     "name": "stderr",
     "output_type": "stream",
     "text": [
      "WARNING: replacing module NuclParameters.\n",
      "WARNING: replacing module LambdaParameters.\n",
      "WARNING: replacing module MyLib.\n"
     ]
    }
   ],
   "source": [
    "include(\"Main.jl\")\n",
    "AN=AtomNum(6,5,0)\n",
    "NParamType=\"SK3\"\n",
    "LParamType=\"NaN\"\n",
    "OutPutFiles(AN,NParamType=NParamType,LParamType=LParamType)"
   ]
  },
  {
   "cell_type": "code",
   "execution_count": 17,
   "id": "9908365c",
   "metadata": {},
   "outputs": [
    {
     "name": "stdout",
     "output_type": "stream",
     "text": [
      "isGuleria=0\n",
      "isCoul=3\n",
      "diffρ=(0.010719956059644702,0.012276968529032537,3.2921284992352227e-6)\n",
      "1\n",
      "diffρ=(0.004627329562749209,0.0038190679409437034,1.795628336787601e-5)\n",
      "2\n",
      "diffρ=(0.0002756795479459321,0.0002479737262517441,2.4369200908666812e-8)\n",
      "3\n",
      "diffρ=(5.457401908654688e-5,5.4092403821431836e-5,4.883987613677671e-9)\n",
      "4\n",
      "diffρ=(1.2260786519490824e-5,1.2436577361371187e-5,5.8772804950172505e-9)\n",
      "5\n",
      "diffρ=(3.07564036131531e-6,3.0107119990012822e-6,2.488056107269633e-9)\n"
     ]
    },
    {
     "name": "stderr",
     "output_type": "stream",
     "text": [
      "WARNING: replacing module NuclParameters.\n",
      "WARNING: replacing module LambdaParameters.\n",
      "WARNING: replacing module MyLib.\n"
     ]
    }
   ],
   "source": [
    "include(\"Main.jl\")\n",
    "AN=AtomNum(8,7,1)\n",
    "NParamType=\"SK3\"\n",
    "LParamType=\"LY1\"\n",
    "OutPutFiles(AN,NParamType=NParamType,LParamType=LParamType)"
   ]
  },
  {
   "cell_type": "code",
   "execution_count": 18,
   "id": "d0be7795",
   "metadata": {},
   "outputs": [
    {
     "name": "stdout",
     "output_type": "stream",
     "text": [
      "isGuleria=0\n",
      "isCoul=3\n",
      "diffρ=(0.012315962794020323,0.013774927770540145,0.0)\n",
      "1\n",
      "diffρ=(0.004644934679106497,0.0037752128343320718,0.0)\n",
      "2\n",
      "diffρ=(0.00021888553063065757,0.00020065076280582008,0.0)\n",
      "3\n",
      "diffρ=(3.982665869390062e-5,3.9557526619094206e-5,0.0)\n",
      "4\n",
      "diffρ=(7.725338309745106e-6,7.86371940000186e-6,0.0)\n"
     ]
    },
    {
     "name": "stderr",
     "output_type": "stream",
     "text": [
      "WARNING: replacing module NuclParameters.\n",
      "WARNING: replacing module LambdaParameters.\n",
      "WARNING: replacing module MyLib.\n"
     ]
    }
   ],
   "source": [
    "include(\"Main.jl\")\n",
    "AN=AtomNum(8,7,0)\n",
    "NParamType=\"SK3\"\n",
    "LParamType=\"NaN\"\n",
    "OutPutFiles(AN,NParamType=NParamType,LParamType=LParamType)"
   ]
  },
  {
   "cell_type": "code",
   "execution_count": 19,
   "id": "39b93546",
   "metadata": {},
   "outputs": [
    {
     "name": "stdout",
     "output_type": "stream",
     "text": [
      "isGuleria=0\n",
      "isCoul=3\n",
      "diffρ=(0.01361679219206624,0.01411743068360699,6.86059749121504e-5)\n",
      "1\n",
      "diffρ=(0.011697867433296429,0.010539570787458203,5.69851142531587e-6)\n",
      "2\n",
      "diffρ=(0.0017527004926775058,0.001707358882222234,3.972879264363203e-6)\n",
      "3\n",
      "diffρ=(0.000248987548181996,0.00024352022340901823,2.0684446232011324e-7)\n",
      "4\n",
      "diffρ=(3.825572137095073e-5,3.711682047407522e-5,6.073045960506001e-8)\n",
      "5\n",
      "diffρ=(6.2469275147148475e-6,6.046864522779868e-6,5.747020565760045e-9)\n"
     ]
    },
    {
     "name": "stderr",
     "output_type": "stream",
     "text": [
      "WARNING: replacing module NuclParameters.\n",
      "WARNING: replacing module LambdaParameters.\n",
      "WARNING: replacing module MyLib.\n"
     ]
    }
   ],
   "source": [
    "include(\"Main.jl\")\n",
    "AN=AtomNum(14,13,1)\n",
    "NParamType=\"SK3\"\n",
    "LParamType=\"LY1\"\n",
    "OutPutFiles(AN,NParamType=NParamType,LParamType=LParamType)"
   ]
  },
  {
   "cell_type": "code",
   "execution_count": 20,
   "id": "ccb977b8",
   "metadata": {},
   "outputs": [
    {
     "name": "stdout",
     "output_type": "stream",
     "text": [
      "isGuleria=0\n",
      "isCoul=3\n",
      "diffρ=(0.013099155179384179,0.014165200523753347,0.0)\n",
      "1\n",
      "diffρ=(0.010074064834094737,0.00909486832460967,0.0)\n",
      "2\n",
      "diffρ=(0.0012937167798257728,0.001256578713007862,0.0)\n",
      "3\n",
      "diffρ=(0.0001585268388677696,0.00015510959334072476,0.0)\n",
      "4\n",
      "diffρ=(2.0490562285014585e-5,1.9823753234819982e-5,0.0)\n",
      "5\n",
      "diffρ=(2.948481823695242e-6,2.855480389417389e-6,0.0)\n"
     ]
    },
    {
     "name": "stderr",
     "output_type": "stream",
     "text": [
      "WARNING: replacing module NuclParameters.\n",
      "WARNING: replacing module LambdaParameters.\n",
      "WARNING: replacing module MyLib.\n"
     ]
    }
   ],
   "source": [
    "include(\"Main.jl\")\n",
    "AN=AtomNum(14,13,0)\n",
    "NParamType=\"SK3\"\n",
    "LParamType=\"NaN\"\n",
    "OutPutFiles(AN,NParamType=NParamType,LParamType=LParamType)"
   ]
  },
  {
   "cell_type": "code",
   "execution_count": 21,
   "id": "a2284815",
   "metadata": {},
   "outputs": [
    {
     "name": "stdout",
     "output_type": "stream",
     "text": [
      "isGuleria=0\n",
      "isCoul=3\n",
      "diffρ=(0.04871886204020111,0.010694772837480594,1.7116074619740813e-5)\n",
      "1\n",
      "diffρ=(0.009182022398651658,0.00794851255738814,5.098967430355031e-6)\n",
      "2\n",
      "diffρ=(0.0012303056113005275,0.001478602493251122,3.856426142098357e-7)\n",
      "3\n",
      "diffρ=(0.0003182312987230547,0.0003814055673454222,1.4485882942435655e-7)\n",
      "4\n",
      "diffρ=(8.139807968372153e-5,9.723016564009687e-5,8.64136784126285e-9)\n",
      "5\n",
      "diffρ=(2.1416186473552507e-5,2.52505470508329e-5,8.666877891465162e-9)\n",
      "6\n",
      "diffρ=(5.422916187252542e-6,6.34158841681084e-6,6.000599714980917e-10)\n"
     ]
    },
    {
     "name": "stderr",
     "output_type": "stream",
     "text": [
      "WARNING: replacing module NuclParameters.\n",
      "WARNING: replacing module LambdaParameters.\n",
      "WARNING: replacing module MyLib.\n"
     ]
    }
   ],
   "source": [
    "include(\"Main.jl\")\n",
    "AN=AtomNum(23,27,1)\n",
    "NParamType=\"SK3\"\n",
    "LParamType=\"LY1\"\n",
    "OutPutFiles(AN,NParamType=NParamType,LParamType=LParamType)"
   ]
  },
  {
   "cell_type": "code",
   "execution_count": 22,
   "id": "f4cb73b6",
   "metadata": {},
   "outputs": [
    {
     "name": "stdout",
     "output_type": "stream",
     "text": [
      "isGuleria=0\n",
      "isCoul=3\n",
      "diffρ=(0.051904395930082496,0.010867226960213461,0.0)\n",
      "1\n",
      "diffρ=(0.009100937018893978,0.007490615715322658,0.0)\n",
      "2\n",
      "diffρ=(0.0010578553389585833,0.001270395196050047,0.0)\n",
      "3\n",
      "diffρ=(0.00024842584658235064,0.000298263587086955,0.0)\n",
      "4\n",
      "diffρ=(5.719822959305581e-5,6.87311567663572e-5,0.0)\n",
      "5\n",
      "diffρ=(1.3651773895461124e-5,1.617799442375662e-5,0.0)\n",
      "6\n",
      "diffρ=(3.1126412054615e-6,3.6488940408622498e-6,0.0)\n"
     ]
    },
    {
     "name": "stderr",
     "output_type": "stream",
     "text": [
      "WARNING: replacing module NuclParameters.\n",
      "WARNING: replacing module LambdaParameters.\n",
      "WARNING: replacing module MyLib.\n"
     ]
    }
   ],
   "source": [
    "include(\"Main.jl\")\n",
    "AN=AtomNum(23,27,0)\n",
    "NParamType=\"SK3\"\n",
    "LParamType=\"NaN\"\n",
    "OutPutFiles(AN,NParamType=NParamType,LParamType=LParamType)"
   ]
  },
  {
   "cell_type": "code",
   "execution_count": 23,
   "id": "1d633245",
   "metadata": {},
   "outputs": [
    {
     "name": "stdout",
     "output_type": "stream",
     "text": [
      "isGuleria=0\n",
      "isCoul=3\n",
      "diffρ=(0.14486930056742606,0.007499812504017489,1.3519737155424644e-6)\n",
      "1\n",
      "diffρ=(0.024866509145008577,0.006527317992091388,1.4065310153509736e-5)\n",
      "2\n",
      "diffρ=(0.0008486312903002923,0.0009474232575392722,8.369685826069654e-8)\n",
      "3\n",
      "diffρ=(0.00013541712491897524,0.00019785563914882657,1.0946601429752745e-7)\n",
      "4\n",
      "diffρ=(2.7258227896894473e-5,3.614354900716507e-5,3.97770650414671e-9)\n",
      "5\n",
      "diffρ=(5.60599339994369e-6,7.943886318576088e-6,4.2203295608402845e-9)\n"
     ]
    },
    {
     "name": "stderr",
     "output_type": "stream",
     "text": [
      "WARNING: replacing module NuclParameters.\n",
      "WARNING: replacing module LambdaParameters.\n",
      "WARNING: replacing module MyLib.\n"
     ]
    }
   ],
   "source": [
    "include(\"Main.jl\")\n",
    "AN=AtomNum(39,49,1)\n",
    "NParamType=\"SK3\"\n",
    "LParamType=\"LY1\"\n",
    "OutPutFiles(AN,NParamType=NParamType,LParamType=LParamType)"
   ]
  },
  {
   "cell_type": "code",
   "execution_count": 24,
   "id": "1dc727e9",
   "metadata": {},
   "outputs": [
    {
     "name": "stdout",
     "output_type": "stream",
     "text": [
      "isGuleria=0\n",
      "isCoul=3\n",
      "diffρ=(0.14935890689171455,0.0077619237635679576,0.0)\n",
      "1\n",
      "diffρ=(0.024835336991800683,0.006468345299217422,0.0)\n",
      "2\n",
      "diffρ=(0.0007745876376484564,0.0008612650219319078,0.0)\n",
      "3\n",
      "diffρ=(0.00011620152893420597,0.0001711352795617779,0.0)\n",
      "4\n",
      "diffρ=(2.201880948681557e-5,2.9264610735027292e-5,0.0)\n",
      "5\n",
      "diffρ=(4.315294772020368e-6,6.175523754623592e-6,0.0)\n"
     ]
    },
    {
     "name": "stderr",
     "output_type": "stream",
     "text": [
      "WARNING: replacing module NuclParameters.\n",
      "WARNING: replacing module LambdaParameters.\n",
      "WARNING: replacing module MyLib.\n"
     ]
    }
   ],
   "source": [
    "include(\"Main.jl\")\n",
    "AN=AtomNum(39,49,0)\n",
    "NParamType=\"SK3\"\n",
    "LParamType=\"NaN\"\n",
    "OutPutFiles(AN,NParamType=NParamType,LParamType=LParamType)"
   ]
  },
  {
   "cell_type": "code",
   "execution_count": 25,
   "id": "a7ae930c",
   "metadata": {},
   "outputs": [
    {
     "name": "stdout",
     "output_type": "stream",
     "text": [
      "isGuleria=0\n",
      "isCoul=3\n",
      "diffρ=(0.19494031008027593,0.027608131038982353,4.14823091037267e-6)\n",
      "1\n",
      "diffρ=(0.02972974116471505,0.012222955936215491,6.121980567417531e-6)\n",
      "2\n",
      "diffρ=(0.00023077066646614924,0.00046253381150107575,2.025674436086051e-7)\n",
      "3\n",
      "diffρ=(2.9536988714722053e-5,5.122192733274087e-5,8.148405160771151e-8)\n",
      "4\n",
      "diffρ=(4.029382435598833e-6,9.769628994860968e-6,1.1327660306566757e-8)\n"
     ]
    },
    {
     "name": "stderr",
     "output_type": "stream",
     "text": [
      "WARNING: replacing module NuclParameters.\n",
      "WARNING: replacing module LambdaParameters.\n",
      "WARNING: replacing module MyLib.\n"
     ]
    }
   ],
   "source": [
    "include(\"Main.jl\")\n",
    "AN=AtomNum(52,81,1)\n",
    "NParamType=\"SK3\"\n",
    "LParamType=\"LY1\"\n",
    "OutPutFiles(AN,NParamType=NParamType,LParamType=LParamType)"
   ]
  },
  {
   "cell_type": "code",
   "execution_count": 26,
   "id": "9c08f9c2",
   "metadata": {},
   "outputs": [
    {
     "name": "stdout",
     "output_type": "stream",
     "text": [
      "isGuleria=0\n",
      "isCoul=3\n",
      "diffρ=(0.19934755915785463,0.026218781739289355,0.0)\n",
      "1\n",
      "diffρ=(0.02978498082119574,0.0123770038600017,0.0)\n",
      "2\n",
      "diffρ=(0.0002243170784056991,0.00045816240841562475,0.0)\n",
      "3\n",
      "diffρ=(2.735739023841952e-5,4.827047045490936e-5,0.0)\n",
      "4\n",
      "diffρ=(3.678178443379152e-6,8.939754671645991e-6,0.0)\n"
     ]
    },
    {
     "name": "stderr",
     "output_type": "stream",
     "text": [
      "WARNING: replacing module NuclParameters.\n",
      "WARNING: replacing module LambdaParameters.\n",
      "WARNING: replacing module MyLib.\n"
     ]
    }
   ],
   "source": [
    "include(\"Main.jl\")\n",
    "AN=AtomNum(52,81,0)\n",
    "NParamType=\"SK3\"\n",
    "LParamType=\"NaN\"\n",
    "OutPutFiles(AN,NParamType=NParamType,LParamType=LParamType)"
   ]
  },
  {
   "cell_type": "code",
   "execution_count": 27,
   "id": "cba22bbd",
   "metadata": {},
   "outputs": [
    {
     "name": "stdout",
     "output_type": "stream",
     "text": [
      "isGuleria=0\n",
      "isCoul=3\n",
      "diffρ=(0.27787035408046523,0.04608585663081535,1.0039574300721634e-6)\n",
      "1\n",
      "diffρ=(0.03724442632785925,0.02537692376303421,1.0187781355377888e-5)\n",
      "2\n",
      "diffρ=(0.0004432467741438441,0.0008945857329950174,1.6412052526543404e-7)\n",
      "3\n",
      "diffρ=(5.5803062288144824e-5,0.00011259825360517486,6.221039517215242e-8)\n",
      "4\n",
      "diffρ=(9.693591701793148e-6,2.15425664459068e-5,7.398524401480926e-9)\n",
      "5\n",
      "diffρ=(2.147347606596415e-6,4.647098758938877e-6,3.507665813573684e-9)\n"
     ]
    },
    {
     "name": "stderr",
     "output_type": "stream",
     "text": [
      "WARNING: replacing module NuclParameters.\n",
      "WARNING: replacing module LambdaParameters.\n",
      "WARNING: replacing module MyLib.\n"
     ]
    }
   ],
   "source": [
    "include(\"Main.jl\")\n",
    "AN=AtomNum(82,125,1)\n",
    "NParamType=\"SK3\"\n",
    "LParamType=\"LY1\"\n",
    "OutPutFiles(AN,NParamType=NParamType,LParamType=LParamType)"
   ]
  },
  {
   "cell_type": "code",
   "execution_count": 28,
   "id": "173d7014",
   "metadata": {},
   "outputs": [
    {
     "name": "stdout",
     "output_type": "stream",
     "text": [
      "isGuleria=0\n",
      "isCoul=3\n",
      "diffρ=(0.28203690148881283,0.04486017795232027,0.0)\n",
      "1\n",
      "diffρ=(0.037174721340997315,0.025593335889867386,0.0)\n",
      "2\n",
      "diffρ=(0.0004373013548168293,0.0008930334982251986,0.0)\n",
      "3\n",
      "diffρ=(5.4354184136689486e-5,0.00010977101130854232,0.0)\n",
      "4\n",
      "diffρ=(9.521283434567897e-6,2.1115281188697486e-5,0.0)\n",
      "5\n",
      "diffρ=(2.171944051240896e-6,4.663643470050039e-6,0.0)\n"
     ]
    },
    {
     "name": "stderr",
     "output_type": "stream",
     "text": [
      "WARNING: replacing module NuclParameters.\n",
      "WARNING: replacing module LambdaParameters.\n",
      "WARNING: replacing module MyLib.\n"
     ]
    }
   ],
   "source": [
    "include(\"Main.jl\")\n",
    "AN=AtomNum(82,125,0)\n",
    "NParamType=\"SK3\"\n",
    "LParamType=\"NaN\"\n",
    "OutPutFiles(AN,NParamType=NParamType,LParamType=LParamType)"
   ]
  }
 ],
 "metadata": {
  "kernelspec": {
   "display_name": "Julia 1.7.0",
   "language": "julia",
   "name": "julia-1.7"
  },
  "language_info": {
   "file_extension": ".jl",
   "mimetype": "application/julia",
   "name": "julia",
   "version": "1.7.0"
  }
 },
 "nbformat": 4,
 "nbformat_minor": 5
}
