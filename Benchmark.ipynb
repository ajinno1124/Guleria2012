{
 "cells": [
  {
   "cell_type": "code",
   "execution_count": 1,
   "metadata": {},
   "outputs": [],
   "source": [
    "using BenchmarkTools"
   ]
  },
  {
   "cell_type": "code",
   "execution_count": 3,
   "metadata": {},
   "outputs": [
    {
     "name": "stdout",
     "output_type": "stream",
     "text": [
      "isGuleria=0\n",
      "  18.000 μs (16 allocations: 30.52 KiB)\n"
     ]
    },
    {
     "name": "stderr",
     "output_type": "stream",
     "text": [
      "WARNING: replacing module NuclParameters.\n",
      "WARNING: replacing module LambdaParameters.\n",
      "WARNING: replacing module MyLib.\n"
     ]
    },
    {
     "data": {
      "text/plain": [
       "([20.74981110764005 20.74981110764005 … 20.74981110764005 20.74981110764005; 20.721248539064334 20.721248539064334 … 20.721248539064334 20.721248539064334; 17.450269114874917 17.450269114874917 … 17.450269114874917 17.450269114874917], [0.0 0.0 … 0.0 0.0; 0.0 0.0 … 0.0 0.0; 0.0 0.0 … 0.0 0.0], [0.0 0.0 … 0.0 0.0; 0.0 0.0 … 0.0 0.0; 0.0 0.0 … 0.0 0.0], [-57.85429862919295 -57.854019835306005 … -7.226472995447973e-14 -5.312480057329455e-14; -45.14432370489379 -45.14410615906268 … -5.638893632470049e-14 -4.145384613873059e-14; -34.666202986229834 -34.666035933379746 … -4.3300910333445764e-14 -3.183229533349714e-14], [-0.0004092339650531184 -0.0005566683852758072 … -3.82169244951575e-14 -2.8094846457030748e-14; -0.00031932960950412423 -0.00043437425354061614 … -2.982107209479349e-14 -2.192270709259789e-14; 0.0 0.0 … 0.0 0.0])"
      ]
     },
     "execution_count": 3,
     "metadata": {},
     "output_type": "execute_result"
    }
   ],
   "source": [
    "include(\"Main.jl\")\n",
    "AN=AtomNum(82,125,1)\n",
    "rmesh=getrmesh()\n",
    "@btime InitPot(AN,rmesh)"
   ]
  },
  {
   "cell_type": "code",
   "execution_count": 5,
   "metadata": {},
   "outputs": [
    {
     "name": "stdout",
     "output_type": "stream",
     "text": [
      "isGuleria=0\n",
      "MethodInstance for InitialCondition(::AtomNum)\n",
      "  from InitialCondition(AN::AtomNum) in Main at c:\\Users\\jinno\\OneDrive\\progmrams\\Guleria2012\\Main.jl:296\n",
      "Arguments\n",
      "  #self#\u001b[36m::Core.Const(InitialCondition)\u001b[39m\n",
      "  AN\u001b[36m::AtomNum\u001b[39m\n",
      "Locals\n",
      "  @_3\u001b[36m::Int64\u001b[39m\n",
      "  InitState\u001b[36m::Vector{Vector{SingleParticleState}}\u001b[39m\n",
      "  W\u001b[36m::Matrix{Float64}\u001b[39m\n",
      "  V\u001b[36m::Matrix{Float64}\u001b[39m\n",
      "  ddh2m\u001b[36m::Matrix{Float64}\u001b[39m\n",
      "  dh2m\u001b[36m::Matrix{Float64}\u001b[39m\n",
      "  h2m\u001b[36m::Matrix{Float64}\u001b[39m\n",
      "  rmesh\u001b[36m::StepRangeLen{Float64, Base.TwicePrecision{Float64}, Base.TwicePrecision{Float64}, Int64}\u001b[39m\n",
      "Body\u001b[36m::Vector{Vector{SingleParticleState}}\u001b[39m\n",
      "\u001b[90m1 ─\u001b[39m       (rmesh = Main.getrmesh())\n",
      "\u001b[90m│  \u001b[39m %2  = Main.InitPot(AN, rmesh)\u001b[36m::NTuple{5, Matrix{Float64}}\u001b[39m\n",
      "\u001b[90m│  \u001b[39m %3  = Base.indexed_iterate(%2, 1)\u001b[36m::Core.PartialStruct(Tuple{Matrix{Float64}, Int64}, Any[Matrix{Float64}, Core.Const(2)])\u001b[39m\n",
      "\u001b[90m│  \u001b[39m       (h2m = Core.getfield(%3, 1))\n",
      "\u001b[90m│  \u001b[39m       (@_3 = Core.getfield(%3, 2))\n",
      "\u001b[90m│  \u001b[39m %6  = Base.indexed_iterate(%2, 2, @_3::Core.Const(2))\u001b[36m::Core.PartialStruct(Tuple{Matrix{Float64}, Int64}, Any[Matrix{Float64}, Core.Const(3)])\u001b[39m\n",
      "\u001b[90m│  \u001b[39m       (dh2m = Core.getfield(%6, 1))\n",
      "\u001b[90m│  \u001b[39m       (@_3 = Core.getfield(%6, 2))\n",
      "\u001b[90m│  \u001b[39m %9  = Base.indexed_iterate(%2, 3, @_3::Core.Const(3))\u001b[36m::Core.PartialStruct(Tuple{Matrix{Float64}, Int64}, Any[Matrix{Float64}, Core.Const(4)])\u001b[39m\n",
      "\u001b[90m│  \u001b[39m       (ddh2m = Core.getfield(%9, 1))\n",
      "\u001b[90m│  \u001b[39m       (@_3 = Core.getfield(%9, 2))\n",
      "\u001b[90m│  \u001b[39m %12 = Base.indexed_iterate(%2, 4, @_3::Core.Const(4))\u001b[36m::Core.PartialStruct(Tuple{Matrix{Float64}, Int64}, Any[Matrix{Float64}, Core.Const(5)])\u001b[39m\n",
      "\u001b[90m│  \u001b[39m       (V = Core.getfield(%12, 1))\n",
      "\u001b[90m│  \u001b[39m       (@_3 = Core.getfield(%12, 2))\n",
      "\u001b[90m│  \u001b[39m %15 = Base.indexed_iterate(%2, 5, @_3::Core.Const(5))\u001b[36m::Core.PartialStruct(Tuple{Matrix{Float64}, Int64}, Any[Matrix{Float64}, Core.Const(6)])\u001b[39m\n",
      "\u001b[90m│  \u001b[39m       (W = Core.getfield(%15, 1))\n",
      "\u001b[90m│  \u001b[39m       (InitState = Main.CalcAllStates(h2m, dh2m, ddh2m, V, W, rmesh))\n",
      "\u001b[90m└──\u001b[39m       return InitState\n",
      "\n"
     ]
    },
    {
     "name": "stderr",
     "output_type": "stream",
     "text": [
      "WARNING: replacing module NuclParameters.\n",
      "WARNING: replacing module LambdaParameters.\n",
      "WARNING: replacing module MyLib.\n"
     ]
    }
   ],
   "source": [
    "include(\"Main.jl\")\n",
    "AN=AtomNum(82,125,1)\n",
    "@code_warntype(InitialCondition(AN))"
   ]
  },
  {
   "cell_type": "code",
   "execution_count": 12,
   "metadata": {},
   "outputs": [
    {
     "name": "stdout",
     "output_type": "stream",
     "text": [
      "isGuleria=0\n",
      "  97.989 ms (3271901 allocations: 248.63 MiB)\n",
      "\n"
     ]
    },
    {
     "name": "stderr",
     "output_type": "stream",
     "text": [
      "WARNING: replacing module NuclParameters.\n",
      "WARNING: replacing module LambdaParameters.\n",
      "WARNING: replacing module MyLib.\n"
     ]
    }
   ],
   "source": [
    "#Allocation 4826029. Huge!\n",
    "#Allocation 3272257, 99.482 ms (Change Rin[1:4]=Rin[2:5]-> for loop.)\n",
    "#Allocation 3272257, 100.600 ms (Change Rout[1,:],Rout[2],Rout[3])\n",
    "#Allocation 3271901, 97.989 ms (Change R[Nmatch:Nmesh]/=R[Nmatch])\n",
    "include(\"Main.jl\")\n",
    "function BenchInitialCondition()\n",
    "\tAN=AtomNum(82,125,1)\n",
    "\t@btime (InitialCondition(AN))\n",
    "\tprintln()\n",
    "end\n",
    "BenchInitialCondition()"
   ]
  },
  {
   "cell_type": "code",
   "execution_count": 37,
   "metadata": {},
   "outputs": [
    {
     "name": "stdout",
     "output_type": "stream",
     "text": [
      "isGuleria=0\n",
      "  0.000029 seconds (304 allocations: 33.062 KiB)\n",
      "\n"
     ]
    },
    {
     "name": "stderr",
     "output_type": "stream",
     "text": [
      "WARNING: replacing module NuclParameters.\n",
      "WARNING: replacing module LambdaParameters.\n",
      "WARNING: replacing module MyLib.\n"
     ]
    }
   ],
   "source": [
    "#Whats the bottleneck of the InitialCondition?\n",
    "#RadWaveFunc is fast enough!\n",
    "include(\"Main.jl\")\n",
    "function BenchRadWaveFunc()\n",
    "\trmesh=getrmesh()\n",
    "\tAN=AtomNum(82,125,1)\n",
    "    h2m,dh2m,ddh2m,V,W=InitPot(AN,rmesh)\n",
    "\tb=1\n",
    "\tQN=QuantumNumber(0.5,0,b)\n",
    "\tA,C=CalcABC(QN,h2m[b,:],dh2m[b,:],ddh2m[b,:],V[b,:],W[b,:],rmesh)\n",
    "\t@time RadWaveFunc(-40,QN,A,C,rmesh)\n",
    "\tprintln()\n",
    "end\n",
    "BenchRadWaveFunc()"
   ]
  },
  {
   "cell_type": "code",
   "execution_count": 15,
   "metadata": {},
   "outputs": [
    {
     "name": "stdout",
     "output_type": "stream",
     "text": [
      "isGuleria=0\n",
      "  0.123146 seconds (290.82 k allocations: 15.862 MiB, 99.95% compilation time)\n",
      "  0.000036 seconds (622 allocations: 48.031 KiB)\n",
      "  0.000022 seconds (622 allocations: 48.031 KiB)\n",
      "  0.000018 seconds (622 allocations: 48.031 KiB)\n",
      "  0.000034 seconds (622 allocations: 48.031 KiB)\n",
      "  0.000034 seconds (622 allocations: 48.031 KiB)\n",
      "  0.000019 seconds (622 allocations: 48.031 KiB)\n",
      "  0.000018 seconds (622 allocations: 48.031 KiB)\n",
      "  0.000017 seconds (622 allocations: 48.031 KiB)\n",
      "  0.000299 seconds (5.60 k allocations: 432.266 KiB)\n",
      "  0.000035 seconds (622 allocations: 48.031 KiB)\n",
      "  0.000202 seconds (5.60 k allocations: 432.266 KiB)\n",
      "  0.000049 seconds (622 allocations: 48.031 KiB)\n",
      "  0.000027 seconds (622 allocations: 48.031 KiB)\n",
      "  0.000253 seconds (5.91 k allocations: 456.281 KiB)\n",
      "  0.000018 seconds (622 allocations: 48.031 KiB)\n",
      "  0.000021 seconds (622 allocations: 48.031 KiB)\n",
      "  0.000021 seconds (622 allocations: 48.031 KiB)\n",
      "  0.000201 seconds (6.53 k allocations: 504.312 KiB)\n",
      "  0.000024 seconds (622 allocations: 48.031 KiB)\n",
      "  0.258045 seconds (708.70 k allocations: 38.607 MiB, 5.31% gc time, 97.01% compilation time)\n",
      "  0.000038 seconds (622 allocations: 48.031 KiB)\n",
      "  0.000024 seconds (622 allocations: 48.031 KiB)\n",
      "  0.000021 seconds (622 allocations: 48.031 KiB)\n",
      "  0.000021 seconds (622 allocations: 48.031 KiB)\n",
      "  0.000039 seconds (622 allocations: 48.031 KiB)\n",
      "  0.000053 seconds (622 allocations: 48.031 KiB)\n",
      "  0.000022 seconds (622 allocations: 48.031 KiB)\n",
      "  0.000024 seconds (622 allocations: 48.031 KiB)\n",
      "  0.000024 seconds (622 allocations: 48.031 KiB)\n",
      "  0.000188 seconds (5.60 k allocations: 432.266 KiB)\n",
      "  0.000045 seconds (622 allocations: 48.031 KiB)\n",
      "  0.000188 seconds (5.60 k allocations: 432.266 KiB)\n",
      "  0.000018 seconds (622 allocations: 48.031 KiB)\n",
      "  0.000051 seconds (622 allocations: 48.031 KiB)\n",
      "  0.000192 seconds (5.91 k allocations: 456.281 KiB)\n",
      "  0.000039 seconds (622 allocations: 48.031 KiB)\n",
      "  0.000020 seconds (622 allocations: 48.031 KiB)\n",
      "  0.000018 seconds (622 allocations: 48.031 KiB)\n",
      "  0.000240 seconds (6.53 k allocations: 504.312 KiB)\n",
      "  0.000019 seconds (622 allocations: 48.031 KiB)\n",
      "  0.006380 seconds (35.45 k allocations: 2.729 MiB)\n",
      "  0.000019 seconds (622 allocations: 48.031 KiB)\n",
      "  0.000019 seconds (622 allocations: 48.031 KiB)\n",
      "  0.000018 seconds (622 allocations: 48.031 KiB)\n",
      "  0.000018 seconds (622 allocations: 48.031 KiB)\n",
      "  0.000018 seconds (622 allocations: 48.031 KiB)\n",
      "  0.000017 seconds (622 allocations: 48.031 KiB)\n",
      "  0.000018 seconds (622 allocations: 48.031 KiB)\n",
      "  0.000024 seconds (622 allocations: 48.031 KiB)\n",
      "  0.000019 seconds (622 allocations: 48.031 KiB)\n",
      "  0.000169 seconds (5.60 k allocations: 432.266 KiB)\n",
      "  0.000018 seconds (622 allocations: 48.031 KiB)\n",
      "  0.000161 seconds (5.60 k allocations: 432.266 KiB)\n",
      "  0.000018 seconds (622 allocations: 48.031 KiB)\n",
      "  0.000019 seconds (622 allocations: 48.031 KiB)\n",
      "  0.000182 seconds (5.91 k allocations: 456.281 KiB)\n",
      "  0.000017 seconds (622 allocations: 48.031 KiB)\n",
      "  0.000018 seconds (622 allocations: 48.031 KiB)\n",
      "  0.000018 seconds (622 allocations: 48.031 KiB)\n",
      "  0.000226 seconds (6.53 k allocations: 504.312 KiB)\n",
      "  0.000018 seconds (622 allocations: 48.031 KiB)\n",
      "  0.001801 seconds (35.43 k allocations: 2.725 MiB)\n",
      "\n"
     ]
    },
    {
     "name": "stderr",
     "output_type": "stream",
     "text": [
      "WARNING: replacing module NuclParameters.\n",
      "WARNING: replacing module LambdaParameters.\n",
      "WARNING: replacing module MyLib.\n"
     ]
    }
   ],
   "source": [
    "#0.002314 seconds (81.80 k allocations: 6.228 MiB)\n",
    "#MyBisect is the Bottleneck.\n",
    "include(\"Main.jl\")\n",
    "function BenchCalcStates()\n",
    "\trmesh=getrmesh()\n",
    "\tAN=AtomNum(82,125,1)\n",
    "    h2m,dh2m,ddh2m,V,W=InitPot(AN,rmesh)\n",
    "\tb=1\n",
    "\tQN=QuantumNumber(0.5,0,b)\n",
    "\t@time CalcStates(QN,h2m[b,:],dh2m[b,:],ddh2m[b,:],V[b,:],W[b,:],rmesh)\n",
    "\t@time CalcStates(QN,h2m[b,:],dh2m[b,:],ddh2m[b,:],V[b,:],W[b,:],rmesh)\n",
    "\t@time CalcStates(QN,h2m[b,:],dh2m[b,:],ddh2m[b,:],V[b,:],W[b,:],rmesh)\n",
    "\tprintln()\n",
    "end\n",
    "BenchCalcStates()"
   ]
  },
  {
   "cell_type": "code",
   "execution_count": 14,
   "metadata": {},
   "outputs": [
    {
     "name": "stdout",
     "output_type": "stream",
     "text": [
      "isGuleria=0\n",
      "  0.000002 seconds (2 allocations: 208 bytes)\n",
      "  0.000002 seconds (2 allocations: 176 bytes)\n",
      "  0.000002 seconds (2 allocations: 160 bytes)\n",
      "  0.255194 seconds (1.77 M allocations: 120.527 MiB, 10.04% gc time, 80.78% compilation time)\n",
      "  0.000003 seconds (2 allocations: 208 bytes)\n",
      "  0.000002 seconds (2 allocations: 176 bytes)\n",
      "  0.000002 seconds (2 allocations: 160 bytes)\n",
      "  0.037898 seconds (1.10 M allocations: 84.646 MiB, 14.01% gc time)\n",
      "  0.000002 seconds (2 allocations: 208 bytes)\n",
      "  0.000003 seconds (2 allocations: 176 bytes)\n",
      "  0.000001 seconds (2 allocations: 160 bytes)\n",
      "  0.035137 seconds (1.10 M allocations: 84.646 MiB, 12.49% gc time)\n",
      "\n"
     ]
    },
    {
     "name": "stderr",
     "output_type": "stream",
     "text": [
      "WARNING: replacing module NuclParameters.\n",
      "WARNING: replacing module LambdaParameters.\n",
      "WARNING: replacing module MyLib.\n"
     ]
    }
   ],
   "source": [
    "#3.27 M allocations: 0.1272565 sec. There is a bottle neck!\n",
    "include(\"Main.jl\")\n",
    "function BenchCalcAllStates()\n",
    "\trmesh=getrmesh()\n",
    "\tAN=AtomNum(82,125,1)\n",
    "    h2m,dh2m,ddh2m,V,W=InitPot(AN,rmesh)\n",
    "\tb=1\n",
    "\t@time CalcAllStates(h2m,dh2m,ddh2m,V,W,rmesh)\n",
    "\t@time CalcAllStates(h2m,dh2m,ddh2m,V,W,rmesh)\n",
    "\t@time CalcAllStates(h2m,dh2m,ddh2m,V,W,rmesh)\n",
    "\tprintln()\n",
    "end\n",
    "BenchCalcAllStates()"
   ]
  },
  {
   "cell_type": "code",
   "execution_count": null,
   "metadata": {},
   "outputs": [],
   "source": []
  }
 ],
 "metadata": {
  "kernelspec": {
   "display_name": "Julia 1.7.0",
   "language": "julia",
   "name": "julia-1.7"
  },
  "language_info": {
   "file_extension": ".jl",
   "mimetype": "application/julia",
   "name": "julia",
   "version": "1.7.0"
  },
  "orig_nbformat": 4,
  "vscode": {
   "interpreter": {
    "hash": "a47467e9ad6d77a086a8e8e8519885ad4c621ef31834a6ac4314d885473da0dc"
   }
  }
 },
 "nbformat": 4,
 "nbformat_minor": 2
}
