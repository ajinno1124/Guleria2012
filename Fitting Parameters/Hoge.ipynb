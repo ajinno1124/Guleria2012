{
 "cells": [
  {
   "cell_type": "code",
   "execution_count": 2,
   "id": "47d11b75",
   "metadata": {},
   "outputs": [
    {
     "data": {
      "text/plain": [
       "3.0"
      ]
     },
     "execution_count": 2,
     "metadata": {},
     "output_type": "execute_result"
    }
   ],
   "source": [
    "function Func(a,b,c)\n",
    "    return a+b+c\n",
    "end\n",
    "\n",
    "f(a,b)=Func(a,b,1.0)\n",
    "f(1.0,1.0)"
   ]
  },
  {
   "cell_type": "code",
   "execution_count": 5,
   "id": "9aeb308c",
   "metadata": {},
   "outputs": [
    {
     "data": {
      "text/plain": [
       "2"
      ]
     },
     "execution_count": 5,
     "metadata": {},
     "output_type": "execute_result"
    }
   ],
   "source": [
    "a,b=[1,2]\n",
    "b"
   ]
  },
  {
   "cell_type": "code",
   "execution_count": 2,
   "id": "c7179de3",
   "metadata": {},
   "outputs": [
    {
     "data": {
      "text/plain": [
       "XLSXFile(\"parameters.xlsx\") containing 3 Worksheets\n",
       "            sheetname size          range        \n",
       "-------------------------------------------------\n",
       "              Summary 28x14         A1:N28       \n",
       "               Sheet1 1x1           A1:A1        \n",
       "         Momentum Fit 5x3           A1:C5        \n"
      ]
     },
     "metadata": {},
     "output_type": "display_data"
    }
   ],
   "source": [
    "import XLSX\n",
    "xf=XLSX.readxlsx(\"parameters.xlsx\")"
   ]
  },
  {
   "cell_type": "code",
   "execution_count": 3,
   "id": "a63f336f",
   "metadata": {},
   "outputs": [
    {
     "data": {
      "text/plain": [
       "3-element Vector{String}:\n",
       " \"Summary\"\n",
       " \"Sheet1\"\n",
       " \"Momentum Fit\""
      ]
     },
     "metadata": {},
     "output_type": "display_data"
    }
   ],
   "source": [
    "XLSX.sheetnames(xf)"
   ]
  },
  {
   "cell_type": "code",
   "execution_count": 4,
   "id": "9f292286",
   "metadata": {},
   "outputs": [
    {
     "data": {
      "text/plain": [
       "28×14 XLSX.Worksheet: [\"Summary\"](A1:N28) "
      ]
     },
     "metadata": {},
     "output_type": "display_data"
    }
   ],
   "source": [
    "sh=xf[\"Summary\"]"
   ]
  },
  {
   "cell_type": "code",
   "execution_count": 9,
   "id": "b5f49a51",
   "metadata": {},
   "outputs": [
    {
     "data": {
      "text/plain": [
       "28×14 Matrix{Any}:\n",
       " \"rho0\"                                …     missing    missing     missing\n",
       " missing                                     \"Jlam\"     \"Llam\"      \"Klam\"\n",
       " \"GKW2_medium\"                            -33.83      -1.825     356\n",
       " \"GKW3_medium\"                            -29.55      12.34      504.8\n",
       " \"GKW2+MD1_lower\"                            missing    missing     missing\n",
       " \"GKW2+MD1_upper\"                      …     missing    missing     missing\n",
       " \"GKW2+MD1_medium\"                          0          0           0\n",
       " \"GKW3+MD2_lower\"                            missing    missing     missing\n",
       " \"GKW3+MD2_upper\"                            missing    missing     missing\n",
       " \"GKW3+MD2_medium\"                          0          0           0\n",
       " ⋮                                     ⋱                         \n",
       " \"GKW3_upper(rho<1.5)\"                       missing    missing     missing\n",
       " \"GKW3_medium(rho<1.5)\"                …     missing    missing     missing\n",
       " missing                                     missing    missing     missing\n",
       " \"GKW2_lower(rho<1.5)+Kohno2(k<1.0)\"         missing    missing     missing\n",
       " \"GKW2_upper(rho<1.5)+Kohno2(k<1.0)\"         missing    missing     missing\n",
       " \"GKW2_medium(rho<1.5)+Kohno2(k<1.0)\"        missing    missing     missing\n",
       " \"GKW3_lower(rho<1.5)+Kohno3(k<1.0)\"   …     missing    missing     missing\n",
       " \"GKW3_upper(rho<1.5)+Kohno3(k<1.0)\"         missing    missing     missing\n",
       " \"GKW3_medium(rho<1.5)+Kohno3(k<1.0)\"        missing    missing     missing"
      ]
     },
     "metadata": {},
     "output_type": "display_data"
    }
   ],
   "source": [
    "sh[:]"
   ]
  },
  {
   "cell_type": "code",
   "execution_count": 21,
   "id": "1618a745",
   "metadata": {},
   "outputs": [
    {
     "data": {
      "text/html": [
       "<div class=\"data-frame\"><p>11 rows × 13 columns (omitted printing of 4 columns)</p><table class=\"data-frame\"><thead><tr><th></th><th>a1</th><th>a2</th><th>a3</th><th>a4</th><th>a5</th><th>u0</th><th>u1</th><th>u2</th><th>u31</th></tr><tr><th></th><th title=\"Any\">Any</th><th title=\"Any\">Any</th><th title=\"Any\">Any</th><th title=\"Any\">Any</th><th title=\"Any\">Any</th><th title=\"Any\">Any</th><th title=\"Any\">Any</th><th title=\"Any\">Any</th><th title=\"Any\">Any</th></tr></thead><tbody><tr><th>1</th><td>-968.125</td><td>0</td><td>0</td><td>1639.39</td><td>-453.817</td><td>-968.125</td><td>0</td><td>0</td><td>4371.72</td></tr><tr><th>2</th><td>-500.625</td><td>0</td><td>0</td><td>1.84202</td><td>1068.8</td><td>-500.625</td><td>0</td><td>0</td><td>4.91204</td></tr><tr><th>3</th><td>-0.891698</td><td>32.2939</td><td>0</td><td>-1342.87</td><td>1679.08</td><td>-0.891698</td><td>32.2939</td><td>96.8816</td><td>-3581.0</td></tr><tr><th>4</th><td>-0.917754</td><td>32.2939</td><td>0</td><td>-1369.92</td><td>1746.78</td><td>-0.917754</td><td>32.2939</td><td>96.8816</td><td>-3653.13</td></tr><tr><th>5</th><td>-0.904726</td><td>32.2939</td><td>0</td><td>-1356.4</td><td>1712.93</td><td>-0.904726</td><td>32.2939</td><td>96.8816</td><td>-3617.06</td></tr><tr><th>6</th><td>-180.636</td><td>35.9816</td><td>0</td><td>-953.846</td><td>1605.6</td><td>-180.636</td><td>35.9816</td><td>107.945</td><td>-2543.59</td></tr><tr><th>7</th><td>-1.00248</td><td>35.9816</td><td>0</td><td>-1637.79</td><td>2290.6</td><td>-1.00248</td><td>35.9816</td><td>107.945</td><td>-4367.45</td></tr><tr><th>8</th><td>-90.8192</td><td>35.9816</td><td>0</td><td>-1295.82</td><td>1948.1</td><td>-90.8192</td><td>35.9816</td><td>107.945</td><td>-3455.52</td></tr><tr><th>9</th><td>-1.03493</td><td>40.9559</td><td>0</td><td>-1465.82</td><td>1945.04</td><td>-1.03493</td><td>40.9559</td><td>122.868</td><td>-3908.85</td></tr><tr><th>10</th><td>-1.06831</td><td>40.9559</td><td>0</td><td>-1627.63</td><td>2257.51</td><td>-1.06831</td><td>40.9559</td><td>122.868</td><td>-4340.34</td></tr><tr><th>11</th><td>-1.05162</td><td>40.9559</td><td>0</td><td>-1546.72</td><td>2101.28</td><td>-1.05162</td><td>40.9559</td><td>122.868</td><td>-4124.6</td></tr></tbody></table></div>"
      ],
      "text/latex": [
       "\\begin{tabular}{r|cccccccccc}\n",
       "\t& a1 & a2 & a3 & a4 & a5 & u0 & u1 & u2 & u31 & \\\\\n",
       "\t\\hline\n",
       "\t& Any & Any & Any & Any & Any & Any & Any & Any & Any & \\\\\n",
       "\t\\hline\n",
       "\t1 & -968.125 & 0 & 0 & 1639.39 & -453.817 & -968.125 & 0 & 0 & 4371.72 & $\\dots$ \\\\\n",
       "\t2 & -500.625 & 0 & 0 & 1.84202 & 1068.8 & -500.625 & 0 & 0 & 4.91204 & $\\dots$ \\\\\n",
       "\t3 & -0.891698 & 32.2939 & 0 & -1342.87 & 1679.08 & -0.891698 & 32.2939 & 96.8816 & -3581.0 & $\\dots$ \\\\\n",
       "\t4 & -0.917754 & 32.2939 & 0 & -1369.92 & 1746.78 & -0.917754 & 32.2939 & 96.8816 & -3653.13 & $\\dots$ \\\\\n",
       "\t5 & -0.904726 & 32.2939 & 0 & -1356.4 & 1712.93 & -0.904726 & 32.2939 & 96.8816 & -3617.06 & $\\dots$ \\\\\n",
       "\t6 & -180.636 & 35.9816 & 0 & -953.846 & 1605.6 & -180.636 & 35.9816 & 107.945 & -2543.59 & $\\dots$ \\\\\n",
       "\t7 & -1.00248 & 35.9816 & 0 & -1637.79 & 2290.6 & -1.00248 & 35.9816 & 107.945 & -4367.45 & $\\dots$ \\\\\n",
       "\t8 & -90.8192 & 35.9816 & 0 & -1295.82 & 1948.1 & -90.8192 & 35.9816 & 107.945 & -3455.52 & $\\dots$ \\\\\n",
       "\t9 & -1.03493 & 40.9559 & 0 & -1465.82 & 1945.04 & -1.03493 & 40.9559 & 122.868 & -3908.85 & $\\dots$ \\\\\n",
       "\t10 & -1.06831 & 40.9559 & 0 & -1627.63 & 2257.51 & -1.06831 & 40.9559 & 122.868 & -4340.34 & $\\dots$ \\\\\n",
       "\t11 & -1.05162 & 40.9559 & 0 & -1546.72 & 2101.28 & -1.05162 & 40.9559 & 122.868 & -4124.6 & $\\dots$ \\\\\n",
       "\\end{tabular}\n"
      ],
      "text/plain": [
       "\u001b[1m11×13 DataFrame\u001b[0m\n",
       "\u001b[1m Row \u001b[0m│\u001b[1m a1        \u001b[0m\u001b[1m a2      \u001b[0m\u001b[1m a3  \u001b[0m\u001b[1m a4       \u001b[0m\u001b[1m a5       \u001b[0m\u001b[1m u0        \u001b[0m\u001b[1m u1      \u001b[0m\u001b[1m u2    \u001b[0m ⋯\n",
       "\u001b[1m     \u001b[0m│\u001b[90m Any       \u001b[0m\u001b[90m Any     \u001b[0m\u001b[90m Any \u001b[0m\u001b[90m Any      \u001b[0m\u001b[90m Any      \u001b[0m\u001b[90m Any       \u001b[0m\u001b[90m Any     \u001b[0m\u001b[90m Any   \u001b[0m ⋯\n",
       "─────┼──────────────────────────────────────────────────────────────────────────\n",
       "   1 │ -968.125   0        0    1639.39   -453.817  -968.125   0        0      ⋯\n",
       "   2 │ -500.625   0        0    1.84202   1068.8    -500.625   0        0\n",
       "   3 │ -0.891698  32.2939  0    -1342.87  1679.08   -0.891698  32.2939  96.881\n",
       "   4 │ -0.917754  32.2939  0    -1369.92  1746.78   -0.917754  32.2939  96.881\n",
       "   5 │ -0.904726  32.2939  0    -1356.4   1712.93   -0.904726  32.2939  96.881 ⋯\n",
       "   6 │ -180.636   35.9816  0    -953.846  1605.6    -180.636   35.9816  107.94\n",
       "   7 │ -1.00248   35.9816  0    -1637.79  2290.6    -1.00248   35.9816  107.94\n",
       "   8 │ -90.8192   35.9816  0    -1295.82  1948.1    -90.8192   35.9816  107.94\n",
       "   9 │ -1.03493   40.9559  0    -1465.82  1945.04   -1.03493   40.9559  122.86 ⋯\n",
       "  10 │ -1.06831   40.9559  0    -1627.63  2257.51   -1.06831   40.9559  122.86\n",
       "  11 │ -1.05162   40.9559  0    -1546.72  2101.28   -1.05162   40.9559  122.86\n",
       "\u001b[36m                                                               6 columns omitted\u001b[0m"
      ]
     },
     "metadata": {},
     "output_type": "display_data"
    }
   ],
   "source": [
    "using DataFrames, XLSX\n",
    "df=DataFrame(XLSX.readtable(\"parameters.xlsx\",\"Summary\",first_row=2))"
   ]
  },
  {
   "cell_type": "code",
   "execution_count": 22,
   "id": "dc578f76",
   "metadata": {},
   "outputs": [
    {
     "data": {
      "text/plain": [
       "-500.62499999999994"
      ]
     },
     "metadata": {},
     "output_type": "display_data"
    }
   ],
   "source": [
    "df[2,\"a1\"]"
   ]
  },
  {
   "cell_type": "code",
   "execution_count": 29,
   "id": "c4e8cc0a",
   "metadata": {},
   "outputs": [
    {
     "data": {
      "text/html": [
       "<div class=\"data-frame\"><p>35 rows × 29 columns (omitted printing of 21 columns)</p><table class=\"data-frame\"><thead><tr><th></th><th>index</th><th>Parameter Name</th><th>Paper</th><th>a1</th><th>a2</th><th>a3</th><th>a4</th><th>a5</th></tr><tr><th></th><th title=\"Any\">Any</th><th title=\"Any\">Any</th><th title=\"Any\">Any</th><th title=\"Any\">Any</th><th title=\"Any\">Any</th><th title=\"Any\">Any</th><th title=\"Any\">Any</th><th title=\"Any\">Any</th></tr></thead><tbody><tr><th>1</th><td>1.0</td><td>YBZ1</td><td>Yamamoto1988</td><td>-330.154</td><td>26.25</td><td>20.68</td><td>0</td><td>0</td></tr><tr><th>2</th><td>2</td><td>YBZ2</td><td>Yamamoto1988</td><td>-375.149</td><td>26.25</td><td>15.35</td><td>0</td><td>0</td></tr><tr><th>3</th><td>3</td><td>YBZ3</td><td>Yamamoto1988</td><td>-237.004</td><td>26.25</td><td>32.96</td><td>0</td><td>0</td></tr><tr><th>4</th><td>4</td><td>YBZ4</td><td>Yamamoto1988</td><td>-224.981</td><td>26.25</td><td>25.335</td><td>0</td><td>0</td></tr><tr><th>5</th><td>5</td><td>YBZ5</td><td>Yamamoto1988</td><td>-298.116</td><td>0</td><td>11.57</td><td>0</td><td>0</td></tr><tr><th>6</th><td>6</td><td>YBZ6</td><td>Yamamoto1988</td><td>-352.287</td><td>45</td><td>27.7</td><td>0</td><td>0</td></tr><tr><th>7</th><td>7</td><td>SKSH1</td><td>Fernandez1989</td><td>-176.5</td><td>2.075</td><td>-18.9375</td><td>0</td><td>0</td></tr><tr><th>8</th><td>8</td><td>SKSH2</td><td>Fernandez1989</td><td>-290</td><td>0.35</td><td>10.675</td><td>0</td><td>0</td></tr><tr><th>9</th><td>9</td><td>LY1</td><td>Lanskoy1997</td><td>-465.242</td><td>16.25</td><td>12.875</td><td>567.761</td><td>0</td></tr><tr><th>10</th><td>10</td><td>LY2</td><td>Lanskoy1997</td><td>-478.846</td><td>42</td><td>28</td><td>457.23</td><td>0</td></tr><tr><th>11</th><td>11</td><td>LY3</td><td>Lanskoy1997</td><td>-617.444</td><td>21.5</td><td>47.25</td><td>705.119</td><td>0</td></tr><tr><th>12</th><td>12</td><td>LY4</td><td>Lanskoy1997</td><td>-500.89</td><td>16</td><td>20</td><td>520.473</td><td>0</td></tr><tr><th>13</th><td>13</td><td>HPL1</td><td>Guleria2012</td><td>-290.002</td><td>16.0108</td><td>28.3081</td><td>654.729</td><td>0</td></tr><tr><th>14</th><td>14</td><td>HPL2</td><td>Guleria2012</td><td>-302.759</td><td>23.7203</td><td>29.8529</td><td>767.495</td><td>0</td></tr><tr><th>15</th><td>15</td><td>HPL3</td><td>Guleria2012</td><td>-375.88</td><td>21.051</td><td>22.076</td><td>373.395</td><td>0</td></tr><tr><th>16</th><td>16</td><td>HPL4</td><td>Guleria2012</td><td>-392.357</td><td>19.542</td><td>39.758</td><td>515.622</td><td>0</td></tr><tr><th>17</th><td>17</td><td>NL1</td><td>Guleria2012</td><td>-326.815</td><td>15.8855</td><td>65.6204</td><td>631.916</td><td>0</td></tr><tr><th>18</th><td>18</td><td>OL1</td><td>Guleria2012</td><td>-251.618</td><td>0.9973</td><td>57.9365</td><td>544.977</td><td>0</td></tr><tr><th>19</th><td>19</td><td>NL2</td><td>Guleria2012</td><td>-482.524</td><td>15.5293</td><td>33.2826</td><td>446.35</td><td>0</td></tr><tr><th>20</th><td>20</td><td>OL2</td><td>Guleria2012</td><td>-337.257</td><td>-0.428925</td><td>0.987463</td><td>413.28</td><td>0</td></tr><tr><th>21</th><td>21</td><td>KIDS0</td><td>Choi2022</td><td>-479.634</td><td>13.9329</td><td>28.4136</td><td>-158.95</td><td>140.945</td></tr><tr><th>22</th><td>22</td><td>KIDSA</td><td>Choi2022</td><td>-463.476</td><td>22.4516</td><td>36.2503</td><td>-150.148</td><td>99.2816</td></tr><tr><th>23</th><td>23</td><td>KIDSB</td><td>Choi2022</td><td>-480.351</td><td>11.0882</td><td>22.8057</td><td>-139.99</td><td>85.1835</td></tr><tr><th>24</th><td>24</td><td>KIDSC</td><td>Choi2022</td><td>-485.267</td><td>19.6194</td><td>33.0487</td><td>-87.7463</td><td>104.999</td></tr><tr><th>&vellip;</th><td>&vellip;</td><td>&vellip;</td><td>&vellip;</td><td>&vellip;</td><td>&vellip;</td><td>&vellip;</td><td>&vellip;</td><td>&vellip;</td></tr></tbody></table></div>"
      ],
      "text/latex": [
       "\\begin{tabular}{r|ccccccccc}\n",
       "\t& index & Parameter Name & Paper & a1 & a2 & a3 & a4 & a5 & \\\\\n",
       "\t\\hline\n",
       "\t& Any & Any & Any & Any & Any & Any & Any & Any & \\\\\n",
       "\t\\hline\n",
       "\t1 & 1.0 & YBZ1 & Yamamoto1988 & -330.154 & 26.25 & 20.68 & 0 & 0 & $\\dots$ \\\\\n",
       "\t2 & 2 & YBZ2 & Yamamoto1988 & -375.149 & 26.25 & 15.35 & 0 & 0 & $\\dots$ \\\\\n",
       "\t3 & 3 & YBZ3 & Yamamoto1988 & -237.004 & 26.25 & 32.96 & 0 & 0 & $\\dots$ \\\\\n",
       "\t4 & 4 & YBZ4 & Yamamoto1988 & -224.981 & 26.25 & 25.335 & 0 & 0 & $\\dots$ \\\\\n",
       "\t5 & 5 & YBZ5 & Yamamoto1988 & -298.116 & 0 & 11.57 & 0 & 0 & $\\dots$ \\\\\n",
       "\t6 & 6 & YBZ6 & Yamamoto1988 & -352.287 & 45 & 27.7 & 0 & 0 & $\\dots$ \\\\\n",
       "\t7 & 7 & SKSH1 & Fernandez1989 & -176.5 & 2.075 & -18.9375 & 0 & 0 & $\\dots$ \\\\\n",
       "\t8 & 8 & SKSH2 & Fernandez1989 & -290 & 0.35 & 10.675 & 0 & 0 & $\\dots$ \\\\\n",
       "\t9 & 9 & LY1 & Lanskoy1997 & -465.242 & 16.25 & 12.875 & 567.761 & 0 & $\\dots$ \\\\\n",
       "\t10 & 10 & LY2 & Lanskoy1997 & -478.846 & 42 & 28 & 457.23 & 0 & $\\dots$ \\\\\n",
       "\t11 & 11 & LY3 & Lanskoy1997 & -617.444 & 21.5 & 47.25 & 705.119 & 0 & $\\dots$ \\\\\n",
       "\t12 & 12 & LY4 & Lanskoy1997 & -500.89 & 16 & 20 & 520.473 & 0 & $\\dots$ \\\\\n",
       "\t13 & 13 & HPL1 & Guleria2012 & -290.002 & 16.0108 & 28.3081 & 654.729 & 0 & $\\dots$ \\\\\n",
       "\t14 & 14 & HPL2 & Guleria2012 & -302.759 & 23.7203 & 29.8529 & 767.495 & 0 & $\\dots$ \\\\\n",
       "\t15 & 15 & HPL3 & Guleria2012 & -375.88 & 21.051 & 22.076 & 373.395 & 0 & $\\dots$ \\\\\n",
       "\t16 & 16 & HPL4 & Guleria2012 & -392.357 & 19.542 & 39.758 & 515.622 & 0 & $\\dots$ \\\\\n",
       "\t17 & 17 & NL1 & Guleria2012 & -326.815 & 15.8855 & 65.6204 & 631.916 & 0 & $\\dots$ \\\\\n",
       "\t18 & 18 & OL1 & Guleria2012 & -251.618 & 0.9973 & 57.9365 & 544.977 & 0 & $\\dots$ \\\\\n",
       "\t19 & 19 & NL2 & Guleria2012 & -482.524 & 15.5293 & 33.2826 & 446.35 & 0 & $\\dots$ \\\\\n",
       "\t20 & 20 & OL2 & Guleria2012 & -337.257 & -0.428925 & 0.987463 & 413.28 & 0 & $\\dots$ \\\\\n",
       "\t21 & 21 & KIDS0 & Choi2022 & -479.634 & 13.9329 & 28.4136 & -158.95 & 140.945 & $\\dots$ \\\\\n",
       "\t22 & 22 & KIDSA & Choi2022 & -463.476 & 22.4516 & 36.2503 & -150.148 & 99.2816 & $\\dots$ \\\\\n",
       "\t23 & 23 & KIDSB & Choi2022 & -480.351 & 11.0882 & 22.8057 & -139.99 & 85.1835 & $\\dots$ \\\\\n",
       "\t24 & 24 & KIDSC & Choi2022 & -485.267 & 19.6194 & 33.0487 & -87.7463 & 104.999 & $\\dots$ \\\\\n",
       "\t$\\dots$ & $\\dots$ & $\\dots$ & $\\dots$ & $\\dots$ & $\\dots$ & $\\dots$ & $\\dots$ & $\\dots$ &  \\\\\n",
       "\\end{tabular}\n"
      ],
      "text/plain": [
       "\u001b[1m35×29 DataFrame\u001b[0m\n",
       "\u001b[1m Row \u001b[0m│\u001b[1m index \u001b[0m\u001b[1m Parameter Name                    \u001b[0m\u001b[1m Paper         \u001b[0m\u001b[1m a1        \u001b[0m\u001b[1m a2 \u001b[0m ⋯\n",
       "\u001b[1m     \u001b[0m│\u001b[90m Any   \u001b[0m\u001b[90m Any                               \u001b[0m\u001b[90m Any           \u001b[0m\u001b[90m Any       \u001b[0m\u001b[90m Any\u001b[0m ⋯\n",
       "─────┼──────────────────────────────────────────────────────────────────────────\n",
       "   1 │ 1.0    YBZ1                               Yamamoto1988   -330.154   26. ⋯\n",
       "   2 │ 2      YBZ2                               Yamamoto1988   -375.149   26.\n",
       "   3 │ 3      YBZ3                               Yamamoto1988   -237.004   26.\n",
       "   4 │ 4      YBZ4                               Yamamoto1988   -224.981   26.\n",
       "   5 │ 5      YBZ5                               Yamamoto1988   -298.116   0   ⋯\n",
       "   6 │ 6      YBZ6                               Yamamoto1988   -352.287   45\n",
       "   7 │ 7      SKSH1                              Fernandez1989  -176.5     2.0\n",
       "   8 │ 8      SKSH2                              Fernandez1989  -290       0.3\n",
       "  ⋮  │   ⋮                    ⋮                        ⋮            ⋮          ⋱\n",
       "  29 │ 29     GKW2+MD1_medium                    my parameter   -0.904726  32. ⋯\n",
       "  30 │ 30     GKW3+MD2_medium                    my parameter   -90.8192   35.\n",
       "  31 │ 31     GKW3+MD3_medium                    my parameter   -1.05162   40.\n",
       "  32 │ 32     GKW2_medium(rho<1.5)               my parameter   -352.208   0.0\n",
       "  33 │ 33     GKW3_medium(rho<1.5)               my parameter   -388.277   0.0 ⋯\n",
       "  34 │ 34     GKW2_medium(rho<1.5)+Kohno2(k<1.…  my parameter   -352.208   40.\n",
       "  35 │ 35     GKW3_medium(rho<1.5)+Kohno3(k<1.…  my parameter   -388.277   53.\n",
       "\u001b[36m                                                  25 columns and 20 rows omitted\u001b[0m"
      ]
     },
     "metadata": {},
     "output_type": "display_data"
    }
   ],
   "source": [
    "df=DataFrame(XLSX.readtable(\"../Lambda Parameters.xlsx\",\"Lambda Parameters\",header=true))"
   ]
  },
  {
   "cell_type": "code",
   "execution_count": 32,
   "id": "01e09382",
   "metadata": {},
   "outputs": [
    {
     "data": {
      "text/plain": [
       "Vector{Any} (alias for Array{Any, 1})"
      ]
     },
     "metadata": {},
     "output_type": "display_data"
    }
   ],
   "source": []
  },
  {
   "cell_type": "code",
   "execution_count": null,
   "id": "e8539716",
   "metadata": {},
   "outputs": [],
   "source": []
  }
 ],
 "metadata": {
  "kernelspec": {
   "display_name": "Julia 1.7.3",
   "language": "julia",
   "name": "julia-1.7"
  },
  "language_info": {
   "file_extension": ".jl",
   "mimetype": "application/julia",
   "name": "julia",
   "version": "1.7.3"
  }
 },
 "nbformat": 4,
 "nbformat_minor": 5
}
