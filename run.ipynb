{
 "cells": [
  {
   "cell_type": "code",
   "execution_count": 74,
   "id": "39b93546",
   "metadata": {},
   "outputs": [
    {
     "name": "stdout",
     "output_type": "stream",
     "text": [
      "diffρ=(0.2329303241417197,0.20101924310163916,0.0)\n",
      "1\n",
      "diffρ=(0.0870619963956522,0.050918169496602085,0.0)\n",
      "2\n",
      "diffρ=(0.000649350018201731,0.0011337914192006214,0.0)\n",
      "3\n",
      "diffρ=(6.645018764272855e-5,5.301872465454867e-5,0.0)\n",
      "4\n",
      "diffρ=(8.054677907584781e-6,2.0877721044237626e-5,0.0)\n",
      "5\n",
      "diffρ=(3.829138643497278e-6,7.729873342928637e-6,0.0)\n"
     ]
    },
    {
     "name": "stderr",
     "output_type": "stream",
     "text": [
      "WARNING: replacing module NuclParameters.\n",
      "WARNING: replacing module LambdaParameters.\n",
      "WARNING: replacing module MyLib.\n"
     ]
    }
   ],
   "source": [
    "include(\"Main.jl\")\n",
    "AN=AtomNum(82,126,0)\n",
    "NParamType=\"VB1\"\n",
    "ΛParamType=\"HPL2\"\n",
    "OutPutFiles(AN,NParamType=NParamType,ΛParamType=ΛParamType)"
   ]
  },
  {
   "cell_type": "code",
   "execution_count": 92,
   "id": "a2284815",
   "metadata": {},
   "outputs": [
    {
     "name": "stdout",
     "output_type": "stream",
     "text": [
      "diffρ=(0.014546309039712407,0.00543627946379773,0.00035167331131189173)\n",
      "1\n",
      "diffρ=(0.0010331751814232752,0.0012851625443600764,9.438555790373882e-7)\n",
      "2\n",
      "diffρ=(1.635468482965698e-5,2.3224442415887735e-5,1.45317794826258e-7)\n",
      "3\n",
      "diffρ=(3.3993321093775972e-6,1.45830338624986e-6,6.663794143431249e-9)\n"
     ]
    },
    {
     "name": "stderr",
     "output_type": "stream",
     "text": [
      "WARNING: replacing module NuclParameters.\n",
      "WARNING: replacing module LambdaParameters.\n",
      "WARNING: replacing module MyLib.\n"
     ]
    }
   ],
   "source": [
    "include(\"Main.jl\")\n",
    "AN=AtomNum(2,6,1)\n",
    "NParamType=\"SLy4\"\n",
    "ΛParamType=\"HPL2\"\n",
    "OutPutFiles(AN,NParamType=NParamType,ΛParamType=ΛParamType)"
   ]
  },
  {
   "cell_type": "code",
   "execution_count": 75,
   "id": "1d633245",
   "metadata": {},
   "outputs": [
    {
     "name": "stdout",
     "output_type": "stream",
     "text": [
      "diffρ=(0.003407411647303123,0.00350834584194683,0.00014789888359414548)\n",
      "1\n",
      "diffρ=(0.0003176498671030837,0.0003140725927363086,5.205824188599125e-6)\n",
      "2\n",
      "diffρ=(3.362290131432995e-6,3.5005881772263647e-6,1.0681068874625603e-6)\n"
     ]
    },
    {
     "name": "stderr",
     "output_type": "stream",
     "text": [
      "WARNING: replacing module NuclParameters.\n",
      "WARNING: replacing module LambdaParameters.\n",
      "WARNING: replacing module MyLib.\n"
     ]
    }
   ],
   "source": [
    "include(\"Main.jl\")\n",
    "AN=AtomNum(4,4,1)\n",
    "NParamType=\"SLy4\"\n",
    "ΛParamType=\"HPL2\"\n",
    "OutPutFiles(AN,NParamType=NParamType,ΛParamType=ΛParamType)"
   ]
  },
  {
   "cell_type": "code",
   "execution_count": 76,
   "id": "a7ae930c",
   "metadata": {},
   "outputs": [
    {
     "name": "stdout",
     "output_type": "stream",
     "text": [
      "diffρ=(0.008651971797089101,0.0012591626827706407,0.00015135833458395864)\n",
      "1\n",
      "diffρ=(0.00043139595496603637,0.00030554138234787433,1.6567075789040301e-6)\n",
      "2\n",
      "diffρ=(1.169312046598272e-5,1.195384282826697e-5,2.4264923747904833e-7)\n",
      "3\n",
      "diffρ=(1.7406680901150266e-6,1.4704314464957085e-6,3.710049616926614e-8)\n"
     ]
    },
    {
     "name": "stderr",
     "output_type": "stream",
     "text": [
      "WARNING: replacing module NuclParameters.\n",
      "WARNING: replacing module LambdaParameters.\n",
      "WARNING: replacing module MyLib.\n"
     ]
    }
   ],
   "source": [
    "include(\"Main.jl\")\n",
    "AN=AtomNum(3,6,1)\n",
    "NParamType=\"SLy4\"\n",
    "ΛParamType=\"HPL2\"\n",
    "OutPutFiles(AN,NParamType=NParamType,ΛParamType=ΛParamType)"
   ]
  },
  {
   "cell_type": "code",
   "execution_count": 77,
   "id": "cba22bbd",
   "metadata": {},
   "outputs": [
    {
     "name": "stdout",
     "output_type": "stream",
     "text": [
      "diffρ=(0.004765818045067558,0.0004005314619421884,7.8357320211291e-5)\n",
      "1\n",
      "diffρ=(0.0001939735574428039,0.00014477302990342284,2.894818312300353e-6)\n",
      "2\n",
      "diffρ=(3.0731385429394145e-5,2.5742849998516758e-5,2.6203587816370056e-7)\n",
      "3\n",
      "diffρ=(2.5185403780071073e-6,2.8305794937451727e-6,6.599279321669419e-8)\n"
     ]
    },
    {
     "name": "stderr",
     "output_type": "stream",
     "text": [
      "WARNING: replacing module NuclParameters.\n",
      "WARNING: replacing module LambdaParameters.\n",
      "WARNING: replacing module MyLib.\n"
     ]
    }
   ],
   "source": [
    "include(\"Main.jl\")\n",
    "AN=AtomNum(4,6,1)\n",
    "NParamType=\"SLy4\"\n",
    "ΛParamType=\"HPL2\"\n",
    "OutPutFiles(AN,NParamType=NParamType,ΛParamType=ΛParamType)"
   ]
  },
  {
   "cell_type": "code",
   "execution_count": 78,
   "id": "5620ec01",
   "metadata": {},
   "outputs": [
    {
     "name": "stdout",
     "output_type": "stream",
     "text": [
      "diffρ=(0.0018232525139405785,0.0018387649891589478,6.668241690119453e-5)\n",
      "1\n",
      "diffρ=(0.00026811623910039383,0.0002768411374016817,4.227862570614308e-6)\n",
      "2\n",
      "diffρ=(4.361755438797012e-5,4.420482766865473e-5,4.384755283136751e-7)\n",
      "3\n",
      "diffρ=(4.934451815347043e-6,5.129446392694251e-6,1.2438871714705278e-7)\n"
     ]
    },
    {
     "name": "stderr",
     "output_type": "stream",
     "text": [
      "WARNING: replacing module NuclParameters.\n",
      "WARNING: replacing module LambdaParameters.\n",
      "WARNING: replacing module MyLib.\n"
     ]
    }
   ],
   "source": [
    "include(\"Main.jl\")\n",
    "AN=AtomNum(5,5,1)\n",
    "NParamType=\"SLy4\"\n",
    "ΛParamType=\"HPL2\"\n",
    "OutPutFiles(AN,NParamType=NParamType,ΛParamType=ΛParamType)"
   ]
  },
  {
   "cell_type": "code",
   "execution_count": 79,
   "id": "ee156530",
   "metadata": {},
   "outputs": [
    {
     "name": "stdout",
     "output_type": "stream",
     "text": [
      "diffρ=(0.003077719727665732,0.0014975967933247522,4.4893715171137445e-5)\n",
      "1\n",
      "diffρ=(0.000938636451418836,0.001058939806098616,4.977304751850736e-6)\n",
      "2\n",
      "diffρ=(0.00017102340273864936,0.00017944405916493569,5.340294610289169e-7)\n",
      "3\n",
      "diffρ=(2.3207874607450553e-5,2.4888104873744034e-5,1.2526554882482613e-7)\n",
      "4\n",
      "diffρ=(4.242819580036845e-6,4.540626295917888e-6,1.9232046551502104e-8)\n"
     ]
    },
    {
     "name": "stderr",
     "output_type": "stream",
     "text": [
      "WARNING: replacing module NuclParameters.\n",
      "WARNING: replacing module LambdaParameters.\n",
      "WARNING: replacing module MyLib.\n"
     ]
    }
   ],
   "source": [
    "include(\"Main.jl\")\n",
    "AN=AtomNum(5,6,1)\n",
    "NParamType=\"SLy4\"\n",
    "ΛParamType=\"HPL2\"\n",
    "OutPutFiles(AN,NParamType=NParamType,ΛParamType=ΛParamType)"
   ]
  },
  {
   "cell_type": "code",
   "execution_count": 80,
   "id": "a591efbe",
   "metadata": {},
   "outputs": [
    {
     "name": "stdout",
     "output_type": "stream",
     "text": [
      "diffρ=(0.005707398570288203,0.0018171082392000673,3.28121870997662e-5)\n",
      "1\n",
      "diffρ=(0.000994116712521482,0.0010296131108633842,6.938429247298717e-6)\n",
      "2\n",
      "diffρ=(0.00015584959849524702,0.00015815084037858733,5.970091623696675e-7)\n",
      "3\n",
      "diffρ=(1.8134902388868744e-5,1.7419997145237298e-5,1.3252927661496832e-7)\n",
      "4\n",
      "diffρ=(2.6737169340163923e-6,2.94806397195577e-6,2.0116755539277686e-8)\n"
     ]
    },
    {
     "name": "stderr",
     "output_type": "stream",
     "text": [
      "WARNING: replacing module NuclParameters.\n",
      "WARNING: replacing module LambdaParameters.\n",
      "WARNING: replacing module MyLib.\n"
     ]
    }
   ],
   "source": [
    "include(\"Main.jl\")\n",
    "AN=AtomNum(5,7,1)\n",
    "NParamType=\"SLy4\"\n",
    "ΛParamType=\"HPL2\"\n",
    "OutPutFiles(AN,NParamType=NParamType,ΛParamType=ΛParamType)"
   ]
  },
  {
   "cell_type": "code",
   "execution_count": 81,
   "id": "e3500e4e",
   "metadata": {},
   "outputs": [
    {
     "name": "stdout",
     "output_type": "stream",
     "text": [
      "diffρ=(0.00342612296830345,0.003528725562574765,2.7355732255893892e-5)\n",
      "1\n",
      "diffρ=(0.002744236621993331,0.00283391672517282,7.758836716310132e-6)\n",
      "2\n",
      "diffρ=(0.0004916925827036703,0.0005064433897169111,1.3533844891569128e-6)\n",
      "3\n",
      "diffρ=(7.847709767289774e-5,8.103947428021494e-5,2.3964183009246483e-7)\n",
      "4\n",
      "diffρ=(1.6402764826097444e-5,1.6937589984639045e-5,5.0345190994610564e-8)\n",
      "5\n",
      "diffρ=(3.218698921797409e-6,3.324141949645565e-6,1.0254067746766122e-8)\n"
     ]
    },
    {
     "name": "stderr",
     "output_type": "stream",
     "text": [
      "WARNING: replacing module NuclParameters.\n",
      "WARNING: replacing module LambdaParameters.\n",
      "WARNING: replacing module MyLib.\n"
     ]
    }
   ],
   "source": [
    "include(\"Main.jl\")\n",
    "AN=AtomNum(6,6,1)\n",
    "NParamType=\"SLy4\"\n",
    "ΛParamType=\"HPL2\"\n",
    "OutPutFiles(AN,NParamType=NParamType,ΛParamType=ΛParamType)"
   ]
  },
  {
   "cell_type": "code",
   "execution_count": 82,
   "id": "accc9d69",
   "metadata": {},
   "outputs": [
    {
     "name": "stdout",
     "output_type": "stream",
     "text": [
      "diffρ=(0.006031495542035953,0.0043837633648081365,1.7430750607397405e-5)\n",
      "1\n",
      "diffρ=(0.0028060536998522146,0.0026716064260487974,9.920877928973885e-6)\n",
      "2\n",
      "diffρ=(0.0004329411326315828,0.00044564779567739005,1.1414189047525148e-6)\n",
      "3\n",
      "diffρ=(6.203568822757255e-5,5.747803565332073e-5,2.0685856533511829e-7)\n",
      "4\n",
      "diffρ=(1.0563800137360457e-5,1.1033243645623312e-5,3.357030675685727e-8)\n",
      "5\n",
      "diffρ=(1.9502532701645487e-6,1.7494203644509604e-6,7.1810550332481286e-9)\n"
     ]
    },
    {
     "name": "stderr",
     "output_type": "stream",
     "text": [
      "WARNING: replacing module NuclParameters.\n",
      "WARNING: replacing module LambdaParameters.\n",
      "WARNING: replacing module MyLib.\n"
     ]
    }
   ],
   "source": [
    "include(\"Main.jl\")\n",
    "AN=AtomNum(6,7,1)\n",
    "NParamType=\"SLy4\"\n",
    "ΛParamType=\"HPL2\"\n",
    "OutPutFiles(AN,NParamType=NParamType,ΛParamType=ΛParamType)"
   ]
  },
  {
   "cell_type": "code",
   "execution_count": 83,
   "id": "6539c202",
   "metadata": {},
   "outputs": [
    {
     "name": "stdout",
     "output_type": "stream",
     "text": [
      "diffρ=(0.015336542299136339,0.006699320081701117,5.381655016431902e-6)\n",
      "1\n",
      "diffρ=(0.003022821274316585,0.003308035377105369,1.3387254211552945e-5)\n",
      "2\n",
      "diffρ=(0.00036047334621292204,0.00036151888063465934,1.0665177962019859e-6)\n",
      "3\n",
      "diffρ=(3.3478625394772624e-5,3.498992916614402e-5,1.7256438256471792e-7)\n",
      "4\n",
      "diffρ=(4.502431594988093e-6,4.338142162345001e-6,2.5691846755155707e-8)\n"
     ]
    },
    {
     "name": "stderr",
     "output_type": "stream",
     "text": [
      "WARNING: replacing module NuclParameters.\n",
      "WARNING: replacing module LambdaParameters.\n",
      "WARNING: replacing module MyLib.\n"
     ]
    }
   ],
   "source": [
    "include(\"Main.jl\")\n",
    "AN=AtomNum(7,9,1)\n",
    "NParamType=\"SLy4\"\n",
    "ΛParamType=\"HPL2\"\n",
    "OutPutFiles(AN,NParamType=NParamType,ΛParamType=ΛParamType)"
   ]
  },
  {
   "cell_type": "code",
   "execution_count": 84,
   "id": "39b55401",
   "metadata": {},
   "outputs": [
    {
     "name": "stdout",
     "output_type": "stream",
     "text": [
      "diffρ=(0.017472469239830948,0.016572075307289085,2.410481739683525e-6)\n",
      "1\n",
      "diffρ=(0.003254953594252294,0.003296556353999907,2.1208566830009956e-5)\n",
      "2\n",
      "diffρ=(0.0002663962999755269,0.00026968192517278953,1.3942425255179006e-6)\n",
      "3\n",
      "diffρ=(2.2945060982442557e-5,2.3510618885227053e-5,2.2046532103758834e-7)\n",
      "4\n",
      "diffρ=(2.518756644241436e-6,2.5915005786429326e-6,3.64087313612238e-8)\n"
     ]
    },
    {
     "name": "stderr",
     "output_type": "stream",
     "text": [
      "WARNING: replacing module NuclParameters.\n",
      "WARNING: replacing module LambdaParameters.\n",
      "WARNING: replacing module MyLib.\n"
     ]
    }
   ],
   "source": [
    "include(\"Main.jl\")\n",
    "AN=AtomNum(8,8,1)\n",
    "NParamType=\"SLy4\"\n",
    "ΛParamType=\"HPL2\"\n",
    "OutPutFiles(AN,NParamType=NParamType,ΛParamType=ΛParamType)"
   ]
  },
  {
   "cell_type": "code",
   "execution_count": 85,
   "id": "dcde5b0f",
   "metadata": {},
   "outputs": [
    {
     "name": "stdout",
     "output_type": "stream",
     "text": [
      "diffρ=(0.01787896767987026,0.018327720362045035,1.925131296330415e-5)\n",
      "1\n",
      "diffρ=(0.009641102732841838,0.01023999388531732,3.1465709726858902e-6)\n",
      "2\n",
      "diffρ=(0.000759445433240259,0.0007896622133427618,2.1278883776278465e-7)\n",
      "3\n",
      "diffρ=(6.042741931626101e-5,6.176357913389995e-5,7.966778715298371e-9)\n",
      "4\n",
      "diffρ=(6.620065934941152e-6,6.86313775011417e-6,2.563496649406451e-9)\n"
     ]
    },
    {
     "name": "stderr",
     "output_type": "stream",
     "text": [
      "WARNING: replacing module NuclParameters.\n",
      "WARNING: replacing module LambdaParameters.\n",
      "WARNING: replacing module MyLib.\n"
     ]
    }
   ],
   "source": [
    "include(\"Main.jl\")\n",
    "AN=AtomNum(14,14,1)\n",
    "NParamType=\"SLy4\"\n",
    "ΛParamType=\"HPL2\"\n",
    "OutPutFiles(AN,NParamType=NParamType,ΛParamType=ΛParamType)"
   ]
  },
  {
   "cell_type": "code",
   "execution_count": 86,
   "id": "f0216417",
   "metadata": {},
   "outputs": [
    {
     "name": "stdout",
     "output_type": "stream",
     "text": [
      "diffρ=(0.008907976468874245,0.007790905318701877,2.6712627039679046e-6)\n",
      "1\n",
      "diffρ=(0.007111707253016076,0.00782213791067631,7.545938266866759e-6)\n",
      "2\n",
      "diffρ=(0.002305122208992993,0.0024163209416745257,2.3717524435133882e-6)\n",
      "3\n",
      "diffρ=(0.0008092116343809933,0.0008645697746982486,8.011761468198592e-7)\n",
      "4\n",
      "diffρ=(0.0002909081210025933,0.00030391526591845623,2.806600402317317e-7)\n",
      "5\n",
      "diffρ=(0.00010598054377845458,0.00011409535239817788,1.1196227010785058e-7)\n",
      "6\n",
      "diffρ=(3.9384880481873786e-5,4.110013619766529e-5,3.919496569227466e-8)\n",
      "7\n",
      "diffρ=(1.4408904704084385e-5,1.5657350884394988e-5,1.5888696477962084e-8)\n",
      "8\n",
      "diffρ=(5.433137704647249e-6,5.6439081944426325e-6,5.656594530454439e-9)\n"
     ]
    },
    {
     "name": "stderr",
     "output_type": "stream",
     "text": [
      "WARNING: replacing module NuclParameters.\n",
      "WARNING: replacing module LambdaParameters.\n",
      "WARNING: replacing module MyLib.\n"
     ]
    }
   ],
   "source": [
    "include(\"Main.jl\")\n",
    "AN=AtomNum(16,16,1)\n",
    "NParamType=\"SLy4\"\n",
    "ΛParamType=\"HPL2\"\n",
    "OutPutFiles(AN,NParamType=NParamType,ΛParamType=ΛParamType)"
   ]
  },
  {
   "cell_type": "code",
   "execution_count": 87,
   "id": "3d5887be",
   "metadata": {},
   "outputs": [
    {
     "name": "stdout",
     "output_type": "stream",
     "text": [
      "diffρ=(0.02527841327770642,0.017598814777270332,3.272222628288493e-6)\n",
      "1\n",
      "diffρ=(0.0035369980484572716,0.003620609688679841,3.607060729754302e-6)\n",
      "2\n",
      "diffρ=(0.0006210240600062084,0.0006508187357080994,9.541093916114288e-7)\n",
      "3\n",
      "diffρ=(0.0001457870012865148,0.00015944299287928628,1.2700753223034578e-7)\n",
      "4\n",
      "diffρ=(3.4612896820013603e-5,3.6007069155304925e-5,4.300871087998708e-8)\n",
      "5\n",
      "diffρ=(8.498862466625752e-6,9.412169849181763e-6,8.197337860088432e-9)\n"
     ]
    },
    {
     "name": "stderr",
     "output_type": "stream",
     "text": [
      "WARNING: replacing module NuclParameters.\n",
      "WARNING: replacing module LambdaParameters.\n",
      "WARNING: replacing module MyLib.\n"
     ]
    }
   ],
   "source": [
    "include(\"Main.jl\")\n",
    "AN=AtomNum(20,20,1)\n",
    "NParamType=\"SLy4\"\n",
    "ΛParamType=\"HPL2\"\n",
    "OutPutFiles(AN,NParamType=NParamType,ΛParamType=ΛParamType)"
   ]
  },
  {
   "cell_type": "code",
   "execution_count": 88,
   "id": "6770c729",
   "metadata": {},
   "outputs": [
    {
     "name": "stdout",
     "output_type": "stream",
     "text": [
      "diffρ=(0.030235046775593438,0.02117814712203904,1.6809520794947289e-6)\n",
      "1\n",
      "diffρ=(0.007517083704654001,0.012021030624984368,1.5321990126978772e-6)\n",
      "2\n",
      "diffρ=(0.001298106186752115,0.0014496447336775512,3.5655264529514377e-7)\n",
      "3\n",
      "diffρ=(0.0002167585385966688,0.00027290537691136913,5.348178430148771e-8)\n",
      "4\n",
      "diffρ=(4.248568650320923e-5,4.43917748971783e-5,1.6496748957778903e-8)\n",
      "5\n",
      "diffρ=(6.814460335178109e-6,9.390101173118433e-6,3.4013683843589796e-9)\n"
     ]
    },
    {
     "name": "stderr",
     "output_type": "stream",
     "text": [
      "WARNING: replacing module NuclParameters.\n",
      "WARNING: replacing module LambdaParameters.\n",
      "WARNING: replacing module MyLib.\n"
     ]
    }
   ],
   "source": [
    "include(\"Main.jl\")\n",
    "AN=AtomNum(23,28,1)\n",
    "NParamType=\"SLy4\"\n",
    "ΛParamType=\"HPL2\"\n",
    "OutPutFiles(AN,NParamType=NParamType,ΛParamType=ΛParamType)"
   ]
  },
  {
   "cell_type": "code",
   "execution_count": 89,
   "id": "266b2565",
   "metadata": {},
   "outputs": [
    {
     "name": "stdout",
     "output_type": "stream",
     "text": [
      "diffρ=(0.06576219029857878,0.024346253163489224,2.8060106776514827e-6)\n",
      "1\n",
      "diffρ=(0.00821625024256431,0.011428482772380873,4.772685507173295e-7)\n",
      "2\n",
      "diffρ=(0.0008168202221657058,0.001033889470558501,1.1171613967356648e-7)\n",
      "3\n",
      "diffρ=(0.00012966965880798677,0.00018407606970870284,3.086774955424025e-8)\n",
      "4\n",
      "diffρ=(2.8348744693267413e-5,3.3425044494343817e-5,8.18261938375546e-9)\n",
      "5\n",
      "diffρ=(5.784592031415226e-6,8.571405876712505e-6,2.7722569786408458e-9)\n"
     ]
    },
    {
     "name": "stderr",
     "output_type": "stream",
     "text": [
      "WARNING: replacing module NuclParameters.\n",
      "WARNING: replacing module LambdaParameters.\n",
      "WARNING: replacing module MyLib.\n"
     ]
    }
   ],
   "source": [
    "include(\"Main.jl\")\n",
    "AN=AtomNum(39,50,1)\n",
    "NParamType=\"SLy4\"\n",
    "ΛParamType=\"HPL2\"\n",
    "OutPutFiles(AN,NParamType=NParamType,ΛParamType=ΛParamType)"
   ]
  },
  {
   "cell_type": "code",
   "execution_count": 90,
   "id": "3a01890b",
   "metadata": {},
   "outputs": [
    {
     "name": "stdout",
     "output_type": "stream",
     "text": [
      "diffρ=(0.15308371646784746,0.03524895271813944,3.9523304015223574e-7)\n",
      "1\n",
      "diffρ=(0.06369150600395132,0.011623134657358467,1.1146786350459558e-6)\n",
      "2\n",
      "diffρ=(0.04857203652622516,0.002813160709978025,3.725814481744321e-7)\n",
      "3\n",
      "diffρ=(0.048461573364465556,0.0017796096696888796,1.3099317066650307e-6)\n",
      "4\n",
      "diffρ=(0.04824897283706348,0.001657177541869425,7.995093227578024e-7)\n",
      "5\n",
      "diffρ=(0.048038599909397434,0.001582915105332646,1.0923957694476788e-6)\n",
      "6\n",
      "diffρ=(0.048106933997869854,0.0015802873406724892,9.206061091014786e-7)\n",
      "7\n",
      "diffρ=(0.04798638405035884,0.0015499226448108206,1.0223285026950672e-6)\n",
      "8\n",
      "diffρ=(0.04802133813344507,0.001559624887998999,9.651568841688816e-7)\n",
      "9\n",
      "diffρ=(0.04797579288506371,0.0015434005394450313,9.963355924577487e-7)\n",
      "10\n",
      "diffρ=(0.04798640668574648,0.0015510779369828167,9.812791074099614e-7)\n",
      "11\n",
      "diffρ=(0.04796983088986751,0.001542159627324076,9.888715597108208e-7)\n",
      "12\n",
      "diffρ=(0.04797189257748312,0.0015469283095176675,9.869678320408344e-7)\n",
      "13\n",
      "diffρ=(0.047966724409205165,0.0015419470765827192,9.875714338250606e-7)\n",
      "14\n",
      "diffρ=(0.047966117203877,0.0015446642223071847,9.89256705209783e-7)\n",
      "15\n",
      "diffρ=(0.04796409845009119,0.0015419081809689742,9.87814338186306e-7)\n",
      "16\n",
      "diffρ=(0.0479633012509759,0.001543412307102497,9.885393412197473e-7)\n",
      "17\n",
      "diffρ=(0.047962109184809636,0.001542016138347756,9.869017100263439e-7)\n",
      "18\n",
      "diffρ=(0.04796166907038554,0.0015428507490048578,9.879320612183183e-7)\n",
      "19\n",
      "diffρ=(0.04796201638810981,0.0015420894929689217,9.871185382078025e-7)\n",
      "20\n",
      "diffρ=(0.04796203562483642,0.001542497912215187,9.880107882112234e-7)\n",
      "21\n",
      "diffρ=(0.04796191146844676,0.0015421174456780183,9.880233809850875e-7)\n",
      "22\n",
      "diffρ=(0.04796124544581088,0.0015423154066442541,9.884917833121677e-7)\n",
      "23\n",
      "diffρ=(0.04796108931672513,0.0015420315893188514,9.879187989610793e-7)\n",
      "24\n",
      "diffρ=(0.04796124488640691,0.0015422374076368855,9.887782837727798e-7)\n",
      "25\n",
      "diffρ=(0.04796128540005008,0.0015421590646838648,9.887790144463979e-7)\n",
      "26\n",
      "diffρ=(0.04796102906461382,0.0015421412103591126,9.881814137177494e-7)\n",
      "27\n",
      "diffρ=(0.04796129871261565,0.0015420588892528018,9.873296670749251e-7)\n",
      "28\n",
      "diffρ=(0.04796121032703649,0.0015420851478219763,9.878920301936838e-7)\n",
      "29\n",
      "diffρ=(0.04796109113933345,0.001542064156201707,9.88451281134485e-7)\n",
      "30\n",
      "diffρ=(0.04796108152220749,0.001542093212838598,9.88821618334562e-7)\n",
      "31\n",
      "diffρ=(0.04796083940582262,0.0015420515717171146,9.884328500083019e-7)\n",
      "32\n",
      "diffρ=(0.04796063481266014,0.0015420623625109204,9.875955515876555e-7)\n",
      "33\n",
      "diffρ=(0.04796068225281097,0.0015420550324564946,9.874377273706197e-7)\n",
      "34\n",
      "diffρ=(0.04796097573893107,0.0015421057895223494,9.87697054113815e-7)\n",
      "35\n",
      "diffρ=(0.047961222591231444,0.001542194016338532,9.884618999734055e-7)\n",
      "36\n",
      "diffρ=(0.04796147333501304,0.0015422308791806017,9.884600308370413e-7)\n",
      "37\n",
      "diffρ=(0.047961765161511696,0.0015421852060789212,9.875163613474377e-7)\n",
      "38\n",
      "diffρ=(0.04796151733794512,0.001542148087719179,9.877645108205967e-7)\n",
      "39\n",
      "diffρ=(0.047961212830717775,0.0015421705787648451,9.886570914498944e-7)\n",
      "40\n",
      "diffρ=(0.0479612736331039,0.0015421492710989955,9.88394414991023e-7)\n",
      "41\n",
      "diffρ=(0.0479611832670909,0.0015421035285144203,9.877101795743619e-7)\n",
      "42\n",
      "diffρ=(0.04796066775111221,0.0015421012493403753,9.877722983445046e-7)\n",
      "43\n",
      "diffρ=(0.04796071829486898,0.0015420999968295051,9.885223401549872e-7)\n",
      "44\n",
      "diffρ=(0.04796130725694947,0.001542082723745927,9.885351721687944e-7)\n",
      "45\n",
      "diffρ=(0.04796127041076566,0.0015420923181896692,9.878243537042721e-7)\n",
      "46\n",
      "diffρ=(0.04796084639919611,0.0015421392315344866,9.877239415198135e-7)\n",
      "47\n",
      "diffρ=(0.047960995354523,0.001542156488641074,9.883882334202485e-7)\n",
      "48\n",
      "diffρ=(0.04796104997935851,0.0015421660321826712,9.88476909894966e-7)\n",
      "49\n",
      "diffρ=(0.047961079281816685,0.0015421396860446533,9.885013799444e-7)\n",
      "50\n"
     ]
    },
    {
     "name": "stderr",
     "output_type": "stream",
     "text": [
      "WARNING: replacing module NuclParameters.\n",
      "WARNING: replacing module LambdaParameters.\n",
      "WARNING: replacing module MyLib.\n"
     ]
    },
    {
     "ename": "LoadError",
     "evalue": "MethodError: no method matching iterate(::Nothing)\n\u001b[0mClosest candidates are:\n\u001b[0m  iterate(\u001b[91m::Union{LinRange, StepRangeLen}\u001b[39m) at C:\\Users\\jinno\\AppData\\Local\\Programs\\Julia-1.7.0\\share\\julia\\base\\range.jl:826\n\u001b[0m  iterate(\u001b[91m::Union{LinRange, StepRangeLen}\u001b[39m, \u001b[91m::Integer\u001b[39m) at C:\\Users\\jinno\\AppData\\Local\\Programs\\Julia-1.7.0\\share\\julia\\base\\range.jl:826\n\u001b[0m  iterate(\u001b[91m::T\u001b[39m) where T<:Union{Base.KeySet{<:Any, <:Dict}, Base.ValueIterator{<:Dict}} at C:\\Users\\jinno\\AppData\\Local\\Programs\\Julia-1.7.0\\share\\julia\\base\\dict.jl:695\n\u001b[0m  ...",
     "output_type": "error",
     "traceback": [
      "MethodError: no method matching iterate(::Nothing)\n\u001b[0mClosest candidates are:\n\u001b[0m  iterate(\u001b[91m::Union{LinRange, StepRangeLen}\u001b[39m) at C:\\Users\\jinno\\AppData\\Local\\Programs\\Julia-1.7.0\\share\\julia\\base\\range.jl:826\n\u001b[0m  iterate(\u001b[91m::Union{LinRange, StepRangeLen}\u001b[39m, \u001b[91m::Integer\u001b[39m) at C:\\Users\\jinno\\AppData\\Local\\Programs\\Julia-1.7.0\\share\\julia\\base\\range.jl:826\n\u001b[0m  iterate(\u001b[91m::T\u001b[39m) where T<:Union{Base.KeySet{<:Any, <:Dict}, Base.ValueIterator{<:Dict}} at C:\\Users\\jinno\\AppData\\Local\\Programs\\Julia-1.7.0\\share\\julia\\base\\dict.jl:695\n\u001b[0m  ...",
      "",
      "Stacktrace:",
      " [1] indexed_iterate(I::Nothing, i::Int64)",
      "   @ Base .\\tuple.jl:92",
      " [2] OutPutFiles(AN::AtomNum; NParamType::String, ΛParamType::String)",
      "   @ Main C:\\Users\\jinno\\OneDrive\\progmrams\\Guleria2012\\Main.jl:530",
      " [3] top-level scope",
      "   @ In[90]:5",
      " [4] eval",
      "   @ .\\boot.jl:373 [inlined]",
      " [5] include_string(mapexpr::typeof(REPL.softscope), mod::Module, code::String, filename::String)",
      "   @ Base .\\loading.jl:1196"
     ]
    }
   ],
   "source": [
    "include(\"Main.jl\")\n",
    "AN=AtomNum(57,82,1)\n",
    "NParamType=\"SLy4\"\n",
    "ΛParamType=\"HPL2\"\n",
    "OutPutFiles(AN,NParamType=NParamType,ΛParamType=ΛParamType)"
   ]
  },
  {
   "cell_type": "code",
   "execution_count": 91,
   "id": "d70b3af7",
   "metadata": {},
   "outputs": [
    {
     "name": "stdout",
     "output_type": "stream",
     "text": [
      "diffρ=(0.14297342974549773,0.08117372939221265,1.7107254017842026e-5)\n",
      "1\n",
      "diffρ=(0.023711153931031223,0.019183501903413277,2.164202781226096e-6)\n",
      "2\n",
      "diffρ=(0.0002405345584722809,0.0005252684494045126,5.081769892363722e-8)\n",
      "3\n",
      "diffρ=(3.3098586931012744e-5,4.828942966762614e-5,9.3502354831422e-9)\n",
      "4\n",
      "diffρ=(5.7696888445157065e-6,1.140535111580514e-5,1.0221988990492747e-9)\n",
      "5\n",
      "diffρ=(1.6864591455000357e-6,2.5278767581945306e-6,5.347594084255593e-10)\n"
     ]
    },
    {
     "name": "stderr",
     "output_type": "stream",
     "text": [
      "WARNING: replacing module NuclParameters.\n",
      "WARNING: replacing module LambdaParameters.\n",
      "WARNING: replacing module MyLib.\n"
     ]
    }
   ],
   "source": [
    "include(\"Main.jl\")\n",
    "AN=AtomNum(82,126,1)\n",
    "NParamType=\"SLy4\"\n",
    "ΛParamType=\"HPL2\"\n",
    "OutPutFiles(AN,NParamType=NParamType,ΛParamType=ΛParamType)"
   ]
  }
 ],
 "metadata": {
  "kernelspec": {
   "display_name": "Julia 1.7.0",
   "language": "julia",
   "name": "julia-1.7"
  },
  "language_info": {
   "file_extension": ".jl",
   "mimetype": "application/julia",
   "name": "julia",
   "version": "1.7.0"
  }
 },
 "nbformat": 4,
 "nbformat_minor": 5
}
