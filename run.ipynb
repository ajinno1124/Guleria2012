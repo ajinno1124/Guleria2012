{
 "cells": [
  {
   "cell_type": "code",
   "execution_count": 20,
   "id": "39b93546",
   "metadata": {},
   "outputs": [
    {
     "name": "stdout",
     "output_type": "stream",
     "text": [
      "diffρ=(0.23175592301088957,0.19923529781369012,0.0)\n",
      "1\n",
      "diffρ=(0.08633397675909042,0.05182766781209356,0.0)\n",
      "2\n",
      "diffρ=(0.0006888266494903565,0.0011278448445216655,0.0)\n",
      "3\n",
      "diffρ=(6.400684911927967e-5,4.422136797541812e-5,0.0)\n",
      "4\n",
      "diffρ=(7.15572473319988e-6,1.933719191527892e-5,0.0)\n",
      "5\n",
      "diffρ=(3.5885448263703493e-6,7.134631222135796e-6,0.0)\n"
     ]
    },
    {
     "name": "stderr",
     "output_type": "stream",
     "text": [
      "WARNING: replacing module NuclParameters.\n",
      "WARNING: replacing module LambdaParameters.\n",
      "WARNING: replacing module MyLib.\n"
     ]
    }
   ],
   "source": [
    "include(\"Main.jl\")\n",
    "AN=AtomNum(82,126,0)\n",
    "NParamType=\"VB1\"\n",
    "LParamType=\"HPL2\"\n",
    "OutPutFiles(AN,NParamType=NParamType,LParamType=LParamType)"
   ]
  },
  {
   "cell_type": "code",
   "execution_count": 21,
   "id": "a2284815",
   "metadata": {},
   "outputs": [
    {
     "name": "stdout",
     "output_type": "stream",
     "text": [
      "diffρ=(0.014380127319396899,0.0053003403411534,0.0003519615841083081)\n",
      "1\n",
      "diffρ=(0.0010107558656671466,0.001228938810938505,1.0292014170534404e-6)\n",
      "2\n",
      "diffρ=(1.5223811209656936e-5,2.3559982856356912e-5,1.389284203519692e-7)\n",
      "3\n",
      "diffρ=(3.3671813911267374e-6,1.4085476581848345e-6,7.499156930664608e-9)\n"
     ]
    },
    {
     "name": "stderr",
     "output_type": "stream",
     "text": [
      "WARNING: replacing module NuclParameters.\n",
      "WARNING: replacing module LambdaParameters.\n",
      "WARNING: replacing module MyLib.\n"
     ]
    }
   ],
   "source": [
    "include(\"Main.jl\")\n",
    "AN=AtomNum(2,6,1)\n",
    "NParamType=\"SLy4\"\n",
    "LParamType=\"HPL2\"\n",
    "OutPutFiles(AN,NParamType=NParamType,LParamType=LParamType)"
   ]
  },
  {
   "cell_type": "code",
   "execution_count": 22,
   "id": "1d633245",
   "metadata": {},
   "outputs": [
    {
     "name": "stdout",
     "output_type": "stream",
     "text": [
      "diffρ=(0.0032561921230236505,0.0033556867114748878,0.00014794979999089078)\n",
      "1\n",
      "diffρ=(0.000277799090877652,0.00027410035258859606,5.512681978448172e-6)\n",
      "2\n",
      "diffρ=(2.4644233945968097e-6,2.5547088891424733e-6,1.0987337948083957e-6)\n"
     ]
    },
    {
     "name": "stderr",
     "output_type": "stream",
     "text": [
      "WARNING: replacing module NuclParameters.\n",
      "WARNING: replacing module LambdaParameters.\n",
      "WARNING: replacing module MyLib.\n"
     ]
    }
   ],
   "source": [
    "include(\"Main.jl\")\n",
    "AN=AtomNum(4,4,1)\n",
    "NParamType=\"SLy4\"\n",
    "LParamType=\"HPL2\"\n",
    "OutPutFiles(AN,NParamType=NParamType,LParamType=LParamType)"
   ]
  },
  {
   "cell_type": "code",
   "execution_count": 23,
   "id": "a7ae930c",
   "metadata": {},
   "outputs": [
    {
     "name": "stdout",
     "output_type": "stream",
     "text": [
      "diffρ=(0.008451167945989619,0.0012343655359387568,0.00015238283198878622)\n",
      "1\n",
      "diffρ=(0.00039920081401589153,0.00027165288607480147,1.7992649639850677e-6)\n",
      "2\n",
      "diffρ=(1.1067117335657376e-5,1.1573134952200056e-5,2.504751548921182e-7)\n",
      "3\n",
      "diffρ=(1.5767432492579496e-6,1.4159761042245095e-6,4.2033689958810434e-8)\n"
     ]
    },
    {
     "name": "stderr",
     "output_type": "stream",
     "text": [
      "WARNING: replacing module NuclParameters.\n",
      "WARNING: replacing module LambdaParameters.\n",
      "WARNING: replacing module MyLib.\n"
     ]
    }
   ],
   "source": [
    "include(\"Main.jl\")\n",
    "AN=AtomNum(3,6,1)\n",
    "NParamType=\"SLy4\"\n",
    "LParamType=\"HPL2\"\n",
    "OutPutFiles(AN,NParamType=NParamType,LParamType=LParamType)"
   ]
  },
  {
   "cell_type": "code",
   "execution_count": 24,
   "id": "cba22bbd",
   "metadata": {},
   "outputs": [
    {
     "name": "stdout",
     "output_type": "stream",
     "text": [
      "diffρ=(0.004600387016860105,0.0004275388772748102,7.93143586975618e-5)\n",
      "1\n",
      "diffρ=(0.00019416763231741845,0.00016537946618883098,3.0256256666769936e-6)\n",
      "2\n",
      "diffρ=(3.576253814902257e-5,3.0366434716777373e-5,2.783211379456131e-7)\n",
      "3\n",
      "diffρ=(2.9124600446685195e-6,3.5365345084257854e-6,7.334315627019605e-8)\n"
     ]
    },
    {
     "name": "stderr",
     "output_type": "stream",
     "text": [
      "WARNING: replacing module NuclParameters.\n",
      "WARNING: replacing module LambdaParameters.\n",
      "WARNING: replacing module MyLib.\n"
     ]
    }
   ],
   "source": [
    "include(\"Main.jl\")\n",
    "AN=AtomNum(4,6,1)\n",
    "NParamType=\"SLy4\"\n",
    "LParamType=\"HPL2\"\n",
    "OutPutFiles(AN,NParamType=NParamType,LParamType=LParamType)"
   ]
  },
  {
   "cell_type": "code",
   "execution_count": 25,
   "id": "5620ec01",
   "metadata": {},
   "outputs": [
    {
     "name": "stdout",
     "output_type": "stream",
     "text": [
      "diffρ=(0.0017494763767909494,0.0017698196912865486,6.741857530621862e-5)\n",
      "1\n",
      "diffρ=(0.0002946700664964478,0.00030512087911621296,4.392873506254156e-6)\n",
      "2\n",
      "diffρ=(5.0860290967325033e-5,5.1491197667304026e-5,4.5974395433159896e-7)\n",
      "3\n",
      "diffρ=(5.864833509644564e-6,6.0971849725971014e-6,1.3520169521663903e-7)\n"
     ]
    },
    {
     "name": "stderr",
     "output_type": "stream",
     "text": [
      "WARNING: replacing module NuclParameters.\n",
      "WARNING: replacing module LambdaParameters.\n",
      "WARNING: replacing module MyLib.\n"
     ]
    }
   ],
   "source": [
    "include(\"Main.jl\")\n",
    "AN=AtomNum(5,5,1)\n",
    "NParamType=\"SLy4\"\n",
    "LParamType=\"HPL2\"\n",
    "OutPutFiles(AN,NParamType=NParamType,LParamType=LParamType)"
   ]
  },
  {
   "cell_type": "code",
   "execution_count": 26,
   "id": "ee156530",
   "metadata": {},
   "outputs": [
    {
     "name": "stdout",
     "output_type": "stream",
     "text": [
      "diffρ=(0.003005413322630433,0.0015472662085869763,4.5726475830921515e-5)\n",
      "1\n",
      "diffρ=(0.001005419660713689,0.0011463615907298952,5.049379958452263e-6)\n",
      "2\n",
      "diffρ=(0.0001874010538966297,0.00019522467874846252,5.400582893931328e-7)\n",
      "3\n",
      "diffρ=(2.5573668284523525e-5,2.757408454810255e-5,1.327389077710664e-7)\n",
      "4\n",
      "diffρ=(4.824562142759098e-6,5.105467204020002e-6,1.9999609603208572e-8)\n"
     ]
    },
    {
     "name": "stderr",
     "output_type": "stream",
     "text": [
      "WARNING: replacing module NuclParameters.\n",
      "WARNING: replacing module LambdaParameters.\n",
      "WARNING: replacing module MyLib.\n"
     ]
    }
   ],
   "source": [
    "include(\"Main.jl\")\n",
    "AN=AtomNum(5,6,1)\n",
    "NParamType=\"SLy4\"\n",
    "LParamType=\"HPL2\"\n",
    "OutPutFiles(AN,NParamType=NParamType,LParamType=LParamType)"
   ]
  },
  {
   "cell_type": "code",
   "execution_count": 27,
   "id": "a591efbe",
   "metadata": {},
   "outputs": [
    {
     "name": "stdout",
     "output_type": "stream",
     "text": [
      "diffρ=(0.005558747985524269,0.0018423243483543664,3.3748564396447454e-5)\n",
      "1\n",
      "diffρ=(0.0010525190604485299,0.0011084398282230914,6.978317075536198e-6)\n",
      "2\n",
      "diffρ=(0.0001715478440626481,0.0001735404205139956,6.113534616286043e-7)\n",
      "3\n",
      "diffρ=(1.9887804065412093e-5,1.946648371596204e-5,1.399038696498891e-7)\n",
      "4\n",
      "diffρ=(3.0403960067482395e-6,3.321280471058279e-6,2.143756263594026e-8)\n"
     ]
    },
    {
     "name": "stderr",
     "output_type": "stream",
     "text": [
      "WARNING: replacing module NuclParameters.\n",
      "WARNING: replacing module LambdaParameters.\n",
      "WARNING: replacing module MyLib.\n"
     ]
    }
   ],
   "source": [
    "include(\"Main.jl\")\n",
    "AN=AtomNum(5,7,1)\n",
    "NParamType=\"SLy4\"\n",
    "LParamType=\"HPL2\"\n",
    "OutPutFiles(AN,NParamType=NParamType,LParamType=LParamType)"
   ]
  },
  {
   "cell_type": "code",
   "execution_count": 28,
   "id": "e3500e4e",
   "metadata": {},
   "outputs": [
    {
     "name": "stdout",
     "output_type": "stream",
     "text": [
      "diffρ=(0.0034724971158658375,0.0035845126267795057,2.813092627596491e-5)\n",
      "1\n",
      "diffρ=(0.0028825571257622314,0.0029739938894477076,7.697102004840083e-6)\n",
      "2\n",
      "diffρ=(0.000520654007574053,0.0005352047577487342,1.3315288407194678e-6)\n",
      "3\n",
      "diffρ=(8.392585428655913e-5,8.655320763959098e-5,2.444906250862969e-7)\n",
      "4\n",
      "diffρ=(1.790548903064593e-5,1.8441267871569532e-5,4.9503172802205573e-8)\n",
      "5\n",
      "diffρ=(3.5950633729508773e-6,3.702871361395249e-6,1.0742143216537826e-8)\n"
     ]
    },
    {
     "name": "stderr",
     "output_type": "stream",
     "text": [
      "WARNING: replacing module NuclParameters.\n",
      "WARNING: replacing module LambdaParameters.\n",
      "WARNING: replacing module MyLib.\n"
     ]
    }
   ],
   "source": [
    "include(\"Main.jl\")\n",
    "AN=AtomNum(6,6,1)\n",
    "NParamType=\"SLy4\"\n",
    "LParamType=\"HPL2\"\n",
    "OutPutFiles(AN,NParamType=NParamType,LParamType=LParamType)"
   ]
  },
  {
   "cell_type": "code",
   "execution_count": 29,
   "id": "accc9d69",
   "metadata": {},
   "outputs": [
    {
     "name": "stdout",
     "output_type": "stream",
     "text": [
      "diffρ=(0.005985982984142579,0.004385807973072048,1.8137936927209095e-5)\n",
      "1\n",
      "diffρ=(0.0029418943243002572,0.002809660237066837,9.850936758191953e-6)\n",
      "2\n",
      "diffρ=(0.0004625436060633457,0.00047624136088520613,1.1277815936305432e-6)\n",
      "3\n",
      "diffρ=(6.641771699862982e-5,6.18931253282212e-5,2.1112467527710208e-7)\n",
      "4\n",
      "diffρ=(1.1578370487654461e-5,1.2089754804731315e-5,3.32215531741858e-8)\n",
      "5\n",
      "diffρ=(2.1739705769576286e-6,1.967176592311043e-6,7.66042438712936e-9)\n"
     ]
    },
    {
     "name": "stderr",
     "output_type": "stream",
     "text": [
      "WARNING: replacing module NuclParameters.\n",
      "WARNING: replacing module LambdaParameters.\n",
      "WARNING: replacing module MyLib.\n"
     ]
    }
   ],
   "source": [
    "include(\"Main.jl\")\n",
    "AN=AtomNum(6,7,1)\n",
    "NParamType=\"SLy4\"\n",
    "LParamType=\"HPL2\"\n",
    "OutPutFiles(AN,NParamType=NParamType,LParamType=LParamType)"
   ]
  },
  {
   "cell_type": "code",
   "execution_count": 30,
   "id": "6539c202",
   "metadata": {},
   "outputs": [
    {
     "name": "stdout",
     "output_type": "stream",
     "text": [
      "diffρ=(0.01499132038942744,0.0066550006138076274,5.916181708714644e-6)\n",
      "1\n",
      "diffρ=(0.0030904125226755915,0.003437668154713964,1.308126045592249e-5)\n",
      "2\n",
      "diffρ=(0.00038568643738888346,0.00038575915239032085,1.0802895814789847e-6)\n",
      "3\n",
      "diffρ=(3.5091026436214125e-5,3.715496514264839e-5,1.7486850458799333e-7)\n",
      "4\n",
      "diffρ=(4.8042907258710015e-6,4.651838966037725e-6,2.7143079575627662e-8)\n"
     ]
    },
    {
     "name": "stderr",
     "output_type": "stream",
     "text": [
      "WARNING: replacing module NuclParameters.\n",
      "WARNING: replacing module LambdaParameters.\n",
      "WARNING: replacing module MyLib.\n"
     ]
    }
   ],
   "source": [
    "include(\"Main.jl\")\n",
    "AN=AtomNum(7,9,1)\n",
    "NParamType=\"SLy4\"\n",
    "LParamType=\"HPL2\"\n",
    "OutPutFiles(AN,NParamType=NParamType,LParamType=LParamType)"
   ]
  },
  {
   "cell_type": "code",
   "execution_count": 31,
   "id": "39b55401",
   "metadata": {},
   "outputs": [
    {
     "name": "stdout",
     "output_type": "stream",
     "text": [
      "diffρ=(0.01693585753682252,0.01607566383173664,2.617381208989507e-6)\n",
      "1\n",
      "diffρ=(0.0032834258958015445,0.0033383713108401563,2.1079572171516417e-5)\n",
      "2\n",
      "diffρ=(0.0002957004822353316,0.0002988467699565371,1.4456495706871053e-6)\n",
      "3\n",
      "diffρ=(2.4986865916634346e-5,2.5591774985615306e-5,2.2622279266550263e-7)\n",
      "4\n",
      "diffρ=(2.812392911035941e-6,2.8872836526115555e-6,3.9941261354455555e-8)\n"
     ]
    },
    {
     "name": "stderr",
     "output_type": "stream",
     "text": [
      "WARNING: replacing module NuclParameters.\n",
      "WARNING: replacing module LambdaParameters.\n",
      "WARNING: replacing module MyLib.\n"
     ]
    }
   ],
   "source": [
    "include(\"Main.jl\")\n",
    "AN=AtomNum(8,8,1)\n",
    "NParamType=\"SLy4\"\n",
    "LParamType=\"HPL2\"\n",
    "OutPutFiles(AN,NParamType=NParamType,LParamType=LParamType)"
   ]
  },
  {
   "cell_type": "code",
   "execution_count": 32,
   "id": "dcde5b0f",
   "metadata": {},
   "outputs": [
    {
     "name": "stdout",
     "output_type": "stream",
     "text": [
      "diffρ=(0.017722528587031095,0.01816373992438491,2.200607418828423e-5)\n",
      "1\n",
      "diffρ=(0.00932395459304902,0.009906672983372953,3.7515147948772806e-6)\n",
      "2\n",
      "diffρ=(0.0006838916961465106,0.0007101545186150574,2.374809590672452e-7)\n",
      "3\n",
      "diffρ=(5.049657259918514e-5,5.156958757653339e-5,6.229791673401385e-9)\n",
      "4\n",
      "diffρ=(5.251651776166049e-6,5.452051985938601e-6,2.7329016896315752e-9)\n"
     ]
    },
    {
     "name": "stderr",
     "output_type": "stream",
     "text": [
      "WARNING: replacing module NuclParameters.\n",
      "WARNING: replacing module LambdaParameters.\n",
      "WARNING: replacing module MyLib.\n"
     ]
    }
   ],
   "source": [
    "include(\"Main.jl\")\n",
    "AN=AtomNum(14,14,1)\n",
    "NParamType=\"SLy4\"\n",
    "LParamType=\"HPL2\"\n",
    "OutPutFiles(AN,NParamType=NParamType,LParamType=LParamType)"
   ]
  },
  {
   "cell_type": "code",
   "execution_count": 33,
   "id": "f0216417",
   "metadata": {},
   "outputs": [
    {
     "name": "stdout",
     "output_type": "stream",
     "text": [
      "diffρ=(0.008321229487552808,0.007228545279707491,2.1679618461665243e-6)\n",
      "1\n",
      "diffρ=(0.006586050025890378,0.0072303396489517896,6.461832171345686e-6)\n",
      "2\n",
      "diffρ=(0.002125957169980462,0.002222650257643196,2.0943911268421803e-6)\n",
      "3\n",
      "diffρ=(0.0007339517602748896,0.0007798991001306448,6.574035843240386e-7)\n",
      "4\n",
      "diffρ=(0.0002580235331841651,0.00026844115503537995,2.333776055719722e-7)\n",
      "5\n",
      "diffρ=(9.250288934850949e-5,9.889783150160547e-5,8.763955199895806e-8)\n",
      "6\n",
      "diffρ=(3.38010966863443e-5,3.509107483376977e-5,3.1101736299475134e-8)\n",
      "7\n",
      "diffρ=(1.2239204099137762e-5,1.320244103284877e-5,1.2035231878242795e-8)\n",
      "8\n",
      "diffρ=(4.565017766947388e-6,4.71956185817568e-6,4.323864542724571e-9)\n"
     ]
    },
    {
     "name": "stderr",
     "output_type": "stream",
     "text": [
      "WARNING: replacing module NuclParameters.\n",
      "WARNING: replacing module LambdaParameters.\n",
      "WARNING: replacing module MyLib.\n"
     ]
    }
   ],
   "source": [
    "include(\"Main.jl\")\n",
    "AN=AtomNum(16,16,1)\n",
    "NParamType=\"SLy4\"\n",
    "LParamType=\"HPL2\"\n",
    "OutPutFiles(AN,NParamType=NParamType,LParamType=LParamType)"
   ]
  },
  {
   "cell_type": "code",
   "execution_count": 34,
   "id": "3d5887be",
   "metadata": {},
   "outputs": [
    {
     "name": "stdout",
     "output_type": "stream",
     "text": [
      "diffρ=(0.02478456407572559,0.017227242714336198,2.5133606783440693e-6)\n",
      "1\n",
      "diffρ=(0.00335656684570156,0.003441767084264677,3.3819387184765435e-6)\n",
      "2\n",
      "diffρ=(0.0005974232738412697,0.0006249481048572862,9.564200350151939e-7)\n",
      "3\n",
      "diffρ=(0.0001397425956031308,0.0001521712600308957,1.2266955983072858e-7)\n",
      "4\n",
      "diffρ=(3.243354892052606e-5,3.363560705192797e-5,4.334360358143573e-8)\n",
      "5\n",
      "diffρ=(7.934099952945191e-6,8.73348861807102e-6,8.209333619647323e-9)\n"
     ]
    },
    {
     "name": "stderr",
     "output_type": "stream",
     "text": [
      "WARNING: replacing module NuclParameters.\n",
      "WARNING: replacing module LambdaParameters.\n",
      "WARNING: replacing module MyLib.\n"
     ]
    }
   ],
   "source": [
    "include(\"Main.jl\")\n",
    "AN=AtomNum(20,20,1)\n",
    "NParamType=\"SLy4\"\n",
    "LParamType=\"HPL2\"\n",
    "OutPutFiles(AN,NParamType=NParamType,LParamType=LParamType)"
   ]
  },
  {
   "cell_type": "code",
   "execution_count": 35,
   "id": "6770c729",
   "metadata": {},
   "outputs": [
    {
     "name": "stdout",
     "output_type": "stream",
     "text": [
      "diffρ=(0.03004413729564727,0.02080923780779987,2.5521159120633956e-6)\n",
      "1\n",
      "diffρ=(0.007199242988161692,0.011682490195216942,1.3637291260767812e-6)\n",
      "2\n",
      "diffρ=(0.0012094416871643331,0.0013415619731202777,3.1142415104870407e-7)\n",
      "3\n",
      "diffρ=(0.00019199933289448107,0.000241845262619199,4.863003664669434e-8)\n",
      "4\n",
      "diffρ=(3.581128854545205e-5,3.733874525774618e-5,1.6035996994185772e-8)\n",
      "5\n",
      "diffρ=(5.570066120151619e-6,7.645385489526294e-6,3.840762726075976e-9)\n"
     ]
    },
    {
     "name": "stderr",
     "output_type": "stream",
     "text": [
      "WARNING: replacing module NuclParameters.\n",
      "WARNING: replacing module LambdaParameters.\n",
      "WARNING: replacing module MyLib.\n"
     ]
    }
   ],
   "source": [
    "include(\"Main.jl\")\n",
    "AN=AtomNum(23,28,1)\n",
    "NParamType=\"SLy4\"\n",
    "LParamType=\"HPL2\"\n",
    "OutPutFiles(AN,NParamType=NParamType,LParamType=LParamType)"
   ]
  },
  {
   "cell_type": "code",
   "execution_count": 36,
   "id": "266b2565",
   "metadata": {},
   "outputs": [
    {
     "name": "stdout",
     "output_type": "stream",
     "text": [
      "diffρ=(0.06594013855795917,0.023692076289651476,1.4258036782312946e-6)\n",
      "1\n",
      "diffρ=(0.007883962668399884,0.011260920368345792,4.3885463682719223e-7)\n",
      "2\n",
      "diffρ=(0.0007556783365859359,0.0009613524757992853,1.0638679866651749e-7)\n",
      "3\n",
      "diffρ=(0.00011805572095855747,0.00016881954814431985,3.33782408859653e-8)\n",
      "4\n",
      "diffρ=(2.505807469306259e-5,3.0181403050380615e-5,1.002064921247227e-8)\n",
      "5\n",
      "diffρ=(5.43260006284246e-6,8.07790240854811e-6,3.841947861573784e-9)\n"
     ]
    },
    {
     "name": "stderr",
     "output_type": "stream",
     "text": [
      "WARNING: replacing module NuclParameters.\n",
      "WARNING: replacing module LambdaParameters.\n",
      "WARNING: replacing module MyLib.\n"
     ]
    }
   ],
   "source": [
    "include(\"Main.jl\")\n",
    "AN=AtomNum(39,50,1)\n",
    "NParamType=\"SLy4\"\n",
    "LParamType=\"HPL2\"\n",
    "OutPutFiles(AN,NParamType=NParamType,LParamType=LParamType)"
   ]
  },
  {
   "cell_type": "code",
   "execution_count": 37,
   "id": "3a01890b",
   "metadata": {},
   "outputs": [
    {
     "name": "stdout",
     "output_type": "stream",
     "text": [
      "diffρ=(0.15602213118586816,0.03397533220972048,1.6618609933129875e-6)\n",
      "1\n",
      "diffρ=(0.06267680924929689,0.011725261982180614,1.0142934506333237e-6)\n",
      "2\n",
      "diffρ=(0.0470091036460973,0.0026783501202091186,4.1384401783798586e-7)\n",
      "3\n",
      "diffρ=(0.04710559625941271,0.0016356591217040178,1.2411811475325436e-6)\n",
      "4\n",
      "diffρ=(0.046897162437405174,0.0015530154595040418,8.297902492941774e-7)\n",
      "5\n",
      "diffρ=(0.04671305769746005,0.001466993467679768,1.0577033109479357e-6)\n",
      "6\n",
      "diffρ=(0.04677475149932232,0.001481975348757376,9.322836468618551e-7)\n",
      "7\n",
      "diffρ=(0.04666176402242206,0.0014425862661837704,1.0028296016420705e-6)\n",
      "8\n",
      "diffρ=(0.046690824273279266,0.0014603580378566702,9.694046153448437e-7)\n",
      "9\n",
      "diffρ=(0.04664699849567347,0.001438538593480778,9.8519432377968e-7)\n",
      "10\n",
      "diffρ=(0.04665430083328303,0.0014503118129199587,9.814391052975715e-7)\n",
      "11\n",
      "diffρ=(0.04663844092055334,0.001438009049350807,9.812979779404412e-7)\n",
      "12\n",
      "diffρ=(0.04663850915454805,0.0014449329713748925,9.860367547539174e-7)\n",
      "13\n",
      "diffρ=(0.0466331761874304,0.0014381291744171869,9.816594980198283e-7)\n",
      "14\n",
      "diffρ=(0.046631595718148344,0.0014420189798173323,9.858947522375309e-7)\n",
      "15\n",
      "diffρ=(0.046629519319289374,0.00143827635743926,9.822120312565904e-7)\n",
      "16\n",
      "diffρ=(0.04662826761039193,0.0014404955736608968,9.859625344805464e-7)\n",
      "17\n",
      "diffρ=(0.04662803972030373,0.0014385246717713567,9.82869500912968e-7)\n",
      "18\n",
      "diffρ=(0.046627240252653385,0.0014396768959357884,9.843738345819212e-7)\n",
      "19\n",
      "diffρ=(0.04662738888012218,0.0014385389313223383,9.835696674791049e-7)\n",
      "20\n",
      "diffρ=(0.046626984460485646,0.0014392021031514352,9.85050968371212e-7)\n",
      "21\n",
      "diffρ=(0.04662678954520483,0.0014386365299642228,9.83420213003324e-7)\n",
      "22\n",
      "diffρ=(0.046626436992951506,0.0014389430252025152,9.844485631390999e-7)\n",
      "23\n",
      "diffρ=(0.046626344926405064,0.001438633847551138,9.844863643930059e-7)\n",
      "24\n",
      "diffρ=(0.046626260491938624,0.0014388047379242427,9.852430527765158e-7)\n",
      "25\n",
      "diffρ=(0.046626119292473726,0.001438638446106367,9.844847923421337e-7)\n",
      "26\n",
      "diffρ=(0.046625879154302885,0.0014387597043307567,9.844899936291346e-7)\n",
      "27\n",
      "diffρ=(0.046626038210044934,0.0014386783597891276,9.848830825334238e-7)\n",
      "28\n",
      "diffρ=(0.04662571963243976,0.0014387580851663838,9.851024194136383e-7)\n",
      "29\n",
      "diffρ=(0.04662553872098967,0.00143874578408632,9.841735285926295e-7)\n",
      "30\n",
      "diffρ=(0.0466258237389674,0.0014387397168941305,9.837874224601554e-7)\n",
      "31\n",
      "diffρ=(0.04662595209625723,0.0014386862990143467,9.84413494996775e-7)\n",
      "32\n",
      "diffρ=(0.04662573641499406,0.0014386812535089578,9.84756661692676e-7)\n",
      "33\n",
      "diffρ=(0.04662567675315807,0.0014386707006131536,9.845665863565591e-7)\n",
      "34\n",
      "diffρ=(0.04662563550722676,0.0014386856098192744,9.847058876977624e-7)\n",
      "35\n",
      "diffρ=(0.046625720018919084,0.0014386651961240532,9.845911412624894e-7)\n",
      "36\n",
      "diffρ=(0.04662561933429025,0.0014386340872562728,9.847169633331701e-7)\n",
      "37\n",
      "diffρ=(0.046625556983227026,0.0014386508899181874,9.847098843845247e-7)\n",
      "38\n",
      "diffρ=(0.0466256931600071,0.0014386872855192418,9.846023717484481e-7)\n",
      "39\n",
      "diffρ=(0.04662574935051619,0.0014386708511882108,9.846208301518032e-7)\n",
      "40\n",
      "diffρ=(0.04662563403498283,0.0014386666453619695,9.847204580765059e-7)\n",
      "41\n",
      "diffρ=(0.04662563659704119,0.0014386651775985728,9.845852098824098e-7)\n",
      "42\n",
      "diffρ=(0.04662568491826701,0.001438644197396,9.846328904731375e-7)\n",
      "43\n",
      "diffρ=(0.04662564159997106,0.0014386387109757049,9.847703152347205e-7)\n",
      "44\n",
      "diffρ=(0.046625582541096666,0.001438657858493472,9.847149598403473e-7)\n",
      "45\n",
      "diffρ=(0.04662562225542425,0.0014386626899216695,9.845806968780197e-7)\n",
      "46\n",
      "diffρ=(0.04662568004589465,0.0014386429886185789,9.846319592032594e-7)\n",
      "47\n",
      "diffρ=(0.04662563867935692,0.0014386383414698401,9.8476966365046e-7)\n",
      "48\n",
      "diffρ=(0.04662558204690281,0.0014386576269522597,9.84714578231492e-7)\n",
      "49\n",
      "diffρ=(0.04662562144580523,0.001438662674720118,9.845808272737442e-7)\n",
      "50\n"
     ]
    },
    {
     "name": "stderr",
     "output_type": "stream",
     "text": [
      "WARNING: replacing module NuclParameters.\n",
      "WARNING: replacing module LambdaParameters.\n",
      "WARNING: replacing module MyLib.\n"
     ]
    },
    {
     "ename": "LoadError",
     "evalue": "MethodError: no method matching iterate(::Nothing)\n\u001b[0mClosest candidates are:\n\u001b[0m  iterate(\u001b[91m::Union{LinRange, StepRangeLen}\u001b[39m) at C:\\Users\\jinno\\AppData\\Local\\Programs\\Julia-1.7.0\\share\\julia\\base\\range.jl:826\n\u001b[0m  iterate(\u001b[91m::Union{LinRange, StepRangeLen}\u001b[39m, \u001b[91m::Integer\u001b[39m) at C:\\Users\\jinno\\AppData\\Local\\Programs\\Julia-1.7.0\\share\\julia\\base\\range.jl:826\n\u001b[0m  iterate(\u001b[91m::T\u001b[39m) where T<:Union{Base.KeySet{<:Any, <:Dict}, Base.ValueIterator{<:Dict}} at C:\\Users\\jinno\\AppData\\Local\\Programs\\Julia-1.7.0\\share\\julia\\base\\dict.jl:695\n\u001b[0m  ...",
     "output_type": "error",
     "traceback": [
      "MethodError: no method matching iterate(::Nothing)\n\u001b[0mClosest candidates are:\n\u001b[0m  iterate(\u001b[91m::Union{LinRange, StepRangeLen}\u001b[39m) at C:\\Users\\jinno\\AppData\\Local\\Programs\\Julia-1.7.0\\share\\julia\\base\\range.jl:826\n\u001b[0m  iterate(\u001b[91m::Union{LinRange, StepRangeLen}\u001b[39m, \u001b[91m::Integer\u001b[39m) at C:\\Users\\jinno\\AppData\\Local\\Programs\\Julia-1.7.0\\share\\julia\\base\\range.jl:826\n\u001b[0m  iterate(\u001b[91m::T\u001b[39m) where T<:Union{Base.KeySet{<:Any, <:Dict}, Base.ValueIterator{<:Dict}} at C:\\Users\\jinno\\AppData\\Local\\Programs\\Julia-1.7.0\\share\\julia\\base\\dict.jl:695\n\u001b[0m  ...",
      "",
      "Stacktrace:",
      " [1] indexed_iterate(I::Nothing, i::Int64)",
      "   @ Base .\\tuple.jl:92",
      " [2] OutPutFiles(AN::AtomNum; NParamType::String, ΛParamType::String)",
      "   @ Main C:\\Users\\jinno\\OneDrive\\progmrams\\Guleria2012\\Main.jl:682",
      " [3] top-level scope",
      "   @ In[37]:5",
      " [4] eval",
      "   @ .\\boot.jl:373 [inlined]",
      " [5] include_string(mapexpr::typeof(REPL.softscope), mod::Module, code::String, filename::String)",
      "   @ Base .\\loading.jl:1196"
     ]
    }
   ],
   "source": [
    "include(\"Main.jl\")\n",
    "AN=AtomNum(57,82,1)\n",
    "NParamType=\"SLy4\"\n",
    "LParamType=\"HPL2\"\n",
    "OutPutFiles(AN,NParamType=NParamType,LParamType=LParamType)"
   ]
  },
  {
   "cell_type": "code",
   "execution_count": 38,
   "id": "d70b3af7",
   "metadata": {},
   "outputs": [
    {
     "name": "stdout",
     "output_type": "stream",
     "text": [
      "diffρ=(0.1483958726857312,0.0777422722896921,1.0992810822776514e-5)\n",
      "1\n",
      "diffρ=(0.023441884394436126,0.019985486244376162,2.311074913033703e-6)\n",
      "2\n",
      "diffρ=(0.0002064258868995644,0.0005187847498004621,8.330571598325987e-8)\n",
      "3\n",
      "diffρ=(2.8093655512502437e-5,4.8052780934248197e-5,1.9403792393692417e-8)\n",
      "4\n",
      "diffρ=(6.361678487880626e-6,1.3099163140999781e-5,3.892049862956015e-9)\n",
      "5\n",
      "diffρ=(2.3503081476368267e-6,4.282814332774523e-6,1.972495337164465e-9)\n"
     ]
    },
    {
     "name": "stderr",
     "output_type": "stream",
     "text": [
      "WARNING: replacing module NuclParameters.\n",
      "WARNING: replacing module LambdaParameters.\n",
      "WARNING: replacing module MyLib.\n"
     ]
    }
   ],
   "source": [
    "include(\"Main.jl\")\n",
    "AN=AtomNum(82,126,1)\n",
    "NParamType=\"SLy4\"\n",
    "LParamType=\"HPL2\"\n",
    "OutPutFiles(AN,NParamType=NParamType,LParamType=LParamType)"
   ]
  }
 ],
 "metadata": {
  "kernelspec": {
   "display_name": "Julia 1.7.3",
   "language": "julia",
   "name": "julia-1.7"
  },
  "language_info": {
   "file_extension": ".jl",
   "mimetype": "application/julia",
   "name": "julia",
   "version": "1.7.3"
  }
 },
 "nbformat": 4,
 "nbformat_minor": 5
}
