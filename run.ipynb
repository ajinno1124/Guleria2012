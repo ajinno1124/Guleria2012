{
 "cells": [
  {
   "cell_type": "code",
   "execution_count": 22,
   "id": "39b93546",
   "metadata": {},
   "outputs": [
    {
     "name": "stdout",
     "output_type": "stream",
     "text": [
      "diffρ=(0.17840316632055053,0.2894265230425035,0.0)\n",
      "1\n"
     ]
    },
    {
     "name": "stderr",
     "output_type": "stream",
     "text": [
      "WARNING: replacing module NuclParameters.\n",
      "WARNING: replacing module LambdaParameters.\n",
      "WARNING: replacing module MyLib.\n"
     ]
    },
    {
     "name": "stdout",
     "output_type": "stream",
     "text": [
      "diffρ=(0.09507956620125076,0.06727693545438654,0.0)\n",
      "2\n",
      "diffρ=(0.0014731980588825661,0.0022099339428196993,0.0)\n",
      "3\n",
      "diffρ=(0.00014851227369695893,5.189166352731333e-5,0.0)\n",
      "4\n",
      "diffρ=(1.0390357498313088e-5,3.280348700673355e-5,0.0)\n",
      "5\n",
      "diffρ=(6.633150104676978e-6,1.0909205831165358e-5,0.0)\n",
      "6\n",
      "diffρ=(1.6814204515199252e-6,3.872182349684664e-6,0.0)\n"
     ]
    }
   ],
   "source": [
    "include(\"Main.jl\")\n",
    "AN=AtomNum(82,126,0)\n",
    "NParamType=\"VB1\"\n",
    "ΛParamType=\"HPL2\"\n",
    "OutPutFiles(AN,NParamType=NParamType,ΛParamType=ΛParamType)"
   ]
  },
  {
   "cell_type": "code",
   "execution_count": 23,
   "id": "a2284815",
   "metadata": {},
   "outputs": [
    {
     "name": "stdout",
     "output_type": "stream",
     "text": [
      "diffρ=(0.015025254862074145,0.0013467865149936803,0.000351961584108308)\n",
      "1\n"
     ]
    },
    {
     "name": "stderr",
     "output_type": "stream",
     "text": [
      "WARNING: replacing module NuclParameters.\n",
      "WARNING: replacing module LambdaParameters.\n",
      "WARNING: replacing module MyLib.\n"
     ]
    },
    {
     "name": "stdout",
     "output_type": "stream",
     "text": [
      "diffρ=(0.0007566917797109994,0.0011045737934286726,5.111566153948818e-6)\n",
      "2\n",
      "diffρ=(1.2993836244325918e-5,2.169421834146026e-5,1.373996472288566e-6)\n",
      "3\n",
      "diffρ=(2.17865997065968e-6,2.1034937352518336e-6,3.481209102269695e-7)\n"
     ]
    }
   ],
   "source": [
    "include(\"Main.jl\")\n",
    "AN=AtomNum(2,6,1)\n",
    "NParamType=\"SLy4\"\n",
    "ΛParamType=\"HPL2\"\n",
    "OutPutFiles(AN,NParamType=NParamType,ΛParamType=ΛParamType)"
   ]
  },
  {
   "cell_type": "code",
   "execution_count": 24,
   "id": "1d633245",
   "metadata": {},
   "outputs": [
    {
     "name": "stdout",
     "output_type": "stream",
     "text": [
      "diffρ=(0.00578311755794023,0.00593613088175348,0.00014794979999089078)\n",
      "1\n"
     ]
    },
    {
     "name": "stderr",
     "output_type": "stream",
     "text": [
      "WARNING: replacing module NuclParameters.\n",
      "WARNING: replacing module LambdaParameters.\n",
      "WARNING: replacing module MyLib.\n"
     ]
    },
    {
     "name": "stdout",
     "output_type": "stream",
     "text": [
      "diffρ=(0.00033970226117713444,0.00033246903599622814,1.6160391303644846e-5)\n",
      "2\n",
      "diffρ=(2.348175665641184e-6,2.427401829069195e-6,3.068076553549742e-6)\n"
     ]
    }
   ],
   "source": [
    "include(\"Main.jl\")\n",
    "AN=AtomNum(4,4,1)\n",
    "NParamType=\"SLy4\"\n",
    "ΛParamType=\"HPL2\"\n",
    "OutPutFiles(AN,NParamType=NParamType,ΛParamType=ΛParamType)"
   ]
  },
  {
   "cell_type": "code",
   "execution_count": 25,
   "id": "a7ae930c",
   "metadata": {},
   "outputs": [
    {
     "name": "stdout",
     "output_type": "stream",
     "text": [
      "diffρ=(0.010992855285383801,0.00016192096681265768,0.0001523828319887863)\n",
      "1\n"
     ]
    },
    {
     "name": "stderr",
     "output_type": "stream",
     "text": [
      "WARNING: replacing module NuclParameters.\n",
      "WARNING: replacing module LambdaParameters.\n",
      "WARNING: replacing module MyLib.\n"
     ]
    },
    {
     "name": "stdout",
     "output_type": "stream",
     "text": [
      "diffρ=(0.0003575052749477747,0.00019832887393006184,9.993870723347284e-6)\n",
      "2\n",
      "diffρ=(1.2086630569529364e-5,8.675763792753375e-6,1.874259953912051e-6)\n",
      "3\n",
      "diffρ=(1.0366771887108377e-6,1.5015573286651046e-6,4.573068619313067e-7)\n"
     ]
    }
   ],
   "source": [
    "include(\"Main.jl\")\n",
    "AN=AtomNum(3,6,1)\n",
    "NParamType=\"SLy4\"\n",
    "ΛParamType=\"HPL2\"\n",
    "OutPutFiles(AN,NParamType=NParamType,ΛParamType=ΛParamType)"
   ]
  },
  {
   "cell_type": "code",
   "execution_count": 26,
   "id": "cba22bbd",
   "metadata": {},
   "outputs": [
    {
     "name": "stdout",
     "output_type": "stream",
     "text": [
      "diffρ=(0.00866874319074642,0.00223646986289905,7.93143586975618e-5)\n",
      "1\n"
     ]
    },
    {
     "name": "stderr",
     "output_type": "stream",
     "text": [
      "WARNING: replacing module NuclParameters.\n",
      "WARNING: replacing module LambdaParameters.\n",
      "WARNING: replacing module MyLib.\n"
     ]
    },
    {
     "name": "stdout",
     "output_type": "stream",
     "text": [
      "diffρ=(0.0002973191205340565,0.0002373550984234485,1.339634098707371e-5)\n",
      "2\n",
      "diffρ=(3.9736137429252223e-5,2.7879495375274e-5,1.9774905197108823e-6)\n",
      "3\n",
      "diffρ=(1.8804100696428781e-6,2.5782758402135717e-6,4.834878166900111e-7)\n"
     ]
    }
   ],
   "source": [
    "include(\"Main.jl\")\n",
    "AN=AtomNum(4,6,1)\n",
    "NParamType=\"SLy4\"\n",
    "ΛParamType=\"HPL2\"\n",
    "OutPutFiles(AN,NParamType=NParamType,ΛParamType=ΛParamType)"
   ]
  },
  {
   "cell_type": "code",
   "execution_count": 27,
   "id": "5620ec01",
   "metadata": {},
   "outputs": [
    {
     "name": "stdout",
     "output_type": "stream",
     "text": [
      "diffρ=(0.005877535613461753,0.005876168010536037,6.741857530621862e-5)\n",
      "1\n"
     ]
    },
    {
     "name": "stderr",
     "output_type": "stream",
     "text": [
      "WARNING: replacing module NuclParameters.\n",
      "WARNING: replacing module LambdaParameters.\n",
      "WARNING: replacing module MyLib.\n"
     ]
    },
    {
     "name": "stdout",
     "output_type": "stream",
     "text": [
      "diffρ=(0.00040079306813396324,0.0004074933761238145,1.59465745042493e-5)\n",
      "2\n",
      "diffρ=(4.6349042438270264e-5,4.624009252835538e-5,2.291635923566377e-6)\n",
      "3\n",
      "diffρ=(3.2807181738102543e-6,3.452688645291444e-6,5.674520934236727e-7)\n"
     ]
    }
   ],
   "source": [
    "include(\"Main.jl\")\n",
    "AN=AtomNum(5,5,1)\n",
    "NParamType=\"SLy4\"\n",
    "ΛParamType=\"HPL2\"\n",
    "OutPutFiles(AN,NParamType=NParamType,ΛParamType=ΛParamType)"
   ]
  },
  {
   "cell_type": "code",
   "execution_count": 28,
   "id": "ee156530",
   "metadata": {},
   "outputs": [
    {
     "name": "stdout",
     "output_type": "stream",
     "text": [
      "diffρ=(0.008139429140637984,0.005574401775036943,4.572647583092154e-5)\n",
      "1\n"
     ]
    },
    {
     "name": "stderr",
     "output_type": "stream",
     "text": [
      "WARNING: replacing module NuclParameters.\n",
      "WARNING: replacing module LambdaParameters.\n",
      "WARNING: replacing module MyLib.\n"
     ]
    },
    {
     "name": "stdout",
     "output_type": "stream",
     "text": [
      "diffρ=(0.001102240602941558,0.001256130972280766,1.6438482461662747e-5)\n",
      "2\n",
      "diffρ=(0.000154982959650866,0.00015453242840338853,1.9713928415193257e-6)\n",
      "3\n",
      "diffρ=(1.2538609177561853e-5,1.4230425018014109e-5,4.997553310640224e-7)\n",
      "4\n",
      "diffρ=(1.8316487961162893e-6,1.9762063704332098e-6,1.033525177860534e-7)\n"
     ]
    }
   ],
   "source": [
    "include(\"Main.jl\")\n",
    "AN=AtomNum(5,6,1)\n",
    "NParamType=\"SLy4\"\n",
    "ΛParamType=\"HPL2\"\n",
    "OutPutFiles(AN,NParamType=NParamType,ΛParamType=ΛParamType)"
   ]
  },
  {
   "cell_type": "code",
   "execution_count": 29,
   "id": "a591efbe",
   "metadata": {},
   "outputs": [
    {
     "name": "stdout",
     "output_type": "stream",
     "text": [
      "diffρ=(0.010703766608152846,0.004849819541187586,3.3748564396447454e-5)\n",
      "1\n"
     ]
    },
    {
     "name": "stderr",
     "output_type": "stream",
     "text": [
      "WARNING: replacing module NuclParameters.\n",
      "WARNING: replacing module LambdaParameters.\n",
      "WARNING: replacing module MyLib.\n"
     ]
    },
    {
     "name": "stdout",
     "output_type": "stream",
     "text": [
      "diffρ=(0.001146376683468672,0.001152250511754904,1.6143829503363405e-5)\n",
      "2\n",
      "diffρ=(0.00013828486274921727,0.00013860059014156017,1.8640954926669296e-6)\n",
      "3\n",
      "diffρ=(1.1330040896688625e-5,1.0712978624352734e-5,4.7432335819328946e-7)\n",
      "4\n",
      "diffρ=(1.2149871422569097e-6,1.6346359575148902e-6,1.031007034077218e-7)\n"
     ]
    }
   ],
   "source": [
    "include(\"Main.jl\")\n",
    "AN=AtomNum(5,7,1)\n",
    "NParamType=\"SLy4\"\n",
    "ΛParamType=\"HPL2\"\n",
    "OutPutFiles(AN,NParamType=NParamType,ΛParamType=ΛParamType)"
   ]
  },
  {
   "cell_type": "code",
   "execution_count": 30,
   "id": "e3500e4e",
   "metadata": {},
   "outputs": [
    {
     "name": "stdout",
     "output_type": "stream",
     "text": [
      "diffρ=(0.009242698557244636,0.00915785314310284,2.8130926275964845e-5)\n",
      "1\n"
     ]
    },
    {
     "name": "stderr",
     "output_type": "stream",
     "text": [
      "WARNING: replacing module NuclParameters.\n",
      "WARNING: replacing module LambdaParameters.\n",
      "WARNING: replacing module MyLib.\n"
     ]
    },
    {
     "name": "stdout",
     "output_type": "stream",
     "text": [
      "diffρ=(0.002944982198433163,0.0030560435762981802,1.940296459978232e-5)\n",
      "2\n",
      "diffρ=(0.00039400355054637767,0.0004023680567200034,2.1242700839013796e-6)\n",
      "3\n",
      "diffρ=(3.8189647030506115e-5,3.970498012208086e-5,5.279125275651992e-7)\n",
      "4\n",
      "diffρ=(5.944580838903938e-6,6.065443121495804e-6,8.718748572491819e-8)\n"
     ]
    }
   ],
   "source": [
    "include(\"Main.jl\")\n",
    "AN=AtomNum(6,6,1)\n",
    "NParamType=\"SLy4\"\n",
    "ΛParamType=\"HPL2\"\n",
    "OutPutFiles(AN,NParamType=NParamType,ΛParamType=ΛParamType)"
   ]
  },
  {
   "cell_type": "code",
   "execution_count": 31,
   "id": "accc9d69",
   "metadata": {},
   "outputs": [
    {
     "name": "stdout",
     "output_type": "stream",
     "text": [
      "diffρ=(0.012278248211054017,0.009072151221495245,1.8137936927209095e-5)\n",
      "1\n"
     ]
    },
    {
     "name": "stderr",
     "output_type": "stream",
     "text": [
      "WARNING: replacing module NuclParameters.\n",
      "WARNING: replacing module LambdaParameters.\n",
      "WARNING: replacing module MyLib.\n"
     ]
    },
    {
     "name": "stdout",
     "output_type": "stream",
     "text": [
      "diffρ=(0.0029983866628165313,0.002837045685565196,1.94746360279646e-5)\n",
      "2\n",
      "diffρ=(0.0003526415117153144,0.00036462594242288543,2.0149001725409772e-6)\n",
      "3\n",
      "diffρ=(3.5470274165124784e-5,3.178878589447692e-5,5.188557167210661e-7)\n",
      "4\n",
      "diffρ=(4.384727647534497e-6,4.964222967525166e-6,9.098391624145352e-8)\n"
     ]
    }
   ],
   "source": [
    "include(\"Main.jl\")\n",
    "AN=AtomNum(6,7,1)\n",
    "NParamType=\"SLy4\"\n",
    "ΛParamType=\"HPL2\"\n",
    "OutPutFiles(AN,NParamType=NParamType,ΛParamType=ΛParamType)"
   ]
  },
  {
   "cell_type": "code",
   "execution_count": 32,
   "id": "6539c202",
   "metadata": {},
   "outputs": [
    {
     "name": "stdout",
     "output_type": "stream",
     "text": [
      "diffρ=(0.018982552027380046,0.008297857109268756,5.916181708719978e-6)\n",
      "1\n"
     ]
    },
    {
     "name": "stderr",
     "output_type": "stream",
     "text": [
      "WARNING: replacing module NuclParameters.\n",
      "WARNING: replacing module LambdaParameters.\n",
      "WARNING: replacing module MyLib.\n"
     ]
    },
    {
     "name": "stdout",
     "output_type": "stream",
     "text": [
      "diffρ=(0.003277795150300619,0.0036298838475001317,1.613229063950618e-5)\n",
      "2\n",
      "diffρ=(0.0003409681528357416,0.00037929608289717507,1.486302477877767e-6)\n",
      "3\n",
      "diffρ=(3.0298206117588245e-5,3.106737275606181e-5,4.159781151831095e-7)\n",
      "4\n",
      "diffρ=(3.495127475511185e-6,3.8001475203034765e-6,7.352085906584356e-8)\n"
     ]
    }
   ],
   "source": [
    "include(\"Main.jl\")\n",
    "AN=AtomNum(7,9,1)\n",
    "NParamType=\"SLy4\"\n",
    "ΛParamType=\"HPL2\"\n",
    "OutPutFiles(AN,NParamType=NParamType,ΛParamType=ΛParamType)"
   ]
  },
  {
   "cell_type": "code",
   "execution_count": 33,
   "id": "39b55401",
   "metadata": {},
   "outputs": [
    {
     "name": "stdout",
     "output_type": "stream",
     "text": [
      "diffρ=(0.01638331213279511,0.015526260359963543,2.617381208985421e-6)\n",
      "1\n"
     ]
    },
    {
     "name": "stderr",
     "output_type": "stream",
     "text": [
      "WARNING: replacing module NuclParameters.\n",
      "WARNING: replacing module LambdaParameters.\n",
      "WARNING: replacing module MyLib.\n"
     ]
    },
    {
     "name": "stdout",
     "output_type": "stream",
     "text": [
      "diffρ=(0.003112209456441634,0.0031835684187184066,2.0274347078589125e-5)\n",
      "2\n",
      "diffρ=(0.0002703203464373203,0.0002777033405909414,1.5658749124317983e-6)\n",
      "3\n",
      "diffρ=(2.4329610492974265e-5,2.4795501575842677e-5,4.383069232201709e-7)\n",
      "4\n",
      "diffρ=(2.5533345021224668e-6,2.656631681248511e-6,7.620698752388392e-8)\n"
     ]
    }
   ],
   "source": [
    "include(\"Main.jl\")\n",
    "AN=AtomNum(8,8,1)\n",
    "NParamType=\"SLy4\"\n",
    "ΛParamType=\"HPL2\"\n",
    "OutPutFiles(AN,NParamType=NParamType,ΛParamType=ΛParamType)"
   ]
  },
  {
   "cell_type": "code",
   "execution_count": 34,
   "id": "dcde5b0f",
   "metadata": {},
   "outputs": [
    {
     "name": "stdout",
     "output_type": "stream",
     "text": [
      "diffρ=(0.08727286196960915,0.09049901166838564,2.2006074188284208e-5)\n",
      "1\n"
     ]
    },
    {
     "name": "stderr",
     "output_type": "stream",
     "text": [
      "WARNING: replacing module NuclParameters.\n",
      "WARNING: replacing module LambdaParameters.\n",
      "WARNING: replacing module MyLib.\n"
     ]
    },
    {
     "name": "stdout",
     "output_type": "stream",
     "text": [
      "diffρ=(0.08538493809712734,0.08947408751860805,5.822789184901433e-6)\n",
      "2\n",
      "diffρ=(0.008742877593244842,0.00925878127703948,4.574970654718284e-6)\n",
      "3\n",
      "diffρ=(0.0005205032396338103,0.0005281157329399246,1.0391188891528657e-6)\n",
      "4\n",
      "diffρ=(3.986879964098874e-5,4.0904834122168255e-5,3.066084658371418e-8)\n",
      "5\n",
      "diffρ=(6.975182136107332e-6,7.515243416203932e-6,2.5807279858153454e-9)\n"
     ]
    }
   ],
   "source": [
    "include(\"Main.jl\")\n",
    "AN=AtomNum(14,14,1)\n",
    "NParamType=\"SLy4\"\n",
    "ΛParamType=\"HPL2\"\n",
    "OutPutFiles(AN,NParamType=NParamType,ΛParamType=ΛParamType)"
   ]
  },
  {
   "cell_type": "code",
   "execution_count": null,
   "id": "f0216417",
   "metadata": {},
   "outputs": [],
   "source": [
    "include(\"Main.jl\")\n",
    "AN=AtomNum(16,16,1)\n",
    "NParamType=\"SLy4\"\n",
    "ΛParamType=\"HPL2\"\n",
    "OutPutFiles(AN,NParamType=NParamType,ΛParamType=ΛParamType)"
   ]
  },
  {
   "cell_type": "code",
   "execution_count": null,
   "id": "3d5887be",
   "metadata": {},
   "outputs": [],
   "source": [
    "include(\"Main.jl\")\n",
    "AN=AtomNum(20,20,1)\n",
    "NParamType=\"SLy4\"\n",
    "ΛParamType=\"HPL2\"\n",
    "OutPutFiles(AN,NParamType=NParamType,ΛParamType=ΛParamType)"
   ]
  },
  {
   "cell_type": "code",
   "execution_count": null,
   "id": "6770c729",
   "metadata": {},
   "outputs": [],
   "source": [
    "include(\"Main.jl\")\n",
    "AN=AtomNum(23,28,1)\n",
    "NParamType=\"SLy4\"\n",
    "ΛParamType=\"HPL2\"\n",
    "OutPutFiles(AN,NParamType=NParamType,ΛParamType=ΛParamType)"
   ]
  },
  {
   "cell_type": "code",
   "execution_count": null,
   "id": "266b2565",
   "metadata": {},
   "outputs": [],
   "source": [
    "include(\"Main.jl\")\n",
    "AN=AtomNum(39,50,1)\n",
    "NParamType=\"SLy4\"\n",
    "ΛParamType=\"HPL2\"\n",
    "OutPutFiles(AN,NParamType=NParamType,ΛParamType=ΛParamType)"
   ]
  },
  {
   "cell_type": "code",
   "execution_count": null,
   "id": "3a01890b",
   "metadata": {},
   "outputs": [],
   "source": [
    "include(\"Main.jl\")\n",
    "AN=AtomNum(57,82,1)\n",
    "NParamType=\"SLy4\"\n",
    "ΛParamType=\"HPL2\"\n",
    "OutPutFiles(AN,NParamType=NParamType,ΛParamType=ΛParamType)"
   ]
  },
  {
   "cell_type": "code",
   "execution_count": null,
   "id": "d70b3af7",
   "metadata": {},
   "outputs": [],
   "source": [
    "include(\"Main.jl\")\n",
    "AN=AtomNum(82,126,1)\n",
    "NParamType=\"SLy4\"\n",
    "ΛParamType=\"HPL2\"\n",
    "OutPutFiles(AN,NParamType=NParamType,ΛParamType=ΛParamType)"
   ]
  }
 ],
 "metadata": {
  "kernelspec": {
   "display_name": "Julia 1.7.3",
   "language": "julia",
   "name": "julia-1.7"
  },
  "language_info": {
   "file_extension": ".jl",
   "mimetype": "application/julia",
   "name": "julia",
   "version": "1.7.3"
  }
 },
 "nbformat": 4,
 "nbformat_minor": 5
}
