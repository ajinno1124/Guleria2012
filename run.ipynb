{
 "cells": [
  {
   "cell_type": "code",
   "execution_count": 1,
   "id": "39b93546",
   "metadata": {},
   "outputs": [
    {
     "name": "stdout",
     "output_type": "stream",
     "text": [
      "diffρ=(0.23293032414171977,0.20101924310163916,0.0)\n",
      "1\n",
      "diffρ=(0.08706199639565226,0.05091816949660185,0.0)\n",
      "2\n",
      "diffρ=(0.0006493500182019397,0.0011337914191996163,0.0)\n",
      "3\n",
      "diffρ=(6.645018764264066e-5,5.301872465455515e-5,0.0)\n",
      "4\n",
      "diffρ=(8.05467790064723e-6,2.08777210444075e-5,0.0)\n",
      "5\n",
      "diffρ=(3.829138652256736e-6,7.729873338704931e-6,0.0)\n"
     ]
    }
   ],
   "source": [
    "include(\"Main.jl\")\n",
    "AN=AtomNum(82,126,0)\n",
    "NParamType=\"VB1\"\n",
    "ΛParamType=\"HPL2\"\n",
    "OutPutFiles(AN,NParamType=NParamType,ΛParamType=ΛParamType)"
   ]
  },
  {
   "cell_type": "code",
   "execution_count": 2,
   "id": "1d633245",
   "metadata": {},
   "outputs": [
    {
     "name": "stdout",
     "output_type": "stream",
     "text": [
      "diffρ=(0.0034074116473031407,0.003508345841946822,0.00014789888359414548)\n",
      "1\n"
     ]
    },
    {
     "name": "stderr",
     "output_type": "stream",
     "text": [
      "WARNING: replacing module NuclParameters.\n",
      "WARNING: replacing module LambdaParameters.\n",
      "WARNING: replacing module MyLib.\n"
     ]
    },
    {
     "name": "stdout",
     "output_type": "stream",
     "text": [
      "diffρ=(0.0003176498671033276,0.00031407259273648336,5.205824188595451e-6)\n",
      "2\n",
      "diffρ=(3.362290131420317e-6,3.5005881772188943e-6,1.0681068874462653e-6)\n"
     ]
    }
   ],
   "source": [
    "include(\"Main.jl\")\n",
    "AN=AtomNum(4,4,1)\n",
    "NParamType=\"SLy4\"\n",
    "ΛParamType=\"HPL2\"\n",
    "OutPutFiles(AN,NParamType=NParamType,ΛParamType=ΛParamType)"
   ]
  },
  {
   "cell_type": "code",
   "execution_count": 3,
   "id": "a7ae930c",
   "metadata": {},
   "outputs": [
    {
     "name": "stdout",
     "output_type": "stream",
     "text": [
      "diffρ=(0.00865197179708907,0.001259162682770618,0.00015135833458395864)\n",
      "1\n"
     ]
    },
    {
     "name": "stderr",
     "output_type": "stream",
     "text": [
      "WARNING: replacing module NuclParameters.\n",
      "WARNING: replacing module LambdaParameters.\n",
      "WARNING: replacing module MyLib.\n"
     ]
    },
    {
     "name": "stdout",
     "output_type": "stream",
     "text": [
      "diffρ=(0.0004313959549657216,0.00030554138234810196,1.6567075789054584e-6)\n",
      "2\n",
      "diffρ=(1.169312046598514e-5,1.1953842828444742e-5,2.4264923748746037e-7)\n",
      "3\n",
      "diffρ=(1.740668089900152e-6,1.4704314466482956e-6,3.7100496177843415e-8)\n"
     ]
    }
   ],
   "source": [
    "include(\"Main.jl\")\n",
    "AN=AtomNum(3,6,1)\n",
    "NParamType=\"SLy4\"\n",
    "ΛParamType=\"HPL2\"\n",
    "OutPutFiles(AN,NParamType=NParamType,ΛParamType=ΛParamType)"
   ]
  },
  {
   "cell_type": "code",
   "execution_count": 4,
   "id": "cba22bbd",
   "metadata": {},
   "outputs": [
    {
     "name": "stdout",
     "output_type": "stream",
     "text": [
      "diffρ=(0.004765818045067589,0.0004005314619421932,7.8357320211291e-5)\n",
      "1\n"
     ]
    },
    {
     "name": "stderr",
     "output_type": "stream",
     "text": [
      "WARNING: replacing module NuclParameters.\n",
      "WARNING: replacing module LambdaParameters.\n",
      "WARNING: replacing module MyLib.\n"
     ]
    },
    {
     "name": "stdout",
     "output_type": "stream",
     "text": [
      "diffρ=(0.00019397355744256252,0.00014477302990347632,2.8948183123023147e-6)\n",
      "2\n",
      "diffρ=(3.073138542956886e-5,2.5742849998697606e-5,2.6203587817294873e-7)\n",
      "3\n",
      "diffρ=(2.5185403778817998e-6,2.830579493707056e-6,6.599279322105608e-8)\n"
     ]
    }
   ],
   "source": [
    "include(\"Main.jl\")\n",
    "AN=AtomNum(4,6,1)\n",
    "NParamType=\"SLy4\"\n",
    "ΛParamType=\"HPL2\"\n",
    "OutPutFiles(AN,NParamType=NParamType,ΛParamType=ΛParamType)"
   ]
  },
  {
   "cell_type": "code",
   "execution_count": 5,
   "id": "5620ec01",
   "metadata": {},
   "outputs": [
    {
     "name": "stdout",
     "output_type": "stream",
     "text": [
      "diffρ=(0.001823252513940583,0.001838764989158955,6.668241690119453e-5)\n",
      "1\n"
     ]
    },
    {
     "name": "stderr",
     "output_type": "stream",
     "text": [
      "WARNING: replacing module NuclParameters.\n",
      "WARNING: replacing module LambdaParameters.\n",
      "WARNING: replacing module MyLib.\n"
     ]
    },
    {
     "name": "stdout",
     "output_type": "stream",
     "text": [
      "diffρ=(0.00026811623910047704,0.00027684113740177865,4.227862570610215e-6)\n",
      "2\n",
      "diffρ=(4.3617554387905374e-5,4.420482766865154e-5,4.384755282990443e-7)\n",
      "3\n",
      "diffρ=(4.934451815294077e-6,5.129446392723301e-6,1.243887171599515e-7)\n"
     ]
    }
   ],
   "source": [
    "include(\"Main.jl\")\n",
    "AN=AtomNum(5,5,1)\n",
    "NParamType=\"SLy4\"\n",
    "ΛParamType=\"HPL2\"\n",
    "OutPutFiles(AN,NParamType=NParamType,ΛParamType=ΛParamType)"
   ]
  },
  {
   "cell_type": "code",
   "execution_count": 6,
   "id": "ee156530",
   "metadata": {},
   "outputs": [
    {
     "name": "stdout",
     "output_type": "stream",
     "text": [
      "diffρ=(0.003077719727665738,0.001497596793324748,4.4893715171137445e-5)\n",
      "1\n"
     ]
    },
    {
     "name": "stderr",
     "output_type": "stream",
     "text": [
      "WARNING: replacing module NuclParameters.\n",
      "WARNING: replacing module LambdaParameters.\n",
      "WARNING: replacing module MyLib.\n"
     ]
    },
    {
     "name": "stdout",
     "output_type": "stream",
     "text": [
      "diffρ=(0.0009386364514186919,0.001058939806098513,4.977304751849371e-6)\n",
      "2\n",
      "diffρ=(0.0001710234027385929,0.00017944405916495962,5.340294610294863e-7)\n",
      "3\n",
      "diffρ=(2.3207874607411962e-5,2.4888104873728835e-5,1.2526554882915524e-7)\n",
      "4\n",
      "diffρ=(4.242819580027656e-6,4.5406262959292565e-6,1.9232046551173346e-8)\n"
     ]
    }
   ],
   "source": [
    "include(\"Main.jl\")\n",
    "AN=AtomNum(5,6,1)\n",
    "NParamType=\"SLy4\"\n",
    "ΛParamType=\"HPL2\"\n",
    "OutPutFiles(AN,NParamType=NParamType,ΛParamType=ΛParamType)"
   ]
  },
  {
   "cell_type": "code",
   "execution_count": 7,
   "id": "a591efbe",
   "metadata": {},
   "outputs": [
    {
     "name": "stdout",
     "output_type": "stream",
     "text": [
      "diffρ=(0.005707398570288188,0.0018171082392000632,3.28121870997662e-5)\n",
      "1\n"
     ]
    },
    {
     "name": "stderr",
     "output_type": "stream",
     "text": [
      "WARNING: replacing module NuclParameters.\n",
      "WARNING: replacing module LambdaParameters.\n",
      "WARNING: replacing module MyLib.\n"
     ]
    },
    {
     "name": "stdout",
     "output_type": "stream",
     "text": [
      "diffρ=(0.0009941167125216857,0.0010296131108635163,6.93842924729718e-6)\n",
      "2\n",
      "diffρ=(0.00015584959849723612,0.0001581508403784578,5.970091623573458e-7)\n",
      "3\n",
      "diffρ=(1.8134902388885298e-5,1.7419997145408507e-5,1.3252927655265917e-7)\n",
      "4\n",
      "diffρ=(2.6737169347109547e-6,2.9480639721967056e-6,2.0116755502769107e-8)\n"
     ]
    }
   ],
   "source": [
    "include(\"Main.jl\")\n",
    "AN=AtomNum(5,7,1)\n",
    "NParamType=\"SLy4\"\n",
    "ΛParamType=\"HPL2\"\n",
    "OutPutFiles(AN,NParamType=NParamType,ΛParamType=ΛParamType)"
   ]
  },
  {
   "cell_type": "code",
   "execution_count": 8,
   "id": "e3500e4e",
   "metadata": {},
   "outputs": [
    {
     "name": "stdout",
     "output_type": "stream",
     "text": [
      "diffρ=(0.003426122968303438,0.003528725562574733,2.7355732255893892e-5)\n",
      "1\n"
     ]
    },
    {
     "name": "stderr",
     "output_type": "stream",
     "text": [
      "WARNING: replacing module NuclParameters.\n",
      "WARNING: replacing module LambdaParameters.\n",
      "WARNING: replacing module MyLib.\n"
     ]
    },
    {
     "name": "stdout",
     "output_type": "stream",
     "text": [
      "diffρ=(0.0027442366219931416,0.002833916725172672,7.758836716311728e-6)\n",
      "2\n",
      "diffρ=(0.0004916925827033354,0.0005064433897167991,1.3533844891561804e-6)\n",
      "3\n",
      "diffρ=(7.847709767276793e-5,8.103947428006874e-5,2.396418301018763e-7)\n",
      "4\n",
      "diffρ=(1.6402764826001898e-5,1.6937589984632574e-5,5.034519099581034e-8)\n",
      "5\n",
      "diffρ=(3.2186989215356463e-6,3.324141949804526e-6,1.0254067770815227e-8)\n"
     ]
    }
   ],
   "source": [
    "include(\"Main.jl\")\n",
    "AN=AtomNum(6,6,1)\n",
    "NParamType=\"SLy4\"\n",
    "ΛParamType=\"HPL2\"\n",
    "OutPutFiles(AN,NParamType=NParamType,ΛParamType=ΛParamType)"
   ]
  },
  {
   "cell_type": "code",
   "execution_count": 9,
   "id": "accc9d69",
   "metadata": {},
   "outputs": [
    {
     "name": "stdout",
     "output_type": "stream",
     "text": [
      "diffρ=(0.00603149554203595,0.004383763364808149,1.7430750607397405e-5)\n",
      "1\n"
     ]
    },
    {
     "name": "stderr",
     "output_type": "stream",
     "text": [
      "WARNING: replacing module NuclParameters.\n",
      "WARNING: replacing module LambdaParameters.\n",
      "WARNING: replacing module MyLib.\n"
     ]
    },
    {
     "name": "stdout",
     "output_type": "stream",
     "text": [
      "diffρ=(0.0028060536998520376,0.00267160642604881,9.920877928973985e-6)\n",
      "2\n",
      "diffρ=(0.00043294113263121753,0.0004456477956776695,1.141418904755145e-6)\n",
      "3\n",
      "diffρ=(6.203568822761034e-5,5.747803565315284e-5,2.0685856534924267e-7)\n",
      "4\n",
      "diffρ=(1.0563800137453564e-5,1.1033243645431986e-5,3.3570306757430454e-8)\n",
      "5\n",
      "diffρ=(1.9502532702358435e-6,1.7494203643012002e-6,7.181055039020889e-9)\n"
     ]
    }
   ],
   "source": [
    "include(\"Main.jl\")\n",
    "AN=AtomNum(6,7,1)\n",
    "NParamType=\"SLy4\"\n",
    "ΛParamType=\"HPL2\"\n",
    "OutPutFiles(AN,NParamType=NParamType,ΛParamType=ΛParamType)"
   ]
  },
  {
   "cell_type": "code",
   "execution_count": 10,
   "id": "6539c202",
   "metadata": {},
   "outputs": [
    {
     "name": "stdout",
     "output_type": "stream",
     "text": [
      "diffρ=(0.015336542299148919,0.0066993200817024486,5.381655016447805e-6)\n",
      "1\n"
     ]
    },
    {
     "name": "stderr",
     "output_type": "stream",
     "text": [
      "WARNING: replacing module NuclParameters.\n",
      "WARNING: replacing module LambdaParameters.\n",
      "WARNING: replacing module MyLib.\n"
     ]
    },
    {
     "name": "stdout",
     "output_type": "stream",
     "text": [
      "diffρ=(0.0030228212743169747,0.0033080353771016797,1.3387254211698994e-5)\n",
      "2\n",
      "diffρ=(0.00036047334621354534,0.00036151888063390273,1.066517796265088e-6)\n",
      "3\n",
      "diffρ=(3.347862539440688e-5,3.498992916604045e-5,1.7256438261852394e-7)\n",
      "4\n",
      "diffρ=(4.502431595925602e-6,4.338142163741093e-6,2.5691846854834647e-8)\n"
     ]
    }
   ],
   "source": [
    "include(\"Main.jl\")\n",
    "AN=AtomNum(7,9,1)\n",
    "NParamType=\"SLy4\"\n",
    "ΛParamType=\"HPL2\"\n",
    "OutPutFiles(AN,NParamType=NParamType,ΛParamType=ΛParamType)"
   ]
  },
  {
   "cell_type": "code",
   "execution_count": 11,
   "id": "39b55401",
   "metadata": {},
   "outputs": [
    {
     "name": "stdout",
     "output_type": "stream",
     "text": [
      "diffρ=(0.01747246923983046,0.016572075307291073,2.4104817396878975e-6)\n",
      "1\n"
     ]
    },
    {
     "name": "stderr",
     "output_type": "stream",
     "text": [
      "WARNING: replacing module NuclParameters.\n",
      "WARNING: replacing module LambdaParameters.\n",
      "WARNING: replacing module MyLib.\n"
     ]
    },
    {
     "name": "stdout",
     "output_type": "stream",
     "text": [
      "diffρ=(0.0032549535942476603,0.0032965563540015125,2.1208566830018836e-5)\n",
      "2\n",
      "diffρ=(0.00026639629997571643,0.0002696819251714462,1.3942425255600731e-6)\n",
      "3\n",
      "diffρ=(2.2945060980791568e-5,2.3510618885653022e-5,2.2046532110362896e-7)\n",
      "4\n",
      "diffρ=(2.51875664351434e-6,2.5915005794021574e-6,3.640873141963057e-8)\n"
     ]
    }
   ],
   "source": [
    "include(\"Main.jl\")\n",
    "AN=AtomNum(8,8,1)\n",
    "NParamType=\"SLy4\"\n",
    "ΛParamType=\"HPL2\"\n",
    "OutPutFiles(AN,NParamType=NParamType,ΛParamType=ΛParamType)"
   ]
  },
  {
   "cell_type": "code",
   "execution_count": 12,
   "id": "dcde5b0f",
   "metadata": {},
   "outputs": [
    {
     "name": "stdout",
     "output_type": "stream",
     "text": [
      "diffρ=(0.017878967679870246,0.018327720362045025,1.925131296330415e-5)\n",
      "1\n"
     ]
    },
    {
     "name": "stderr",
     "output_type": "stream",
     "text": [
      "WARNING: replacing module NuclParameters.\n",
      "WARNING: replacing module LambdaParameters.\n",
      "WARNING: replacing module MyLib.\n"
     ]
    },
    {
     "name": "stdout",
     "output_type": "stream",
     "text": [
      "diffρ=(0.009641102732840788,0.010239993885316866,3.146570972685763e-6)\n",
      "2\n",
      "diffρ=(0.0007594454332401544,0.0007896622133420206,2.1278883776859445e-7)\n",
      "3\n",
      "diffρ=(6.0427419315855525e-5,6.176357913389078e-5,7.966778715855464e-9)\n",
      "4\n",
      "diffρ=(6.620065934788283e-6,6.863137750310269e-6,2.5634966496830544e-9)\n"
     ]
    }
   ],
   "source": [
    "include(\"Main.jl\")\n",
    "AN=AtomNum(14,14,1)\n",
    "NParamType=\"SLy4\"\n",
    "ΛParamType=\"HPL2\"\n",
    "OutPutFiles(AN,NParamType=NParamType,ΛParamType=ΛParamType)"
   ]
  },
  {
   "cell_type": "code",
   "execution_count": 13,
   "id": "f0216417",
   "metadata": {},
   "outputs": [
    {
     "name": "stdout",
     "output_type": "stream",
     "text": [
      "diffρ=(0.008907976468874295,0.007790905318701875,2.6712627039679046e-6)\n",
      "1\n"
     ]
    },
    {
     "name": "stderr",
     "output_type": "stream",
     "text": [
      "WARNING: replacing module NuclParameters.\n",
      "WARNING: replacing module LambdaParameters.\n",
      "WARNING: replacing module MyLib.\n"
     ]
    },
    {
     "name": "stdout",
     "output_type": "stream",
     "text": [
      "diffρ=(0.007111707253015895,0.0078221379106764,7.545938266866434e-6)\n",
      "2\n",
      "diffρ=(0.0023051222089928805,0.0024163209416745144,2.3717524435208184e-6)\n",
      "3\n",
      "diffρ=(0.0008092116343823514,0.0008645697746981116,8.011761468165372e-7)\n",
      "4\n",
      "diffρ=(0.000290908121004388,0.0003039152659177765,2.8066004021859693e-7)\n",
      "5\n",
      "diffρ=(0.0001059805437788969,0.00011409535239878753,1.1196227011624817e-7)\n",
      "6\n",
      "diffρ=(3.938488048264054e-5,4.1100136195891265e-5,3.919496568441407e-8)\n",
      "7\n",
      "diffρ=(1.440890470348662e-5,1.5657350884159364e-5,1.588869649950699e-8)\n",
      "8\n",
      "diffρ=(5.4331377055283355e-6,5.643908193050011e-6,5.656594498400149e-9)\n"
     ]
    }
   ],
   "source": [
    "include(\"Main.jl\")\n",
    "AN=AtomNum(16,16,1)\n",
    "NParamType=\"SLy4\"\n",
    "ΛParamType=\"HPL2\"\n",
    "OutPutFiles(AN,NParamType=NParamType,ΛParamType=ΛParamType)"
   ]
  },
  {
   "cell_type": "code",
   "execution_count": 14,
   "id": "3d5887be",
   "metadata": {},
   "outputs": [
    {
     "name": "stdout",
     "output_type": "stream",
     "text": [
      "diffρ=(0.025278413277706486,0.01759881477727043,3.272222628288493e-6)\n",
      "1\n"
     ]
    },
    {
     "name": "stderr",
     "output_type": "stream",
     "text": [
      "WARNING: replacing module NuclParameters.\n",
      "WARNING: replacing module LambdaParameters.\n",
      "WARNING: replacing module MyLib.\n"
     ]
    },
    {
     "name": "stdout",
     "output_type": "stream",
     "text": [
      "diffρ=(0.003536998048456467,0.0036206096886795326,3.6070607297557193e-6)\n",
      "2\n",
      "diffρ=(0.0006210240600064018,0.0006508187357080657,9.541093916188535e-7)\n",
      "3\n",
      "diffρ=(0.00014578700128591002,0.00015944299288128225,1.2700753225733959e-7)\n",
      "4\n",
      "diffρ=(3.461289682530243e-5,3.600706915275663e-5,4.3008710902826735e-8)\n",
      "5\n",
      "diffρ=(8.498862461915606e-6,9.412169855671719e-6,8.197337892326307e-9)\n"
     ]
    }
   ],
   "source": [
    "include(\"Main.jl\")\n",
    "AN=AtomNum(20,20,1)\n",
    "NParamType=\"SLy4\"\n",
    "ΛParamType=\"HPL2\"\n",
    "OutPutFiles(AN,NParamType=NParamType,ΛParamType=ΛParamType)"
   ]
  },
  {
   "cell_type": "code",
   "execution_count": 15,
   "id": "6770c729",
   "metadata": {},
   "outputs": [
    {
     "name": "stdout",
     "output_type": "stream",
     "text": [
      "diffρ=(0.03023504677559351,0.021178147122039026,1.6809520794947289e-6)\n",
      "1\n"
     ]
    },
    {
     "name": "stderr",
     "output_type": "stream",
     "text": [
      "WARNING: replacing module NuclParameters.\n",
      "WARNING: replacing module LambdaParameters.\n",
      "WARNING: replacing module MyLib.\n"
     ]
    },
    {
     "name": "stdout",
     "output_type": "stream",
     "text": [
      "diffρ=(0.007517083704652554,0.012021030624985008,1.5321990126976177e-6)\n",
      "2\n",
      "diffρ=(0.0012981061867554382,0.0014496447336779668,3.565526452984054e-7)\n",
      "3\n",
      "diffρ=(0.0002167585385964604,0.0002729053769092845,5.3481784288293175e-8)\n",
      "4\n",
      "diffρ=(4.248568650140989e-5,4.4391774900179345e-5,1.6496748945415716e-8)\n",
      "5\n",
      "diffρ=(6.814460337051568e-6,9.39010117035118e-6,3.4013683677581087e-9)\n"
     ]
    }
   ],
   "source": [
    "include(\"Main.jl\")\n",
    "AN=AtomNum(23,28,1)\n",
    "NParamType=\"SLy4\"\n",
    "ΛParamType=\"HPL2\"\n",
    "OutPutFiles(AN,NParamType=NParamType,ΛParamType=ΛParamType)"
   ]
  },
  {
   "cell_type": "code",
   "execution_count": 16,
   "id": "266b2565",
   "metadata": {},
   "outputs": [
    {
     "name": "stdout",
     "output_type": "stream",
     "text": [
      "diffρ=(0.06576219029857902,0.0243462531634892,2.8060106776514827e-6)\n",
      "1\n"
     ]
    },
    {
     "name": "stderr",
     "output_type": "stream",
     "text": [
      "WARNING: replacing module NuclParameters.\n",
      "WARNING: replacing module LambdaParameters.\n",
      "WARNING: replacing module MyLib.\n"
     ]
    },
    {
     "name": "stdout",
     "output_type": "stream",
     "text": [
      "diffρ=(0.008216250242567388,0.011428482772379385,4.772685507172773e-7)\n",
      "2\n",
      "diffρ=(0.0008168202221660239,0.0010338894705581867,1.1171613967280977e-7)\n",
      "3\n",
      "diffρ=(0.0001296696588079971,0.0001840760697084404,3.0867749553412515e-8)\n",
      "4\n",
      "diffρ=(2.834874469030799e-5,3.342504449438373e-5,8.182619383244668e-9)\n",
      "5\n",
      "diffρ=(5.78459203450574e-6,8.571405871400799e-6,2.772256971254105e-9)\n"
     ]
    }
   ],
   "source": [
    "include(\"Main.jl\")\n",
    "AN=AtomNum(39,50,1)\n",
    "NParamType=\"SLy4\"\n",
    "ΛParamType=\"HPL2\"\n",
    "OutPutFiles(AN,NParamType=NParamType,ΛParamType=ΛParamType)"
   ]
  },
  {
   "cell_type": "code",
   "execution_count": 17,
   "id": "3a01890b",
   "metadata": {},
   "outputs": [
    {
     "name": "stdout",
     "output_type": "stream",
     "text": [
      "diffρ=(0.15308371646784527,0.03524895271814368,3.952330401526534e-7)\n",
      "1\n"
     ]
    },
    {
     "name": "stderr",
     "output_type": "stream",
     "text": [
      "WARNING: replacing module NuclParameters.\n",
      "WARNING: replacing module LambdaParameters.\n",
      "WARNING: replacing module MyLib.\n"
     ]
    },
    {
     "name": "stdout",
     "output_type": "stream",
     "text": [
      "diffρ=(0.06369150600395894,0.01162313465735682,1.1146786350476028e-6)\n",
      "2\n",
      "diffρ=(0.04857203652623288,0.0028131607099742308,3.725814481719621e-7)\n",
      "3\n",
      "diffρ=(0.04846157336438697,0.0017796096696937238,1.3099317066881554e-6)\n",
      "4\n",
      "diffρ=(0.04824897283706265,0.0016571775419290783,7.99509322864594e-7)\n",
      "5\n",
      "diffρ=(0.04803859990960699,0.0015829151053840054,1.092395769447071e-6)\n",
      "6\n",
      "diffρ=(0.04810693399806673,0.001580287340764956,9.206061092850815e-7)\n",
      "7\n",
      "diffρ=(0.047986384050797866,0.0015499226448923717,1.0223285027153077e-6)\n",
      "8\n",
      "diffρ=(0.04802133813376882,0.0015596248880885655,9.651568843145643e-7)\n",
      "9\n",
      "diffρ=(0.0479757928854648,0.0015434005394884872,9.963355924213678e-7)\n",
      "10\n",
      "diffρ=(0.04798640668594322,0.001551077937044093,9.81279107585484e-7)\n",
      "11\n",
      "diffρ=(0.047969830890204776,0.0015421596273899813,9.88871559716858e-7)\n",
      "12\n",
      "diffρ=(0.04797189257777454,0.0015469283096081463,9.869678322105828e-7)\n",
      "13\n",
      "diffρ=(0.04796672440965507,0.0015419470767101967,9.875714339524472e-7)\n",
      "14\n",
      "diffρ=(0.04796611720442006,0.0015446642224280348,9.892567053042612e-7)\n",
      "15\n",
      "diffρ=(0.04796409845051672,0.0015419081811877916,9.878143385725045e-7)\n",
      "16\n",
      "diffρ=(0.04796330125183599,0.0015434123073035178,9.88539341236856e-7)\n",
      "17\n",
      "diffρ=(0.04796210918540712,0.0015420161387303718,9.869017107886784e-7)\n",
      "18\n",
      "diffρ=(0.04796166907183258,0.0015428507492858227,9.879320609985156e-7)\n",
      "19\n",
      "diffρ=(0.04796201638876779,0.00154208949349746,9.871185394560208e-7)\n",
      "20\n",
      "diffρ=(0.04796203562683375,0.0015424979125246434,9.880107875742476e-7)\n",
      "21\n",
      "diffρ=(0.04796191146876659,0.0015421174463818232,9.880233829487455e-7)\n",
      "22\n",
      "diffρ=(0.04796124544839266,0.0015423154070277531,9.88491782168219e-7)\n",
      "23\n",
      "diffρ=(0.047961089316714556,0.0015420315902157009,9.879188016932522e-7)\n",
      "24\n",
      "diffρ=(0.047961244889591914,0.0015422374080978718,9.887782820870339e-7)\n",
      "25\n",
      "diffρ=(0.04796128539950359,0.0015421590657661757,9.887790179955898e-7)\n",
      "26\n",
      "diffρ=(0.04796102906831726,0.0015421412110070852,9.88181411862015e-7)\n",
      "27\n",
      "diffρ=(0.04796129871196033,0.0015420588904992186,9.873296711298646e-7)\n",
      "28\n",
      "diffρ=(0.04796121033108551,0.0015420851488236289,9.878920289795322e-7)\n",
      "29\n",
      "diffρ=(0.047961091139339156,0.0015420641576573745,9.884512849780847e-7)\n",
      "30\n",
      "diffρ=(0.04796108152668679,0.0015420932146204133,9.888216192945707e-7)\n",
      "31\n",
      "diffρ=(0.047960839409031834,0.0015420515734299854,9.88432852415002e-7)\n",
      "32\n",
      "diffρ=(0.047960634817675735,0.0015420623655656592,9.875955571923169e-7)\n",
      "33\n",
      "diffρ=(0.047960682262750444,0.001542055033946684,9.874377252279455e-7)\n",
      "34\n",
      "diffρ=(0.047960975742867666,0.0015421057939269626,9.876970676871584e-7)\n",
      "35\n",
      "diffρ=(0.04796122261079757,0.0015421940169800788,9.88461889447027e-7)\n",
      "36\n",
      "diffρ=(0.04796147333568863,0.0015422308854313805,9.88460057167004e-7)\n",
      "37\n",
      "diffρ=(0.04796176519747283,0.0015421852050816383,9.87516336593755e-7)\n",
      "38\n",
      "diffρ=(0.04796151733309642,0.001542148095411202,9.877645542551554e-7)\n",
      "39\n",
      "diffρ=(0.04796121288765542,0.00154217057458927,9.886570464789037e-7)\n",
      "40\n",
      "diffρ=(0.04796127361848935,0.0015421492787077277,9.883944769483449e-7)\n",
      "41\n",
      "diffρ=(0.047961183345487955,0.00154210351882224,9.877101087470809e-7)\n",
      "42\n",
      "diffρ=(0.04796066771940795,0.0015421012539036678,9.877723773934707e-7)\n",
      "43\n",
      "diffρ=(0.047960718389469637,0.0015420999801420184,9.885222421486026e-7)\n",
      "44\n",
      "diffρ=(0.04796130720622412,0.0015420827202675526,9.885352535058007e-7)\n",
      "45\n",
      "diffρ=(0.04796127050321573,0.0015420922930218333,9.878242389021476e-7)\n",
      "46\n",
      "diffρ=(0.04796084632589058,0.0015421392130144376,9.87723998274541e-7)\n",
      "47\n",
      "diffρ=(0.04796099540765842,0.0015421564567664329,9.88388124554541e-7)\n",
      "48\n",
      "diffρ=(0.04796104989348357,0.0015421659884175421,9.884768868518567e-7)\n",
      "49\n",
      "diffρ=(0.04796107922853714,0.0015421396526192023,9.885013365325257e-7)\n",
      "50\n"
     ]
    },
    {
     "ename": "LoadError",
     "evalue": "MethodError: no method matching iterate(::Nothing)\n\u001b[0mClosest candidates are:\n\u001b[0m  iterate(\u001b[91m::Union{LinRange, StepRangeLen}\u001b[39m) at /opt/julia-1.7.3/share/julia/base/range.jl:826\n\u001b[0m  iterate(\u001b[91m::Union{LinRange, StepRangeLen}\u001b[39m, \u001b[91m::Integer\u001b[39m) at /opt/julia-1.7.3/share/julia/base/range.jl:826\n\u001b[0m  iterate(\u001b[91m::T\u001b[39m) where T<:Union{Base.KeySet{<:Any, <:Dict}, Base.ValueIterator{<:Dict}} at /opt/julia-1.7.3/share/julia/base/dict.jl:695\n\u001b[0m  ...",
     "output_type": "error",
     "traceback": [
      "MethodError: no method matching iterate(::Nothing)\n\u001b[0mClosest candidates are:\n\u001b[0m  iterate(\u001b[91m::Union{LinRange, StepRangeLen}\u001b[39m) at /opt/julia-1.7.3/share/julia/base/range.jl:826\n\u001b[0m  iterate(\u001b[91m::Union{LinRange, StepRangeLen}\u001b[39m, \u001b[91m::Integer\u001b[39m) at /opt/julia-1.7.3/share/julia/base/range.jl:826\n\u001b[0m  iterate(\u001b[91m::T\u001b[39m) where T<:Union{Base.KeySet{<:Any, <:Dict}, Base.ValueIterator{<:Dict}} at /opt/julia-1.7.3/share/julia/base/dict.jl:695\n\u001b[0m  ...",
      "",
      "Stacktrace:",
      " [1] indexed_iterate(I::Nothing, i::Int64)",
      "   @ Base ./tuple.jl:92",
      " [2] OutPutFiles(AN::AtomNum; NParamType::String, ΛParamType::String)",
      "   @ Main ~/ドキュメント/Guleria2012/Main.jl:530",
      " [3] top-level scope",
      "   @ In[17]:5",
      " [4] eval",
      "   @ ./boot.jl:373 [inlined]",
      " [5] include_string(mapexpr::typeof(REPL.softscope), mod::Module, code::String, filename::String)",
      "   @ Base ./loading.jl:1196"
     ]
    }
   ],
   "source": [
    "include(\"Main.jl\")\n",
    "AN=AtomNum(57,82,1)\n",
    "NParamType=\"SLy4\"\n",
    "ΛParamType=\"HPL2\"\n",
    "OutPutFiles(AN,NParamType=NParamType,ΛParamType=ΛParamType)"
   ]
  },
  {
   "cell_type": "code",
   "execution_count": 18,
   "id": "d70b3af7",
   "metadata": {},
   "outputs": [
    {
     "name": "stdout",
     "output_type": "stream",
     "text": [
      "diffρ=(0.142973429745498,0.0811737293922124,1.7107254017842026e-5)\n",
      "1\n"
     ]
    },
    {
     "name": "stderr",
     "output_type": "stream",
     "text": [
      "WARNING: replacing module NuclParameters.\n",
      "WARNING: replacing module LambdaParameters.\n",
      "WARNING: replacing module MyLib.\n"
     ]
    },
    {
     "name": "stdout",
     "output_type": "stream",
     "text": [
      "diffρ=(0.02371115393103421,0.019183501903411015,2.1642027812265214e-6)\n",
      "2\n",
      "diffρ=(0.00024053455848807947,0.0005252684494042693,5.081769892341129e-8)\n",
      "3\n",
      "diffρ=(3.3098586932596906e-5,4.8289429660130226e-5,9.350235476245244e-9)\n",
      "4\n",
      "diffρ=(5.769688827788891e-6,1.140535112715206e-5,1.0221989024852866e-9)\n",
      "5\n",
      "diffρ=(1.6864591558396776e-6,2.5278767451007395e-6,5.347594037497624e-10)\n"
     ]
    }
   ],
   "source": [
    "include(\"Main.jl\")\n",
    "AN=AtomNum(82,126,1)\n",
    "NParamType=\"SLy4\"\n",
    "ΛParamType=\"HPL2\"\n",
    "OutPutFiles(AN,NParamType=NParamType,ΛParamType=ΛParamType)"
   ]
  }
 ],
 "metadata": {
  "kernelspec": {
   "display_name": "Julia 1.7.3",
   "language": "julia",
   "name": "julia-1.7"
  },
  "language_info": {
   "file_extension": ".jl",
   "mimetype": "application/julia",
   "name": "julia",
   "version": "1.7.3"
  }
 },
 "nbformat": 4,
 "nbformat_minor": 5
}
