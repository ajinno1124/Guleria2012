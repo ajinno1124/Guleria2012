{
 "cells": [
  {
   "cell_type": "code",
   "execution_count": 10,
   "id": "10a0811c",
   "metadata": {},
   "outputs": [
    {
     "name": "stdout",
     "output_type": "stream",
     "text": [
      "isGuleria=0\n",
      "isCoul=3\n",
      "diffρ=(0.016131383478262897,0.015253177905564073,0.0)\n",
      "1\n",
      "diffρ=(0.0038740794236407,0.003962347720207009,0.0)\n",
      "2\n",
      "diffρ=(0.0004267779543193775,0.0004339532251782295,0.0)\n",
      "3\n",
      "diffρ=(4.6277969582062097e-5,4.752983847470129e-5,0.0)\n",
      "4\n",
      "diffρ=(6.443963769336831e-6,6.6010003723317244e-6,0.0)\n"
     ]
    },
    {
     "name": "stderr",
     "output_type": "stream",
     "text": [
      "WARNING: replacing module NuclParameters.\n",
      "WARNING: replacing module LambdaParameters.\n",
      "WARNING: replacing module MyLib.\n"
     ]
    }
   ],
   "source": [
    "include(\"Main.jl\")\n",
    "AN=AtomNum(8,8,0)\n",
    "NParamType=\"SLy4\"\n",
    "LParamType=\"NaN\"\n",
    "OutPutFiles(AN,NParamType=NParamType,LParamType=LParamType)"
   ]
  },
  {
   "cell_type": "code",
   "execution_count": 11,
   "id": "5a5dea9e",
   "metadata": {},
   "outputs": [
    {
     "name": "stdout",
     "output_type": "stream",
     "text": [
      "isGuleria=0\n",
      "isCoul=3\n",
      "diffρ=(0.024277131949352906,0.016721795062121875,0.0)\n",
      "1\n",
      "diffρ=(0.003480116331481907,0.0035862619995471997,0.0)\n",
      "2\n",
      "diffρ=(0.0006448691626597021,0.0006768390889878182,0.0)\n",
      "3\n",
      "diffρ=(0.00015549871155866839,0.00016952809864631755,0.0)\n",
      "4\n",
      "diffρ=(3.721578427533635e-5,3.8622138246762864e-5,0.0)\n",
      "5\n",
      "diffρ=(9.301352494694394e-6,1.0249195281147885e-5,0.0)\n",
      "6\n",
      "diffρ=(2.2867351046441113e-6,2.3201630980996983e-6,0.0)\n"
     ]
    },
    {
     "name": "stderr",
     "output_type": "stream",
     "text": [
      "WARNING: replacing module NuclParameters.\n",
      "WARNING: replacing module LambdaParameters.\n",
      "WARNING: replacing module MyLib.\n"
     ]
    }
   ],
   "source": [
    "include(\"Main.jl\")\n",
    "AN=AtomNum(20,20,0)\n",
    "NParamType=\"SLy4\"\n",
    "LParamType=\"NaN\"\n",
    "OutPutFiles(AN,NParamType=NParamType,LParamType=LParamType)"
   ]
  },
  {
   "cell_type": "code",
   "execution_count": 12,
   "id": "d32dc2bf",
   "metadata": {},
   "outputs": [
    {
     "name": "stdout",
     "output_type": "stream",
     "text": [
      "isGuleria=0\n",
      "isCoul=3\n",
      "diffρ=(0.04935553350990612,0.021820145702141826,0.0)\n",
      "1\n",
      "diffρ=(0.0069213761079599785,0.010490677277773863,0.0)\n",
      "2\n",
      "diffρ=(0.0009804779377084532,0.0010815409299241893,0.0)\n",
      "3\n",
      "diffρ=(0.00015173914019495565,0.00021421499155077812,0.0)\n",
      "4\n",
      "diffρ=(3.289497283481485e-5,3.316516328216197e-5,0.0)\n",
      "5\n",
      "diffρ=(4.993007630990198e-6,8.067382071334971e-6,0.0)\n"
     ]
    },
    {
     "name": "stderr",
     "output_type": "stream",
     "text": [
      "WARNING: replacing module NuclParameters.\n",
      "WARNING: replacing module LambdaParameters.\n",
      "WARNING: replacing module MyLib.\n"
     ]
    }
   ],
   "source": [
    "include(\"Main.jl\")\n",
    "AN=AtomNum(20,28,0)\n",
    "NParamType=\"SLy4\"\n",
    "LParamType=\"NaN\"\n",
    "OutPutFiles(AN,NParamType=NParamType,LParamType=LParamType)"
   ]
  },
  {
   "cell_type": "code",
   "execution_count": 13,
   "id": "e7a844e5",
   "metadata": {},
   "outputs": [
    {
     "name": "stdout",
     "output_type": "stream",
     "text": [
      "isGuleria=0\n",
      "isCoul=3\n",
      "diffρ=(0.022218137290632364,0.021989764230918047,0.0)\n",
      "1\n",
      "diffρ=(0.011584245437744986,0.013343399830635228,0.0)\n",
      "2\n",
      "diffρ=(0.0015612596664334717,0.0016501511767250236,0.0)\n",
      "3\n",
      "diffρ=(0.0002329425716150785,0.00025118121403000976,0.0)\n",
      "4\n",
      "diffρ=(3.5805756416992946e-5,3.716005429622651e-5,0.0)\n",
      "5\n",
      "diffρ=(5.349856596526054e-6,5.953718706526745e-6,0.0)\n"
     ]
    },
    {
     "name": "stderr",
     "output_type": "stream",
     "text": [
      "WARNING: replacing module NuclParameters.\n",
      "WARNING: replacing module LambdaParameters.\n",
      "WARNING: replacing module MyLib.\n"
     ]
    }
   ],
   "source": [
    "include(\"Main.jl\")\n",
    "AN=AtomNum(28,28,0)\n",
    "NParamType=\"SLy4\"\n",
    "LParamType=\"NaN\"\n",
    "OutPutFiles(AN,NParamType=NParamType,LParamType=LParamType)"
   ]
  },
  {
   "cell_type": "code",
   "execution_count": 14,
   "id": "b1291c97",
   "metadata": {},
   "outputs": [
    {
     "name": "stdout",
     "output_type": "stream",
     "text": [
      "isGuleria=0\n",
      "isCoul=3\n",
      "diffρ=(0.05823168464760018,0.043842375866439624,0.0)\n",
      "1\n",
      "diffρ=(0.00856498509843939,0.00713019923882648,0.0)\n",
      "2\n",
      "diffρ=(0.00025972261058040844,0.0002515218196760612,0.0)\n",
      "3\n",
      "diffρ=(1.6463625478614084e-5,1.4321093613716292e-5,0.0)\n",
      "4\n",
      "diffρ=(1.4245513905247172e-6,1.325326341122948e-6,0.0)\n"
     ]
    },
    {
     "name": "stderr",
     "output_type": "stream",
     "text": [
      "WARNING: replacing module NuclParameters.\n",
      "WARNING: replacing module LambdaParameters.\n",
      "WARNING: replacing module MyLib.\n"
     ]
    }
   ],
   "source": [
    "include(\"Main.jl\")\n",
    "AN=AtomNum(28,50,0)\n",
    "NParamType=\"SLy4\"\n",
    "LParamType=\"NaN\"\n",
    "OutPutFiles(AN,NParamType=NParamType,LParamType=LParamType)"
   ]
  },
  {
   "cell_type": "code",
   "execution_count": 15,
   "id": "109c5675",
   "metadata": {},
   "outputs": [
    {
     "name": "stdout",
     "output_type": "stream",
     "text": [
      "isGuleria=0\n",
      "isCoul=3\n",
      "diffρ=(0.03149882539682728,0.023856612659066148,0.0)\n",
      "1\n",
      "diffρ=(0.011603163400145503,0.014182759937235868,0.0)\n",
      "2\n",
      "diffρ=(0.0012870276254971415,0.0014076634471922725,0.0)\n",
      "3\n",
      "diffρ=(0.00017735110639897802,0.0002013219823294151,0.0)\n",
      "4\n",
      "diffρ=(3.039069838383275e-5,3.1569816123191544e-5,0.0)\n",
      "5\n",
      "diffρ=(5.923018150161576e-6,6.941942391466756e-6,0.0)\n"
     ]
    },
    {
     "name": "stderr",
     "output_type": "stream",
     "text": [
      "WARNING: replacing module NuclParameters.\n",
      "WARNING: replacing module LambdaParameters.\n",
      "WARNING: replacing module MyLib.\n"
     ]
    }
   ],
   "source": [
    "include(\"Main.jl\")\n",
    "AN=AtomNum(50,50,0)\n",
    "NParamType=\"SLy4\"\n",
    "LParamType=\"NaN\"\n",
    "OutPutFiles(AN,NParamType=NParamType,LParamType=LParamType)"
   ]
  },
  {
   "cell_type": "code",
   "execution_count": 16,
   "id": "176f626a",
   "metadata": {},
   "outputs": [
    {
     "name": "stdout",
     "output_type": "stream",
     "text": [
      "isGuleria=0\n",
      "isCoul=3\n",
      "diffρ=(0.09487658333454226,0.05930231672181574,0.0)\n",
      "1\n",
      "diffρ=(0.015112282856325144,0.012422021557841736,0.0)\n",
      "2\n",
      "diffρ=(0.00026043635678852257,0.0004502821642444258,0.0)\n",
      "3\n",
      "diffρ=(2.3891280898077034e-5,3.856225302826005e-5,0.0)\n",
      "4\n",
      "diffρ=(2.7030193669485913e-6,5.916275458035751e-6,0.0)\n"
     ]
    },
    {
     "name": "stderr",
     "output_type": "stream",
     "text": [
      "WARNING: replacing module NuclParameters.\n",
      "WARNING: replacing module LambdaParameters.\n",
      "WARNING: replacing module MyLib.\n"
     ]
    }
   ],
   "source": [
    "include(\"Main.jl\")\n",
    "AN=AtomNum(50,82,0)\n",
    "NParamType=\"SLy4\"\n",
    "LParamType=\"NaN\"\n",
    "OutPutFiles(AN,NParamType=NParamType,LParamType=LParamType)"
   ]
  },
  {
   "cell_type": "code",
   "execution_count": 17,
   "id": "f0163668",
   "metadata": {},
   "outputs": [
    {
     "name": "stdout",
     "output_type": "stream",
     "text": [
      "isGuleria=0\n",
      "isCoul=3\n",
      "diffρ=(0.15026014778479016,0.07796059262516014,0.0)\n",
      "1\n",
      "diffρ=(0.023709904469794457,0.020282083621486383,0.0)\n",
      "2\n",
      "diffρ=(0.00020496315614343223,0.000524527094853386,0.0)\n",
      "3\n",
      "diffρ=(2.8344429964523365e-5,4.8654276564147044e-5,0.0)\n",
      "4\n",
      "diffρ=(6.5216123978958105e-6,1.340862624251352e-5,0.0)\n",
      "5\n",
      "diffρ=(2.4353937464802884e-6,4.482549322668813e-6,0.0)\n"
     ]
    },
    {
     "name": "stderr",
     "output_type": "stream",
     "text": [
      "WARNING: replacing module NuclParameters.\n",
      "WARNING: replacing module LambdaParameters.\n",
      "WARNING: replacing module MyLib.\n"
     ]
    }
   ],
   "source": [
    "include(\"Main.jl\")\n",
    "AN=AtomNum(82,126,0)\n",
    "NParamType=\"SLy4\"\n",
    "LParamType=\"NaN\"\n",
    "OutPutFiles(AN,NParamType=NParamType,LParamType=LParamType)"
   ]
  },
  {
   "cell_type": "code",
   "execution_count": null,
   "id": "424fd164",
   "metadata": {},
   "outputs": [],
   "source": []
  }
 ],
 "metadata": {
  "kernelspec": {
   "display_name": "Julia 1.7.0",
   "language": "julia",
   "name": "julia-1.7"
  },
  "language_info": {
   "file_extension": ".jl",
   "mimetype": "application/julia",
   "name": "julia",
   "version": "1.7.0"
  }
 },
 "nbformat": 4,
 "nbformat_minor": 5
}
