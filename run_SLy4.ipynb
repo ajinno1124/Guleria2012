{
 "cells": [
  {
   "cell_type": "code",
   "execution_count": 79,
   "id": "98eadc0f",
   "metadata": {},
   "outputs": [],
   "source": [
    "cd(\"/home/kakuri/ドキュメント/Guleria2012\")"
   ]
  },
  {
   "cell_type": "code",
   "execution_count": 80,
   "id": "10a0811c",
   "metadata": {},
   "outputs": [
    {
     "name": "stdout",
     "output_type": "stream",
     "text": [
      "diffρ=(0.016134006027598652,0.01526526726155502,0.0)\n",
      "1\n"
     ]
    },
    {
     "name": "stderr",
     "output_type": "stream",
     "text": [
      "WARNING: replacing module NuclParameters.\n",
      "WARNING: replacing module LambdaParameters.\n",
      "WARNING: replacing module MyLib.\n"
     ]
    },
    {
     "name": "stdout",
     "output_type": "stream",
     "text": [
      "diffρ=(0.0038800964336841493,0.003968866873028206,0.0)\n",
      "2\n",
      "diffρ=(0.0004283751747169366,0.00043562374590092187,0.0)\n",
      "3\n",
      "diffρ=(4.663373520704292e-5,4.789442812353078e-5,0.0)\n",
      "4\n",
      "diffρ=(6.52251627542813e-6,6.6784924968071356e-6,0.0)\n"
     ]
    }
   ],
   "source": [
    "include(\"Main.jl\")\n",
    "AN=AtomNum(8,8,0)\n",
    "NParamType=\"SLy4\"\n",
    "LParamType=\"HPL2\"\n",
    "OutPutFiles(AN,NParamType=NParamType,LParamType=LParamType)"
   ]
  },
  {
   "cell_type": "code",
   "execution_count": 81,
   "id": "5a5dea9e",
   "metadata": {},
   "outputs": [
    {
     "name": "stdout",
     "output_type": "stream",
     "text": [
      "diffρ=(0.024270717784250426,0.01673238160422035,0.0)\n",
      "1\n"
     ]
    },
    {
     "name": "stderr",
     "output_type": "stream",
     "text": [
      "WARNING: replacing module NuclParameters.\n",
      "WARNING: replacing module LambdaParameters.\n",
      "WARNING: replacing module MyLib.\n"
     ]
    },
    {
     "name": "stdout",
     "output_type": "stream",
     "text": [
      "diffρ=(0.0034906159933843525,0.0035983379909096877,0.0)\n",
      "2\n",
      "diffρ=(0.0006488331841373475,0.0006811404399299939,0.0)\n",
      "3\n",
      "diffρ=(0.00015684428945448724,0.00017097597198931005,0.0)\n",
      "4\n",
      "diffρ=(3.762941975557634e-5,3.905044803594298e-5,0.0)\n",
      "5\n",
      "diffρ=(9.421938614265259e-6,1.0385642125929426e-5,0.0)\n",
      "6\n",
      "diffρ=(2.318832589363779e-6,2.352920708688292e-6,0.0)\n"
     ]
    }
   ],
   "source": [
    "include(\"Main.jl\")\n",
    "AN=AtomNum(20,20,0)\n",
    "NParamType=\"SLy4\"\n",
    "LParamType=\"HPL2\"\n",
    "OutPutFiles(AN,NParamType=NParamType,LParamType=LParamType)"
   ]
  },
  {
   "cell_type": "code",
   "execution_count": 82,
   "id": "d32dc2bf",
   "metadata": {},
   "outputs": [
    {
     "name": "stdout",
     "output_type": "stream",
     "text": [
      "diffρ=(0.049335274762575765,0.021832587207433793,0.0)\n",
      "1\n"
     ]
    },
    {
     "name": "stderr",
     "output_type": "stream",
     "text": [
      "WARNING: replacing module NuclParameters.\n",
      "WARNING: replacing module LambdaParameters.\n",
      "WARNING: replacing module MyLib.\n"
     ]
    },
    {
     "name": "stdout",
     "output_type": "stream",
     "text": [
      "diffρ=(0.006929576579974609,0.010509021987937382,0.0)\n",
      "2\n",
      "diffρ=(0.0009847570944453642,0.0010868502209571238,0.0)\n",
      "3\n",
      "diffρ=(0.0001528888313973365,0.00021579520421897828,0.0)\n",
      "4\n",
      "diffρ=(3.322256071920237e-5,3.352205137284169e-5,0.0)\n",
      "5\n",
      "diffρ=(5.058927668857961e-6,8.170140407378727e-6,0.0)\n"
     ]
    }
   ],
   "source": [
    "include(\"Main.jl\")\n",
    "AN=AtomNum(20,28,0)\n",
    "NParamType=\"SLy4\"\n",
    "LParamType=\"HPL2\"\n",
    "OutPutFiles(AN,NParamType=NParamType,LParamType=LParamType)"
   ]
  },
  {
   "cell_type": "code",
   "execution_count": 83,
   "id": "e7a844e5",
   "metadata": {},
   "outputs": [
    {
     "name": "stdout",
     "output_type": "stream",
     "text": [
      "diffρ=(0.022226459220128558,0.02200862108484966,0.0)\n",
      "1\n"
     ]
    },
    {
     "name": "stderr",
     "output_type": "stream",
     "text": [
      "WARNING: replacing module NuclParameters.\n",
      "WARNING: replacing module LambdaParameters.\n",
      "WARNING: replacing module MyLib.\n"
     ]
    },
    {
     "name": "stdout",
     "output_type": "stream",
     "text": [
      "diffρ=(0.01160779662680003,0.013368770472071743,0.0)\n",
      "2\n",
      "diffρ=(0.0015679790212911509,0.001657295240796768,0.0)\n",
      "3\n",
      "diffρ=(0.00023460814882268695,0.00025298849035430024,0.0)\n",
      "4\n",
      "diffρ=(3.617048747552359e-5,3.7551086598708585e-5,0.0)\n",
      "5\n",
      "diffρ=(5.4255090620809925e-6,6.038830966297769e-6,0.0)\n"
     ]
    }
   ],
   "source": [
    "include(\"Main.jl\")\n",
    "AN=AtomNum(28,28,0)\n",
    "NParamType=\"SLy4\"\n",
    "LParamType=\"HPL2\"\n",
    "OutPutFiles(AN,NParamType=NParamType,LParamType=LParamType)"
   ]
  },
  {
   "cell_type": "code",
   "execution_count": 84,
   "id": "b1291c97",
   "metadata": {},
   "outputs": [
    {
     "name": "stdout",
     "output_type": "stream",
     "text": [
      "diffρ=(0.05819526727693967,0.043840552416939,0.0)\n",
      "1\n"
     ]
    },
    {
     "name": "stderr",
     "output_type": "stream",
     "text": [
      "WARNING: replacing module NuclParameters.\n",
      "WARNING: replacing module LambdaParameters.\n",
      "WARNING: replacing module MyLib.\n"
     ]
    },
    {
     "name": "stdout",
     "output_type": "stream",
     "text": [
      "diffρ=(0.008560902728669138,0.007133696592699071,0.0)\n",
      "2\n",
      "diffρ=(0.00026043030333909367,0.0002523895752001622,0.0)\n",
      "3\n",
      "diffρ=(1.6548804664724e-5,1.4446278109582186e-5,0.0)\n",
      "4\n",
      "diffρ=(1.4394657989969577e-6,1.3384405111374106e-6,0.0)\n"
     ]
    }
   ],
   "source": [
    "include(\"Main.jl\")\n",
    "AN=AtomNum(28,50,0)\n",
    "NParamType=\"SLy4\"\n",
    "LParamType=\"HPL2\"\n",
    "OutPutFiles(AN,NParamType=NParamType,LParamType=LParamType)"
   ]
  },
  {
   "cell_type": "code",
   "execution_count": 85,
   "id": "109c5675",
   "metadata": {},
   "outputs": [
    {
     "name": "stdout",
     "output_type": "stream",
     "text": [
      "diffρ=(0.03150276052302153,0.023880923641945606,0.0)\n",
      "1\n"
     ]
    },
    {
     "name": "stderr",
     "output_type": "stream",
     "text": [
      "WARNING: replacing module NuclParameters.\n",
      "WARNING: replacing module LambdaParameters.\n",
      "WARNING: replacing module MyLib.\n"
     ]
    },
    {
     "name": "stdout",
     "output_type": "stream",
     "text": [
      "diffρ=(0.011628835163965505,0.014210802131787038,0.0)\n",
      "2\n",
      "diffρ=(0.0012941906123403514,0.0014153911582657133,0.0)\n",
      "3\n",
      "diffρ=(0.00017892179946806233,0.0002030722560521635,0.0)\n",
      "4\n",
      "diffρ=(3.0719393518956186e-5,3.192010179513903e-5,0.0)\n",
      "5\n",
      "diffρ=(5.986552696397086e-6,6.99078969973827e-6,0.0)\n"
     ]
    }
   ],
   "source": [
    "include(\"Main.jl\")\n",
    "AN=AtomNum(50,50,0)\n",
    "NParamType=\"SLy4\"\n",
    "LParamType=\"HPL2\"\n",
    "OutPutFiles(AN,NParamType=NParamType,LParamType=LParamType)"
   ]
  },
  {
   "cell_type": "code",
   "execution_count": 86,
   "id": "176f626a",
   "metadata": {},
   "outputs": [
    {
     "name": "stdout",
     "output_type": "stream",
     "text": [
      "diffρ=(0.09482207935295688,0.059298651578641975,0.0)\n",
      "1\n"
     ]
    },
    {
     "name": "stderr",
     "output_type": "stream",
     "text": [
      "WARNING: replacing module NuclParameters.\n",
      "WARNING: replacing module LambdaParameters.\n",
      "WARNING: replacing module MyLib.\n"
     ]
    },
    {
     "name": "stdout",
     "output_type": "stream",
     "text": [
      "diffρ=(0.015105200012859869,0.012422294336357595,0.0)\n",
      "2\n",
      "diffρ=(0.0002612126416559893,0.0004518411790619825,0.0)\n",
      "3\n",
      "diffρ=(2.406233540086911e-5,3.881580549858943e-5,0.0)\n",
      "4\n",
      "diffρ=(2.7306118207529922e-6,5.970945494156332e-6,0.0)\n"
     ]
    }
   ],
   "source": [
    "include(\"Main.jl\")\n",
    "AN=AtomNum(50,82,0)\n",
    "NParamType=\"SLy4\"\n",
    "LParamType=\"HPL2\"\n",
    "OutPutFiles(AN,NParamType=NParamType,LParamType=LParamType)"
   ]
  },
  {
   "cell_type": "code",
   "execution_count": 87,
   "id": "f0163668",
   "metadata": {},
   "outputs": [
    {
     "name": "stdout",
     "output_type": "stream",
     "text": [
      "diffρ=(0.1501746372619358,0.07795358101530597,0.0)\n",
      "1\n"
     ]
    },
    {
     "name": "stderr",
     "output_type": "stream",
     "text": [
      "WARNING: replacing module NuclParameters.\n",
      "WARNING: replacing module LambdaParameters.\n",
      "WARNING: replacing module MyLib.\n"
     ]
    },
    {
     "name": "stdout",
     "output_type": "stream",
     "text": [
      "diffρ=(0.023696332925765524,0.02027828826071428,0.0)\n",
      "2\n",
      "diffρ=(0.00020594875195944563,0.0005265570637061799,0.0)\n",
      "3\n",
      "diffρ=(2.8568980282997417e-5,4.8936526316086756e-5,0.0)\n",
      "4\n",
      "diffρ=(6.560014091722657e-6,1.3486189896181586e-5,0.0)\n",
      "5\n",
      "diffρ=(2.4474120876396606e-6,4.482251619766165e-6,0.0)\n"
     ]
    }
   ],
   "source": [
    "include(\"Main.jl\")\n",
    "AN=AtomNum(82,126,0)\n",
    "NParamType=\"SLy4\"\n",
    "LParamType=\"HPL2\"\n",
    "OutPutFiles(AN,NParamType=NParamType,LParamType=LParamType)"
   ]
  },
  {
   "cell_type": "code",
   "execution_count": null,
   "id": "3b0b3307",
   "metadata": {},
   "outputs": [],
   "source": []
  }
 ],
 "metadata": {
  "kernelspec": {
   "display_name": "Julia 1.7.3",
   "language": "julia",
   "name": "julia-1.7"
  },
  "language_info": {
   "file_extension": ".jl",
   "mimetype": "application/julia",
   "name": "julia",
   "version": "1.7.3"
  }
 },
 "nbformat": 4,
 "nbformat_minor": 5
}
