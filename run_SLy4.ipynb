{
 "cells": [
  {
   "cell_type": "code",
   "execution_count": 88,
   "id": "dd2a108e",
   "metadata": {},
   "outputs": [],
   "source": [
    "cd(\"/home/kakuri/ドキュメント/Guleria2012\")"
   ]
  },
  {
   "cell_type": "code",
   "execution_count": 89,
   "id": "10a0811c",
   "metadata": {},
   "outputs": [
    {
     "name": "stdout",
     "output_type": "stream",
     "text": [
      "diffρ=(0.0161313834782661,0.015253177905564588,0.0)\n",
      "1\n"
     ]
    },
    {
     "name": "stderr",
     "output_type": "stream",
     "text": [
      "WARNING: replacing module NuclParameters.\n",
      "WARNING: replacing module LambdaParameters.\n",
      "WARNING: replacing module MyLib.\n",
      "WARNING: redefinition of constant Nmesh. This may fail, cause incorrect answers, or produce other errors.\n",
      "WARNING: redefinition of constant Nmatch. This may fail, cause incorrect answers, or produce other errors.\n"
     ]
    },
    {
     "name": "stdout",
     "output_type": "stream",
     "text": [
      "diffρ=(0.003874079423640406,0.003962347720205157,0.0)\n",
      "2\n",
      "diffρ=(0.0004267779543190106,0.00043395322517800086,0.0)\n",
      "3\n",
      "diffρ=(4.627796958206566e-5,4.752983847417774e-5,0.0)\n",
      "4\n",
      "diffρ=(6.443963769415891e-6,6.601000372233435e-6,0.0)\n"
     ]
    }
   ],
   "source": [
    "include(\"Main.jl\")\n",
    "AN=AtomNum(8,8,0)\n",
    "NParamType=\"SLy4\"\n",
    "LParamType=\"HPL2\"\n",
    "OutPutFiles(AN,NParamType=NParamType,LParamType=LParamType)"
   ]
  },
  {
   "cell_type": "code",
   "execution_count": 90,
   "id": "5a5dea9e",
   "metadata": {},
   "outputs": [
    {
     "name": "stdout",
     "output_type": "stream",
     "text": [
      "diffρ=(0.024277131949352826,0.016721795062121382,0.0)\n",
      "1\n"
     ]
    },
    {
     "name": "stderr",
     "output_type": "stream",
     "text": [
      "WARNING: replacing module NuclParameters.\n",
      "WARNING: replacing module LambdaParameters.\n",
      "WARNING: replacing module MyLib.\n"
     ]
    },
    {
     "name": "stdout",
     "output_type": "stream",
     "text": [
      "diffρ=(0.0034801163314819293,0.003586261999546951,0.0)\n",
      "2\n",
      "diffρ=(0.0006448691626595991,0.0006768390889876144,0.0)\n",
      "3\n",
      "diffρ=(0.00015549871155851074,0.0001695280986463764,0.0)\n",
      "4\n",
      "diffρ=(3.721578427549567e-5,3.862213824659117e-5,0.0)\n",
      "5\n",
      "diffρ=(9.30135249459727e-6,1.0249195281443503e-5,0.0)\n",
      "6\n",
      "diffρ=(2.2867351049776974e-6,2.3201630980546523e-6,0.0)\n"
     ]
    }
   ],
   "source": [
    "include(\"Main.jl\")\n",
    "AN=AtomNum(20,20,0)\n",
    "NParamType=\"SLy4\"\n",
    "LParamType=\"HPL2\"\n",
    "OutPutFiles(AN,NParamType=NParamType,LParamType=LParamType)"
   ]
  },
  {
   "cell_type": "code",
   "execution_count": 91,
   "id": "d32dc2bf",
   "metadata": {},
   "outputs": [
    {
     "name": "stdout",
     "output_type": "stream",
     "text": [
      "diffρ=(0.049355533509906416,0.02182014570214209,0.0)\n",
      "1\n"
     ]
    },
    {
     "name": "stderr",
     "output_type": "stream",
     "text": [
      "WARNING: replacing module NuclParameters.\n",
      "WARNING: replacing module LambdaParameters.\n",
      "WARNING: replacing module MyLib.\n"
     ]
    },
    {
     "name": "stdout",
     "output_type": "stream",
     "text": [
      "diffρ=(0.0069213761079571536,0.010490677277775327,0.0)\n",
      "2\n",
      "diffρ=(0.0009804779377086505,0.0010815409299248723,0.0)\n",
      "3\n",
      "diffρ=(0.00015173914019493644,0.00021421499155075357,0.0)\n",
      "4\n",
      "diffρ=(3.289497283479455e-5,3.316516328236409e-5,0.0)\n",
      "5\n",
      "diffρ=(4.993007631145927e-6,8.067382071363067e-6,0.0)\n"
     ]
    }
   ],
   "source": [
    "include(\"Main.jl\")\n",
    "AN=AtomNum(20,28,0)\n",
    "NParamType=\"SLy4\"\n",
    "LParamType=\"HPL2\"\n",
    "OutPutFiles(AN,NParamType=NParamType,LParamType=LParamType)"
   ]
  },
  {
   "cell_type": "code",
   "execution_count": 92,
   "id": "e7a844e5",
   "metadata": {},
   "outputs": [
    {
     "name": "stdout",
     "output_type": "stream",
     "text": [
      "diffρ=(0.022218137290632364,0.021989764230918113,0.0)\n",
      "1\n"
     ]
    },
    {
     "name": "stderr",
     "output_type": "stream",
     "text": [
      "WARNING: replacing module NuclParameters.\n",
      "WARNING: replacing module LambdaParameters.\n",
      "WARNING: replacing module MyLib.\n"
     ]
    },
    {
     "name": "stdout",
     "output_type": "stream",
     "text": [
      "diffρ=(0.01158424543774374,0.013343399830634685,0.0)\n",
      "2\n",
      "diffρ=(0.001561259666432959,0.0016501511767251318,0.0)\n",
      "3\n",
      "diffρ=(0.00023294257161507044,0.00025118121402982534,0.0)\n",
      "4\n",
      "diffρ=(3.580575641690922e-5,3.716005429644368e-5,0.0)\n",
      "5\n",
      "diffρ=(5.3498565966385645e-6,5.953718706532673e-6,0.0)\n"
     ]
    }
   ],
   "source": [
    "include(\"Main.jl\")\n",
    "AN=AtomNum(28,28,0)\n",
    "NParamType=\"SLy4\"\n",
    "LParamType=\"HPL2\"\n",
    "OutPutFiles(AN,NParamType=NParamType,LParamType=LParamType)"
   ]
  },
  {
   "cell_type": "code",
   "execution_count": 93,
   "id": "b1291c97",
   "metadata": {},
   "outputs": [
    {
     "name": "stdout",
     "output_type": "stream",
     "text": [
      "diffρ=(0.05823168464760136,0.04384237586643916,0.0)\n",
      "1\n"
     ]
    },
    {
     "name": "stderr",
     "output_type": "stream",
     "text": [
      "WARNING: replacing module NuclParameters.\n",
      "WARNING: replacing module LambdaParameters.\n",
      "WARNING: replacing module MyLib.\n"
     ]
    },
    {
     "name": "stdout",
     "output_type": "stream",
     "text": [
      "diffρ=(0.008564985098438933,0.0071301992388241,0.0)\n",
      "2\n",
      "diffρ=(0.00025972261058124506,0.0002515218196761776,0.0)\n",
      "3\n",
      "diffρ=(1.6463625478433487e-5,1.4321093613733777e-5,0.0)\n",
      "4\n",
      "diffρ=(1.4245513906404492e-6,1.3253263410999848e-6,0.0)\n"
     ]
    }
   ],
   "source": [
    "include(\"Main.jl\")\n",
    "AN=AtomNum(28,50,0)\n",
    "NParamType=\"SLy4\"\n",
    "LParamType=\"HPL2\"\n",
    "OutPutFiles(AN,NParamType=NParamType,LParamType=LParamType)"
   ]
  },
  {
   "cell_type": "code",
   "execution_count": 94,
   "id": "109c5675",
   "metadata": {},
   "outputs": [
    {
     "name": "stdout",
     "output_type": "stream",
     "text": [
      "diffρ=(0.031498825396827315,0.023856612659066186,0.0)\n",
      "1\n"
     ]
    },
    {
     "name": "stderr",
     "output_type": "stream",
     "text": [
      "WARNING: replacing module NuclParameters.\n",
      "WARNING: replacing module LambdaParameters.\n",
      "WARNING: replacing module MyLib.\n"
     ]
    },
    {
     "name": "stdout",
     "output_type": "stream",
     "text": [
      "diffρ=(0.011603163400141456,0.014182759937235605,0.0)\n",
      "2\n",
      "diffρ=(0.0012870276254956508,0.0014076634471935291,0.0)\n",
      "3\n",
      "diffρ=(0.00017735110640004575,0.00020132198232806423,0.0)\n",
      "4\n",
      "diffρ=(3.039069838208633e-5,3.156981612440676e-5,0.0)\n",
      "5\n",
      "diffρ=(5.923018151760568e-6,6.941942390042616e-6,0.0)\n"
     ]
    }
   ],
   "source": [
    "include(\"Main.jl\")\n",
    "AN=AtomNum(50,50,0)\n",
    "NParamType=\"SLy4\"\n",
    "LParamType=\"HPL2\"\n",
    "OutPutFiles(AN,NParamType=NParamType,LParamType=LParamType)"
   ]
  },
  {
   "cell_type": "code",
   "execution_count": 95,
   "id": "176f626a",
   "metadata": {},
   "outputs": [
    {
     "name": "stdout",
     "output_type": "stream",
     "text": [
      "diffρ=(0.09487658333454328,0.059302316721815865,0.0)\n",
      "1\n"
     ]
    },
    {
     "name": "stderr",
     "output_type": "stream",
     "text": [
      "WARNING: replacing module NuclParameters.\n",
      "WARNING: replacing module LambdaParameters.\n",
      "WARNING: replacing module MyLib.\n"
     ]
    },
    {
     "name": "stdout",
     "output_type": "stream",
     "text": [
      "diffρ=(0.015112282856321178,0.012422021557847364,0.0)\n",
      "2\n",
      "diffρ=(0.0002604363567880376,0.0004502821642447969,0.0)\n",
      "3\n",
      "diffρ=(2.389128089803406e-5,3.8562253028429455e-5,0.0)\n",
      "4\n",
      "diffρ=(2.703019366951345e-6,5.916275458159774e-6,0.0)\n"
     ]
    }
   ],
   "source": [
    "include(\"Main.jl\")\n",
    "AN=AtomNum(50,82,0)\n",
    "NParamType=\"SLy4\"\n",
    "LParamType=\"HPL2\"\n",
    "OutPutFiles(AN,NParamType=NParamType,LParamType=LParamType)"
   ]
  },
  {
   "cell_type": "code",
   "execution_count": 96,
   "id": "f0163668",
   "metadata": {},
   "outputs": [
    {
     "name": "stdout",
     "output_type": "stream",
     "text": [
      "diffρ=(0.15026014778479124,0.07796059262515816,0.0)\n",
      "1\n"
     ]
    },
    {
     "name": "stderr",
     "output_type": "stream",
     "text": [
      "WARNING: replacing module NuclParameters.\n",
      "WARNING: replacing module LambdaParameters.\n",
      "WARNING: replacing module MyLib.\n"
     ]
    },
    {
     "name": "stdout",
     "output_type": "stream",
     "text": [
      "diffρ=(0.023709904469800282,0.020282083621482927,0.0)\n",
      "2\n",
      "diffρ=(0.00020496315614399637,0.0005245270948525616,0.0)\n",
      "3\n",
      "diffρ=(2.834442996479071e-5,4.8654276563745916e-5,0.0)\n",
      "4\n",
      "diffρ=(6.521612397757338e-6,1.3408626242606455e-5,0.0)\n",
      "5\n",
      "diffρ=(2.4353937463703287e-6,4.482549322793372e-6,0.0)\n"
     ]
    }
   ],
   "source": [
    "include(\"Main.jl\")\n",
    "AN=AtomNum(82,126,0)\n",
    "NParamType=\"SLy4\"\n",
    "LParamType=\"HPL2\"\n",
    "OutPutFiles(AN,NParamType=NParamType,LParamType=LParamType)"
   ]
  },
  {
   "cell_type": "code",
   "execution_count": null,
   "id": "424fd164",
   "metadata": {},
   "outputs": [],
   "source": []
  }
 ],
 "metadata": {
  "kernelspec": {
   "display_name": "Julia 1.7.3",
   "language": "julia",
   "name": "julia-1.7"
  },
  "language_info": {
   "file_extension": ".jl",
   "mimetype": "application/julia",
   "name": "julia",
   "version": "1.7.3"
  }
 },
 "nbformat": 4,
 "nbformat_minor": 5
}
