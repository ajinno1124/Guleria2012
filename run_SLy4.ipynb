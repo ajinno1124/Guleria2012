{
 "cells": [
  {
   "cell_type": "code",
   "execution_count": 25,
   "id": "10a0811c",
   "metadata": {},
   "outputs": [
    {
     "name": "stdout",
     "output_type": "stream",
     "text": [
      "diffρ=(0.016134006027599176,0.015265267261555021,0.0)\n",
      "1\n",
      "diffρ=(0.0038800964336846975,0.003968866873027134,0.0)\n",
      "2\n",
      "diffρ=(0.00042837517471771316,0.00043562374590097857,0.0)\n",
      "3\n",
      "diffρ=(4.663373520735774e-5,4.7894428123696616e-5,0.0)\n",
      "4\n",
      "diffρ=(6.522516275530729e-6,6.678492496920921e-6,0.0)\n"
     ]
    },
    {
     "name": "stderr",
     "output_type": "stream",
     "text": [
      "WARNING: replacing module NuclParameters.\n",
      "WARNING: redefinition of constant lmax. This may fail, cause incorrect answers, or produce other errors.\n",
      "WARNING: replacing module LambdaParameters.\n",
      "WARNING: replacing module MyLib.\n"
     ]
    }
   ],
   "source": [
    "include(\"Main.jl\")\n",
    "AN=AtomNum(8,8,0)\n",
    "NParamType=\"SLy4\"\n",
    "LParamType=\"HPL2\"\n",
    "OutPutFiles(AN,NParamType=NParamType,LParamType=LParamType)"
   ]
  },
  {
   "cell_type": "code",
   "execution_count": 26,
   "id": "5a5dea9e",
   "metadata": {},
   "outputs": [
    {
     "name": "stdout",
     "output_type": "stream",
     "text": [
      "diffρ=(0.02427071778425043,0.016732381604220786,0.0)\n",
      "1\n",
      "diffρ=(0.0034906159933833277,0.0035983379909097987,0.0)\n",
      "2\n",
      "diffρ=(0.0006488331841381472,0.0006811404399307435,0.0)\n",
      "3\n",
      "diffρ=(0.00015684428945534208,0.00017097597198933773,0.0)\n",
      "4\n",
      "diffρ=(3.762941975547585e-5,3.905044803625743e-5,0.0)\n",
      "5\n",
      "diffρ=(9.421938614522658e-6,1.038564212586787e-5,0.0)\n",
      "6\n",
      "diffρ=(2.318832589171521e-6,2.3529207088685638e-6,0.0)\n"
     ]
    },
    {
     "name": "stderr",
     "output_type": "stream",
     "text": [
      "WARNING: replacing module NuclParameters.\n",
      "WARNING: replacing module LambdaParameters.\n",
      "WARNING: replacing module MyLib.\n"
     ]
    }
   ],
   "source": [
    "include(\"Main.jl\")\n",
    "AN=AtomNum(20,20,0)\n",
    "NParamType=\"SLy4\"\n",
    "LParamType=\"HPL2\"\n",
    "OutPutFiles(AN,NParamType=NParamType,LParamType=LParamType)"
   ]
  },
  {
   "cell_type": "code",
   "execution_count": 27,
   "id": "d32dc2bf",
   "metadata": {},
   "outputs": [
    {
     "name": "stdout",
     "output_type": "stream",
     "text": [
      "diffρ=(0.04933527476257543,0.021832587207433245,0.0)\n",
      "1\n",
      "diffρ=(0.006929576579977927,0.010509021987934221,0.0)\n",
      "2\n",
      "diffρ=(0.0009847570944476003,0.001086850220956402,0.0)\n",
      "3\n",
      "diffρ=(0.00015288883139754784,0.00021579520421924063,0.0)\n",
      "4\n",
      "diffρ=(3.322256071925781e-5,3.3522051372746025e-5,0.0)\n",
      "5\n",
      "diffρ=(5.0589276689351735e-6,8.17014040722524e-6,0.0)\n"
     ]
    },
    {
     "name": "stderr",
     "output_type": "stream",
     "text": [
      "WARNING: replacing module NuclParameters.\n",
      "WARNING: replacing module LambdaParameters.\n",
      "WARNING: replacing module MyLib.\n"
     ]
    }
   ],
   "source": [
    "include(\"Main.jl\")\n",
    "AN=AtomNum(20,28,0)\n",
    "NParamType=\"SLy4\"\n",
    "LParamType=\"HPL2\"\n",
    "OutPutFiles(AN,NParamType=NParamType,LParamType=LParamType)"
   ]
  },
  {
   "cell_type": "code",
   "execution_count": 28,
   "id": "e7a844e5",
   "metadata": {},
   "outputs": [
    {
     "name": "stdout",
     "output_type": "stream",
     "text": [
      "diffρ=(0.022226459220128267,0.02200862108484966,0.0)\n",
      "1\n",
      "diffρ=(0.011607796626801885,0.013368770472069436,0.0)\n",
      "2\n",
      "diffρ=(0.0015679790212922756,0.0016572952407971646,0.0)\n",
      "3\n",
      "diffρ=(0.0002346081488234308,0.0002529884903554424,0.0)\n",
      "4\n",
      "diffρ=(3.617048747602494e-5,3.7551086598951114e-5,0.0)\n",
      "5\n",
      "diffρ=(5.42550906204485e-6,6.038830966395492e-6,0.0)\n"
     ]
    },
    {
     "name": "stderr",
     "output_type": "stream",
     "text": [
      "WARNING: replacing module NuclParameters.\n",
      "WARNING: replacing module LambdaParameters.\n",
      "WARNING: replacing module MyLib.\n"
     ]
    }
   ],
   "source": [
    "include(\"Main.jl\")\n",
    "AN=AtomNum(28,28,0)\n",
    "NParamType=\"SLy4\"\n",
    "LParamType=\"HPL2\"\n",
    "OutPutFiles(AN,NParamType=NParamType,LParamType=LParamType)"
   ]
  },
  {
   "cell_type": "code",
   "execution_count": 29,
   "id": "b1291c97",
   "metadata": {},
   "outputs": [
    {
     "name": "stdout",
     "output_type": "stream",
     "text": [
      "diffρ=(0.05819526727694038,0.04384055241693983,0.0)\n",
      "1\n",
      "diffρ=(0.008560902728670902,0.007133696592697653,0.0)\n",
      "2\n",
      "diffρ=(0.0002604303033383608,0.0002523895752016213,0.0)\n",
      "3\n",
      "diffρ=(1.6548804664398638e-5,1.4446278109727009e-5,0.0)\n",
      "4\n",
      "diffρ=(1.4394657990322422e-6,1.3384405109649456e-6,0.0)\n"
     ]
    },
    {
     "name": "stderr",
     "output_type": "stream",
     "text": [
      "WARNING: replacing module NuclParameters.\n",
      "WARNING: replacing module LambdaParameters.\n",
      "WARNING: replacing module MyLib.\n"
     ]
    }
   ],
   "source": [
    "include(\"Main.jl\")\n",
    "AN=AtomNum(28,50,0)\n",
    "NParamType=\"SLy4\"\n",
    "LParamType=\"HPL2\"\n",
    "OutPutFiles(AN,NParamType=NParamType,LParamType=LParamType)"
   ]
  },
  {
   "cell_type": "code",
   "execution_count": 30,
   "id": "109c5675",
   "metadata": {},
   "outputs": [
    {
     "name": "stdout",
     "output_type": "stream",
     "text": [
      "diffρ=(0.031502760523021575,0.023880923641945582,0.0)\n",
      "1\n",
      "diffρ=(0.011628835163969502,0.014210802131787204,0.0)\n",
      "2\n",
      "diffρ=(0.0012941906123397611,0.001415391158266697,0.0)\n",
      "3\n",
      "diffρ=(0.00017892179946884417,0.00020307225605030387,0.0)\n",
      "4\n",
      "diffρ=(3.0719393519281216e-5,3.192010179600888e-5,0.0)\n",
      "5\n",
      "diffρ=(5.986552695687892e-6,6.990789700630051e-6,0.0)\n"
     ]
    },
    {
     "name": "stderr",
     "output_type": "stream",
     "text": [
      "WARNING: replacing module NuclParameters.\n",
      "WARNING: replacing module LambdaParameters.\n",
      "WARNING: replacing module MyLib.\n"
     ]
    }
   ],
   "source": [
    "include(\"Main.jl\")\n",
    "AN=AtomNum(50,50,0)\n",
    "NParamType=\"SLy4\"\n",
    "LParamType=\"HPL2\"\n",
    "OutPutFiles(AN,NParamType=NParamType,LParamType=LParamType)"
   ]
  },
  {
   "cell_type": "code",
   "execution_count": 31,
   "id": "176f626a",
   "metadata": {},
   "outputs": [
    {
     "name": "stdout",
     "output_type": "stream",
     "text": [
      "diffρ=(0.09482207935295724,0.05929865157863902,0.0)\n",
      "1\n",
      "diffρ=(0.015105200012857811,0.012422294336362119,0.0)\n",
      "2\n",
      "diffρ=(0.0002612126416570811,0.0004518411790601953,0.0)\n",
      "3\n",
      "diffρ=(2.4062335400903043e-5,3.881580549874949e-5,0.0)\n",
      "4\n",
      "diffρ=(2.7306118207329967e-6,5.970945494319737e-6,0.0)\n"
     ]
    },
    {
     "name": "stderr",
     "output_type": "stream",
     "text": [
      "WARNING: replacing module NuclParameters.\n",
      "WARNING: replacing module LambdaParameters.\n",
      "WARNING: replacing module MyLib.\n"
     ]
    }
   ],
   "source": [
    "include(\"Main.jl\")\n",
    "AN=AtomNum(50,82,0)\n",
    "NParamType=\"SLy4\"\n",
    "LParamType=\"HPL2\"\n",
    "OutPutFiles(AN,NParamType=NParamType,LParamType=LParamType)"
   ]
  },
  {
   "cell_type": "code",
   "execution_count": 32,
   "id": "f0163668",
   "metadata": {},
   "outputs": [
    {
     "name": "stdout",
     "output_type": "stream",
     "text": [
      "diffρ=(0.15017463726193436,0.07795358101530502,0.0)\n",
      "1\n",
      "diffρ=(0.02369633292577023,0.020278288260716648,0.0)\n",
      "2\n",
      "diffρ=(0.00020594875195912256,0.0005265570637069792,0.0)\n",
      "3\n",
      "diffρ=(2.8568980282900076e-5,4.89365263150714e-5,0.0)\n",
      "4\n",
      "diffρ=(6.560014090307676e-6,1.3486189896066534e-5,0.0)\n",
      "5\n",
      "diffρ=(2.4474120890068455e-6,4.482251619052104e-6,0.0)\n"
     ]
    },
    {
     "name": "stderr",
     "output_type": "stream",
     "text": [
      "WARNING: replacing module NuclParameters.\n",
      "WARNING: replacing module LambdaParameters.\n",
      "WARNING: replacing module MyLib.\n"
     ]
    }
   ],
   "source": [
    "include(\"Main.jl\")\n",
    "AN=AtomNum(82,126,0)\n",
    "NParamType=\"SLy4\"\n",
    "LParamType=\"HPL2\"\n",
    "OutPutFiles(AN,NParamType=NParamType,LParamType=LParamType)"
   ]
  }
 ],
 "metadata": {
  "kernelspec": {
   "display_name": "Julia 1.7.0",
   "language": "julia",
   "name": "julia-1.7"
  },
  "language_info": {
   "file_extension": ".jl",
   "mimetype": "application/julia",
   "name": "julia",
   "version": "1.7.0"
  }
 },
 "nbformat": 4,
 "nbformat_minor": 5
}
