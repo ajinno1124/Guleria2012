{
 "cells": [
  {
   "cell_type": "code",
   "execution_count": 1,
   "id": "82d67779",
   "metadata": {},
   "outputs": [
    {
     "data": {
      "text/plain": [
       "5"
      ]
     },
     "execution_count": 1,
     "metadata": {},
     "output_type": "execute_result"
    }
   ],
   "source": [
    "#!/usr/bin/env python\n",
    "# -*- coding: utf-8 -*-\n",
    "\n",
    "import numpy as np\n",
    "import pandas as pd\n",
    "\n",
    "AN=np.array([\n",
    "\t\t[6,5],\n",
    "\t\t[8,7],\n",
    "\t\t[14,13],\n",
    "\t\t[23,27],\n",
    "\t\t[39,49],\n",
    "\t\t[52,81],\n",
    "\t\t[82,125]\n",
    "\t])\n",
    "AN[0][1]"
   ]
  },
  {
   "cell_type": "code",
   "execution_count": 21,
   "id": "9705cbd6",
   "metadata": {},
   "outputs": [
    {
     "name": "stdout",
     "output_type": "stream",
     "text": [
      "0\n",
      "1\n",
      "2\n",
      "3\n",
      "4\n",
      "5\n",
      "6\n"
     ]
    },
    {
     "data": {
      "text/html": [
       "<div>\n",
       "<style scoped>\n",
       "    .dataframe tbody tr th:only-of-type {\n",
       "        vertical-align: middle;\n",
       "    }\n",
       "\n",
       "    .dataframe tbody tr th {\n",
       "        vertical-align: top;\n",
       "    }\n",
       "\n",
       "    .dataframe thead th {\n",
       "        text-align: right;\n",
       "    }\n",
       "</style>\n",
       "<table border=\"1\" class=\"dataframe\">\n",
       "  <thead>\n",
       "    <tr style=\"text-align: right;\">\n",
       "      <th></th>\n",
       "      <th>Etot2/A(MeV)</th>\n",
       "      <th>Etot2(MeV)</th>\n",
       "      <th>EKin(MeV)</th>\n",
       "      <th>ESPS(MeV)</th>\n",
       "      <th>ER(MeV)</th>\n",
       "      <th>Epair(MeV)</th>\n",
       "      <th>Ecm_dir(MeV)</th>\n",
       "    </tr>\n",
       "  </thead>\n",
       "  <tbody>\n",
       "    <tr>\n",
       "      <th>0</th>\n",
       "      <td>-7.824971</td>\n",
       "      <td>-1619.769007</td>\n",
       "      <td>3824.77734</td>\n",
       "      <td>-4355.432713</td>\n",
       "      <td>1354.441321</td>\n",
       "      <td>0.0</td>\n",
       "      <td>18.568149</td>\n",
       "    </tr>\n",
       "  </tbody>\n",
       "</table>\n",
       "</div>"
      ],
      "text/plain": [
       "   Etot2/A(MeV)   Etot2(MeV)   EKin(MeV)    ESPS(MeV)      ER(MeV)  \\\n",
       "0     -7.824971 -1619.769007  3824.77734 -4355.432713  1354.441321   \n",
       "\n",
       "   Epair(MeV)  Ecm_dir(MeV)  \n",
       "0         0.0     18.568149  "
      ]
     },
     "execution_count": 21,
     "metadata": {},
     "output_type": "execute_result"
    }
   ],
   "source": [
    "for i in range(len(AN)):\n",
    "    print(i)\n",
    "    NParamType=\"SK3\"\n",
    "    df=pd.read_csv(f\"../data/Z{AN[i][0]}N{AN[i][1]}L0_{NParamType}NaN/Energy2.csv\",comment=\"#\")\n",
    "df.head()"
   ]
  },
  {
   "cell_type": "code",
   "execution_count": 24,
   "id": "30c98dba",
   "metadata": {},
   "outputs": [
    {
     "name": "stdout",
     "output_type": "stream",
     "text": [
      "3\n"
     ]
    },
    {
     "data": {
      "text/html": [
       "<div>\n",
       "<style scoped>\n",
       "    .dataframe tbody tr th:only-of-type {\n",
       "        vertical-align: middle;\n",
       "    }\n",
       "\n",
       "    .dataframe tbody tr th {\n",
       "        vertical-align: top;\n",
       "    }\n",
       "\n",
       "    .dataframe thead th {\n",
       "        text-align: right;\n",
       "    }\n",
       "</style>\n",
       "<table border=\"1\" class=\"dataframe\">\n",
       "  <thead>\n",
       "    <tr style=\"text-align: right;\">\n",
       "      <th></th>\n",
       "      <th>jLam</th>\n",
       "      <th>lLam</th>\n",
       "      <th>E/A(MeV)</th>\n",
       "      <th>Etot(MeV)</th>\n",
       "      <th>E_Kin(MeV)</th>\n",
       "      <th>E_SPS(MeV)</th>\n",
       "      <th>En_R(MeV)</th>\n",
       "      <th>El_R(MeV)</th>\n",
       "      <th>Epair(MeV)</th>\n",
       "      <th>El_Check(MeV)</th>\n",
       "    </tr>\n",
       "  </thead>\n",
       "  <tbody>\n",
       "    <tr>\n",
       "      <th>0</th>\n",
       "      <td>0.5</td>\n",
       "      <td>0</td>\n",
       "      <td>-8.403504</td>\n",
       "      <td>-134.456067</td>\n",
       "      <td>220.692528</td>\n",
       "      <td>-315.781525</td>\n",
       "      <td>72.483826</td>\n",
       "      <td>4.655645</td>\n",
       "      <td>0.0</td>\n",
       "      <td>-6.309607</td>\n",
       "    </tr>\n",
       "    <tr>\n",
       "      <th>1</th>\n",
       "      <td>0.5</td>\n",
       "      <td>1</td>\n",
       "      <td>-7.715539</td>\n",
       "      <td>-123.448622</td>\n",
       "      <td>220.692528</td>\n",
       "      <td>-315.781525</td>\n",
       "      <td>72.483826</td>\n",
       "      <td>2.619452</td>\n",
       "      <td>0.0</td>\n",
       "      <td>-4.462430</td>\n",
       "    </tr>\n",
       "    <tr>\n",
       "      <th>2</th>\n",
       "      <td>1.5</td>\n",
       "      <td>1</td>\n",
       "      <td>-7.715539</td>\n",
       "      <td>-123.448622</td>\n",
       "      <td>220.692528</td>\n",
       "      <td>-315.781525</td>\n",
       "      <td>72.483826</td>\n",
       "      <td>2.619452</td>\n",
       "      <td>0.0</td>\n",
       "      <td>-4.462430</td>\n",
       "    </tr>\n",
       "  </tbody>\n",
       "</table>\n",
       "</div>"
      ],
      "text/plain": [
       "   jLam  lLam  E/A(MeV)   Etot(MeV)  E_Kin(MeV)  E_SPS(MeV)  En_R(MeV)  \\\n",
       "0   0.5     0 -8.403504 -134.456067  220.692528 -315.781525  72.483826   \n",
       "1   0.5     1 -7.715539 -123.448622  220.692528 -315.781525  72.483826   \n",
       "2   1.5     1 -7.715539 -123.448622  220.692528 -315.781525  72.483826   \n",
       "\n",
       "   El_R(MeV)  Epair(MeV)  El_Check(MeV)  \n",
       "0   4.655645         0.0      -6.309607  \n",
       "1   2.619452         0.0      -4.462430  \n",
       "2   2.619452         0.0      -4.462430  "
      ]
     },
     "execution_count": 24,
     "metadata": {},
     "output_type": "execute_result"
    }
   ],
   "source": [
    "df=pd.read_csv(f\"../data/Z8N7L1_SK3LY1/Energy.csv\",comment=\"#\")\n",
    "print(len(df))\n",
    "df.head()"
   ]
  },
  {
   "cell_type": "code",
   "execution_count": 31,
   "id": "b850cd24",
   "metadata": {},
   "outputs": [
    {
     "data": {
      "text/plain": [
       "0    0.629961\n",
       "1    0.629961\n",
       "2    1.310371\n",
       "Name: jLam, dtype: float64"
      ]
     },
     "execution_count": 31,
     "metadata": {},
     "output_type": "execute_result"
    }
   ],
   "source": [
    "(df[\"jLam\"])**(2/3)"
   ]
  },
  {
   "cell_type": "code",
   "execution_count": 23,
   "id": "2ac5767c",
   "metadata": {},
   "outputs": [],
   "source": []
  },
  {
   "cell_type": "code",
   "execution_count": null,
   "id": "2caa29ad",
   "metadata": {},
   "outputs": [],
   "source": []
  }
 ],
 "metadata": {
  "kernelspec": {
   "display_name": "Python 3 (ipykernel)",
   "language": "python",
   "name": "python3"
  },
  "language_info": {
   "codemirror_mode": {
    "name": "ipython",
    "version": 3
   },
   "file_extension": ".py",
   "mimetype": "text/x-python",
   "name": "python",
   "nbconvert_exporter": "python",
   "pygments_lexer": "ipython3",
   "version": "3.9.7"
  }
 },
 "nbformat": 4,
 "nbformat_minor": 5
}
