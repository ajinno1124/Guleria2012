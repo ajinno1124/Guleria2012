{
 "cells": [
  {
   "cell_type": "code",
   "execution_count": 2,
   "id": "82d67779",
   "metadata": {},
   "outputs": [
    {
     "data": {
      "text/plain": [
       "5"
      ]
     },
     "execution_count": 2,
     "metadata": {},
     "output_type": "execute_result"
    }
   ],
   "source": [
    "#!/usr/bin/env python\n",
    "# -*- coding: utf-8 -*-\n",
    "\n",
    "import numpy as np\n",
    "import pandas as pd\n",
    "\n",
    "AN=np.array([\n",
    "\t\t[6,5],\n",
    "\t\t[8,7],\n",
    "\t\t[14,13],\n",
    "\t\t[23,27],\n",
    "\t\t[39,49],\n",
    "\t\t[52,81],\n",
    "\t\t[82,125]\n",
    "\t])\n",
    "AN[0][1]"
   ]
  },
  {
   "cell_type": "code",
   "execution_count": 21,
   "id": "9705cbd6",
   "metadata": {},
   "outputs": [
    {
     "name": "stdout",
     "output_type": "stream",
     "text": [
      "0\n",
      "-73.75651618059538\n",
      "1\n",
      "-114.22821128602898\n",
      "2\n",
      "-215.23420390186524\n",
      "3\n",
      "-431.2204732997495\n",
      "4\n",
      "-760.0788041136773\n",
      "5\n",
      "-1108.0019096395445\n",
      "6\n",
      "-1619.769007275111\n"
     ]
    }
   ],
   "source": [
    "for i in range(len(AN)):\n",
    "    print(i)\n",
    "    NParamType=\"SK3\"\n",
    "    df=pd.read_csv(f\"../data/Z{AN[i][0]}N{AN[i][1]}L0_{NParamType}NaN/Energy2.csv\",comment=\"#\")\n",
    "    print(df[\"Etot2(MeV)\"][0])"
   ]
  },
  {
   "cell_type": "code",
   "execution_count": null,
   "id": "30c98dba",
   "metadata": {},
   "outputs": [],
   "source": []
  }
 ],
 "metadata": {
  "kernelspec": {
   "display_name": "Python 3 (ipykernel)",
   "language": "python",
   "name": "python3"
  },
  "language_info": {
   "codemirror_mode": {
    "name": "ipython",
    "version": 3
   },
   "file_extension": ".py",
   "mimetype": "text/x-python",
   "name": "python",
   "nbconvert_exporter": "python",
   "pygments_lexer": "ipython3",
   "version": "3.9.7"
  }
 },
 "nbformat": 4,
 "nbformat_minor": 5
}
